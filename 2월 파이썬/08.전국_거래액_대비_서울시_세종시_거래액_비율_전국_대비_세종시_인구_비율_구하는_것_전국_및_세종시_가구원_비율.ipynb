{
 "cells": [
  {
   "cell_type": "code",
   "execution_count": 11,
   "metadata": {
    "ExecuteTime": {
     "end_time": "2021-03-20T09:56:45.381991Z",
     "start_time": "2021-03-20T09:56:45.012999Z"
    }
   },
   "outputs": [],
   "source": [
    "import pandas as pd\n",
    "import seaborn as sns\n",
    "from matplotlib import pyplot\n",
    "import matplotlib.pyplot as plt\n",
    "import platform\n",
    "from matplotlib import font_manager, rc\n",
    "plt.rcParams['axes.unicode_minus'] = False\n",
    "if platform.system() == 'Darwin':\n",
    "    rc('font', family = 'AppleGothic')\n",
    "elif platform.system() == 'Windows':\n",
    "    path ='C:/Windows/Fonts/malgun.ttf'\n",
    "    font_name = font_manager.FontProperties(fname=path).get_name()\n",
    "    rc('font', family=font_name)\n",
    "else:\n",
    "    print(\"Can't find your system.\")"
   ]
  },
  {
   "cell_type": "markdown",
   "metadata": {},
   "source": [
    "### 전국 거래액 대비 서울시 세종시 거래액 비율"
   ]
  },
  {
   "cell_type": "code",
   "execution_count": 12,
   "metadata": {
    "ExecuteTime": {
     "end_time": "2021-03-20T09:56:45.523587Z",
     "start_time": "2021-03-20T09:56:45.486686Z"
    }
   },
   "outputs": [],
   "source": [
    "data=pd.read_csv('./Data/평균매매가격_아파트1.csv',encoding='cp949',header=10)\n",
    "tata=pd.read_csv('./Data/아파트매매_연도별1.csv',encoding='cp949',header=10)\n",
    "jeon=data[data['지 역']=='전국'].T\n",
    "seoul=data[data['지 역']=='서울'].T\n",
    "sejong=data[data['지 역']=='세종'].T"
   ]
  },
  {
   "cell_type": "code",
   "execution_count": 13,
   "metadata": {},
   "outputs": [],
   "source": [
    "df = pd.DataFrame(columns=['year','sejong','seoul'])\n",
    "df['year'] = [2016,2017,2018,2019,2020]"
   ]
  },
  {
   "cell_type": "markdown",
   "metadata": {},
   "source": [
    "#### 전국 대비 세종시,서울시 각 년도별 거래액 비율"
   ]
  },
  {
   "cell_type": "code",
   "execution_count": 14,
   "metadata": {
    "ExecuteTime": {
     "end_time": "2021-03-20T10:03:30.212249Z",
     "start_time": "2021-03-20T10:03:30.205267Z"
    }
   },
   "outputs": [],
   "source": [
    "def toto(x,y):\n",
    "    jeon_total=0\n",
    "    sejong_total=0\n",
    "    seoul_total=0\n",
    "    for i in range(12):\n",
    "        seoul_total+=int(seoul.iloc[76+i+(y*12)].values[0])\n",
    "        jeon_total+=int(jeon.iloc[76+i+(y*12)].values[0])\n",
    "        sejong_total+=int(sejong.iloc[76+i+(y*12)].values[0])\n",
    "    jeon_al=int(tata[tata['지 역']=='전국'][x].values[0])*(jeon_total/12)\n",
    "    sejong_al=int(tata[tata['지 역']=='세종'][x].values[0])*(sejong_total/12)\n",
    "    seoul_al=int(tata[tata['지 역']=='서울'][x].values[0])*(seoul_total/12)\n",
    "    print(jeon_al)\n",
    "    print(sejong_al)\n",
    "    print(seoul_al)\n",
    "    df.iloc[[2+y]] = [None,round(((sejong_al/jeon_al)*100),2),round(((seoul_al/jeon_al)*100),2)]"
   ]
  },
  {
   "cell_type": "markdown",
   "metadata": {},
   "source": [
    "#### 2016년 전국 대비 세종시,서울시 각 년도별 거래액 비율"
   ]
  },
  {
   "cell_type": "code",
   "execution_count": 15,
   "metadata": {
    "ExecuteTime": {
     "end_time": "2021-03-20T10:03:31.785584Z",
     "start_time": "2021-03-20T10:03:31.748682Z"
    }
   },
   "outputs": [
    {
     "name": "stdout",
     "output_type": "stream",
     "text": [
      "193822233449.0\n",
      "794971599.5\n",
      "68057660837.83333\n"
     ]
    }
   ],
   "source": [
    "toto('2016년',-2)"
   ]
  },
  {
   "cell_type": "markdown",
   "metadata": {},
   "source": [
    "#### 2017년 전국 대비 세종시,서울시 각 년도별 거래액 비율"
   ]
  },
  {
   "cell_type": "code",
   "execution_count": 16,
   "metadata": {
    "ExecuteTime": {
     "end_time": "2021-03-20T10:03:38.534847Z",
     "start_time": "2021-03-20T10:03:38.499940Z"
    }
   },
   "outputs": [
    {
     "name": "stdout",
     "output_type": "stream",
     "text": [
      "176169316719.0\n",
      "1099029141.0\n",
      "62777468741.75\n"
     ]
    }
   ],
   "source": [
    "toto('2017년',-1)"
   ]
  },
  {
   "cell_type": "markdown",
   "metadata": {},
   "source": [
    "#### 2018년 전국 대비 세종시,서울시 각 년도별 거래액 비율"
   ]
  },
  {
   "cell_type": "code",
   "execution_count": 17,
   "metadata": {
    "ExecuteTime": {
     "end_time": "2021-03-20T10:03:40.255537Z",
     "start_time": "2021-03-20T10:03:40.218635Z"
    }
   },
   "outputs": [
    {
     "name": "stdout",
     "output_type": "stream",
     "text": [
      "181041252756.0\n",
      "1217090011.6666665\n",
      "67691875559.0\n"
     ]
    }
   ],
   "source": [
    "toto('2018년',0)"
   ]
  },
  {
   "cell_type": "markdown",
   "metadata": {},
   "source": [
    "#### 2019년 전국 대비 세종시,서울시 각 년도별 거래액 비율"
   ]
  },
  {
   "cell_type": "code",
   "execution_count": 18,
   "metadata": {
    "ExecuteTime": {
     "end_time": "2021-03-20T10:03:40.772739Z",
     "start_time": "2021-03-20T10:03:40.727863Z"
    }
   },
   "outputs": [
    {
     "name": "stdout",
     "output_type": "stream",
     "text": [
      "188919232722.0\n",
      "1859603335.3333333\n",
      "57744554876.666664\n"
     ]
    }
   ],
   "source": [
    "toto('2019년',1)"
   ]
  },
  {
   "cell_type": "markdown",
   "metadata": {},
   "source": [
    "#### 2020년 전국 대비 세종시,서울시 각 년도별 거래액 비율"
   ]
  },
  {
   "cell_type": "code",
   "execution_count": 19,
   "metadata": {
    "ExecuteTime": {
     "end_time": "2021-03-20T10:03:41.271336Z",
     "start_time": "2021-03-20T10:03:41.224463Z"
    }
   },
   "outputs": [
    {
     "name": "stdout",
     "output_type": "stream",
     "text": [
      "354628005808.6667\n",
      "5876632446.666667\n",
      "82661967872.0\n"
     ]
    }
   ],
   "source": [
    "toto('2020년',2)"
   ]
  },
  {
   "cell_type": "code",
   "execution_count": 21,
   "metadata": {},
   "outputs": [],
   "source": [
    "df['year'] = [2016,2017,2018,2019,2020]"
   ]
  },
  {
   "cell_type": "markdown",
   "metadata": {},
   "source": [
    "#### 전국 대비 세종시,서울시 각 년도별 거래액 그래프"
   ]
  },
  {
   "cell_type": "code",
   "execution_count": 22,
   "metadata": {
    "scrolled": true
   },
   "outputs": [
    {
     "data": {
      "image/png": "[encoded data removed]",
      "text/plain": [
       "<Figure size 504x504 with 1 Axes>"
      ]
     },
     "metadata": {
      "needs_background": "light"
     },
     "output_type": "display_data"
    }
   ],
   "source": [
    "plt.figure(figsize=(7,7))\n",
    "plt.plot(df['year'],df['sejong'],color='dodgerblue',marker='^', markersize=10,linewidth=3,label='세종특별자치시')\n",
    "plt.plot(df['year'],df['seoul'],color='slategrey',marker='o', markersize=10,linewidth=3,label='서울특별시')\n",
    "plt.xticks(df['year'],fontsize=15)\n",
    "plt.xlabel('연도',fontsize=12)\n",
    "plt.yticks(fontsize=15)\n",
    "plt.ylabel('비율 (단위:%)',fontsize=12)\n",
    "plt.title('전국 대비 세종시, 서울시 거래액 비율',fontsize=20)\n",
    "plt.legend()\n",
    "plt.show()"
   ]
  },
  {
   "cell_type": "code",
   "execution_count": null,
   "metadata": {},
   "outputs": [],
   "source": [
    "import pandas as pd "
   ]
  },
  {
   "cell_type": "markdown",
   "metadata": {},
   "source": [
    "### 전국 대비 세종시 인구 비율 ,세종시 가구 수 비교"
   ]
  },
  {
   "cell_type": "markdown",
   "metadata": {},
   "source": [
    "#### 세종시 인구 비율"
   ]
  },
  {
   "cell_type": "code",
   "execution_count": null,
   "metadata": {},
   "outputs": [],
   "source": [
    "data=pd.read_csv('./Data/인구__가구_및_주택__읍면동_2015___시군구_2016__20210320160029.csv',encoding='cp949',header=1)\n",
    "jeonguk=data[data['행정구역별(읍면동)']==\"전국\"]['총인구 (명)']\n",
    "sejong=data[data['행정구역별(읍면동)']==\"세종특별자치시\"]['총인구 (명)']\n",
    "print('전국 인구는 : '+str(jeonguk.values[0])+' 세종 인구는 : '+str(sejong.values[0]))\n",
    "print('세종시 인구비율 : '+str((sejong.values[0]/jeonguk.values[0])*100))"
   ]
  },
  {
   "cell_type": "markdown",
   "metadata": {},
   "source": [
    "#### 세종시 가구 수"
   ]
  },
  {
   "cell_type": "code",
   "execution_count": null,
   "metadata": {},
   "outputs": [],
   "source": [
    "gagu=pd.read_csv('./Data/가구원수별_가구_일반가구___읍면동_2015___시군구_2016__20210320160717.csv',encoding='cp949',header=1)\n",
    "jeonguk_gagu=gagu[gagu['행정구역별(읍면동)']=='전국']['일반가구_계']\n",
    "sejong_gagu=gagu[gagu['행정구역별(읍면동)']=='세종특별자치시']['일반가구_계']"
   ]
  },
  {
   "cell_type": "code",
   "execution_count": null,
   "metadata": {},
   "outputs": [],
   "source": [
    "print('전국 가수 수는 : '+str(jeonguk_gagu.values[0])+' 세종시 가구 수는 : '+str(sejong_gagu.values[0]))"
   ]
  },
  {
   "cell_type": "code",
   "execution_count": null,
   "metadata": {},
   "outputs": [],
   "source": [
    "print('전국 가구 당 인구는 : '+str(round(jeonguk.values[0]/jeonguk_gagu.values[0],2))+' 세종시 가구 당 인구는 : '+str(round(sejong.values[0]/sejong_gagu.values[0],2)))\n",
    "print('세종시 인구비율 : '+str(round(((sejong_gagu.values[0]/jeonguk_gagu.values[0])*100),2))+\"%\")"
   ]
  },
  {
   "cell_type": "markdown",
   "metadata": {},
   "source": [
    "### 전국 및 세종시 가구 원 비율"
   ]
  },
  {
   "cell_type": "code",
   "execution_count": null,
   "metadata": {},
   "outputs": [],
   "source": [
    "import pandas as pd\n",
    "import seaborn as sns\n",
    "from matplotlib import pyplot\n",
    "import matplotlib.pyplot as plt\n",
    "import platform\n",
    "from matplotlib import font_manager, rc\n",
    "import numpy as np\n",
    "plt.rcParams['axes.unicode_minus'] = False\n",
    "if platform.system() == 'Darwin':\n",
    "    rc('font', family = 'AppleGothic')\n",
    "elif platform.system() == 'Windows':\n",
    "    path ='C:/Windows/Fonts/malgun.ttf'\n",
    "    font_name = font_manager.FontProperties(fname=path).get_name()\n",
    "    rc('font', family=font_name)\n",
    "else:\n",
    "    print(\"Can't find your system.\")"
   ]
  },
  {
   "cell_type": "code",
   "execution_count": null,
   "metadata": {},
   "outputs": [],
   "source": [
    "data=pd.read_csv('./Data/가구원수별_가구_일반가구___읍면동_2015___시군구_2016__20210320160717.csv',encoding='cp949',header=1)\n",
    "jeonguk=data[data['행정구역별(읍면동)']=='전국']\n",
    "list_index_oul=list(jeonguk.T.index[2:])#1인가구~~7인이상\n",
    "value_pop_oul=list(jeonguk.T.iloc[2:][0])#그들의 값"
   ]
  },
  {
   "cell_type": "code",
   "execution_count": null,
   "metadata": {},
   "outputs": [],
   "source": [
    "sejong=data[data['행정구역별(읍면동)']=='세종특별자치시']\n",
    "sejong=sejong.T\n",
    "list_index_jong=list(sejong.index[2:])\n",
    "value_pop_jong=list(sejong.iloc[2:][11])"
   ]
  },
  {
   "cell_type": "markdown",
   "metadata": {},
   "source": [
    "#### 2019년 전국 가구원 수 비율"
   ]
  },
  {
   "cell_type": "code",
   "execution_count": null,
   "metadata": {},
   "outputs": [],
   "source": [
    "colors = sns.color_palette('Blues_r',len(value_pop_oul))\n",
    "labels = list_index_oul \n",
    "frequency = value_pop_oul\n",
    "fig = plt.figure(figsize=(9,9)) \n",
    "fig.set_facecolor('white') \n",
    "ax = fig.add_subplot() \n",
    "pie = ax.pie(frequency, \n",
    "        startangle=90,\n",
    "       counterclock=False, \n",
    "       colors = colors, \n",
    "        explode = [0,0,0,0,0,0,0])\n",
    "total = np.sum(frequency) \n",
    "threshold = 5 \n",
    "sum_pct = 0 \n",
    "bbox_props = dict(boxstyle='square',fc='w',ec='w',alpha=0)\n",
    "config = dict(arrowprops=dict(arrowstyle='-'),bbox=bbox_props,va='center')\n",
    "for i,l in enumerate(labels):\n",
    "    ang1, ang2 = ax.patches[i].theta1, ax.patches[i].theta2 \n",
    "    center, r = ax.patches[i].center, ax.patches[i].r \n",
    "    if i < len(labels) - 1:\n",
    "        sum_pct += float(f'{frequency[i]/total*100:.2f}')\n",
    "        text = f'{frequency[i]/total*100:.2f}%'\n",
    "    else: \n",
    "        text = f'{100-sum_pct:.2f}%'\n",
    "    if frequency[i]/total*100 < threshold and i < len(labels) - 1:\n",
    "        ang = (ang1+ang2)/2 \n",
    "        x = np.cos(np.deg2rad(ang)) \n",
    "        y = np.sin(np.deg2rad(ang)) \n",
    "        horizontalalignment = {-1: \"right\", 1: \"left\"}[int(np.sign(x))]\n",
    "        connectionstyle = \"angle,angleA=0,angleB={}\".format(ang) \n",
    "        config[\"arrowprops\"].update({\"connectionstyle\": connectionstyle}) \n",
    "        ax.annotate(text, xy=(x, y), xytext=(1.5*x+0.1, 1.2*y),\n",
    "                    horizontalalignment=horizontalalignment, **config, fontsize=15)\n",
    "    elif frequency[i]/total*100 < threshold and i >= len(labels) - 1:\n",
    "        ang = (ang1+ang2)/2\n",
    "        x = np.cos(np.deg2rad(ang)) \n",
    "        y = np.sin(np.deg2rad(ang)) \n",
    "        horizontalalignment = {-1: \"right\", 1: \"left\"}[int(np.sign(x))]\n",
    "        connectionstyle = \"angle,angleA=0,angleB={}\".format(ang) \n",
    "        config[\"arrowprops\"].update({\"connectionstyle\": connectionstyle}) \n",
    "        ax.annotate(text, xy=(x, y), xytext=(1.5*x+0.3, 1.2*y-0.1),\n",
    "                    horizontalalignment=horizontalalignment, **config, fontsize=15)\n",
    "    else:\n",
    "        x = (r/2)*np.cos(np.pi/180*((ang1+ang2)/2)) + center[0] \n",
    "        y = (r/2)*np.sin(np.pi/180*((ang1+ang2)/2)) + center[1] \n",
    "        ax.text(x,y,text,ha='center',va='center',fontsize=20)\n",
    "plt.title('2019년 전국 가구원 수 비율', fontsize=18,pad=20)\n",
    "plt.legend(labels,loc='upper right') \n",
    "plt.savefig('2019년 전국 가구원 수 비율'+'.png')\n",
    "plt.show()"
   ]
  },
  {
   "cell_type": "markdown",
   "metadata": {},
   "source": [
    "#### 2019년 세종 가구원 수 비율"
   ]
  },
  {
   "cell_type": "code",
   "execution_count": null,
   "metadata": {},
   "outputs": [],
   "source": [
    "colors = sns.color_palette('Greens_r',len(list_index_jong))\n",
    "labels = list_index_jong \n",
    "frequency = value_pop_jong\n",
    "fig = plt.figure(figsize=(9,9)) \n",
    "fig.set_facecolor('white') \n",
    "ax = fig.add_subplot() \n",
    "pie = ax.pie(frequency, \n",
    "        startangle=90, \n",
    "       counterclock=False, \n",
    "       colors = colors,\n",
    "        explode = [0,0,0,0,0,0,0])\n",
    "total = np.sum(frequency) \n",
    "threshold = 5 \n",
    "sum_pct = 0 \n",
    "bbox_props = dict(boxstyle='square',fc='w',ec='w',alpha=0) \n",
    "config = dict(arrowprops=dict(arrowstyle='-'),bbox=bbox_props,va='center')\n",
    "for i,l in enumerate(labels):\n",
    "    ang1, ang2 = ax.patches[i].theta1, ax.patches[i].theta2 \n",
    "    center, r = ax.patches[i].center, ax.patches[i].r \n",
    "    if i < len(labels) - 1:\n",
    "        sum_pct += float(f'{frequency[i]/total*100:.2f}')\n",
    "        text = f'{frequency[i]/total*100:.2f}%'\n",
    "    else: \n",
    "        text = f'{100-sum_pct:.2f}%'\n",
    "    if frequency[i]/total*100 < threshold and i < len(labels) - 1:\n",
    "        ang = (ang1+ang2)/2 \n",
    "        x = np.cos(np.deg2rad(ang)) \n",
    "        y = np.sin(np.deg2rad(ang)) \n",
    "        horizontalalignment = {-1: \"right\", 1: \"left\"}[int(np.sign(x))]\n",
    "        connectionstyle = \"angle,angleA=0,angleB={}\".format(ang) \n",
    "        config[\"arrowprops\"].update({\"connectionstyle\": connectionstyle}) \n",
    "        ax.annotate(text, xy=(x, y), xytext=(1.5*x, 1.2*y),\n",
    "                    horizontalalignment=horizontalalignment, **config, fontsize=15)\n",
    "    elif frequency[i]/total*100 < threshold and i >= len(labels) - 1:\n",
    "        ang = (ang1+ang2)/2 \n",
    "        x = np.cos(np.deg2rad(ang)) \n",
    "        y = np.sin(np.deg2rad(ang)) \n",
    "        horizontalalignment = {-1: \"right\", 1: \"left\"}[int(np.sign(x))]\n",
    "        connectionstyle = \"angle,angleA=0,angleB={}\".format(ang)\n",
    "        config[\"arrowprops\"].update({\"connectionstyle\": connectionstyle}) \n",
    "        ax.annotate(text, xy=(x, y), xytext=(1.5*x+0.2, 1.2*y),\n",
    "                    horizontalalignment=horizontalalignment, **config, fontsize=15)\n",
    "    else:\n",
    "        x = (r/2)*np.cos(np.pi/180*((ang1+ang2)/2)) + center[0] \n",
    "        y = (r/2)*np.sin(np.pi/180*((ang1+ang2)/2)) + center[1] \n",
    "        ax.text(x,y,text,ha='center',va='center',fontsize=20)\n",
    "plt.title('2019년 세종 가구원 수 비율', fontsize=18,pad=20)\n",
    "plt.legend(labels,loc='upper right') \n",
    "plt.savefig('2019년 세종 가구원 수 비율'+'.png')\n",
    "plt.show()"
   ]
  }
 ],
 "metadata": {
  "kernelspec": {
   "display_name": "Python 3",
   "language": "python",
   "name": "python3"
  },
  "language_info": {
   "codemirror_mode": {
    "name": "ipython",
    "version": 3
   },
   "file_extension": ".py",
   "mimetype": "text/x-python",
   "name": "python",
   "nbconvert_exporter": "python",
   "pygments_lexer": "ipython3",
   "version": "3.8.5"
  },
  "toc": {
   "base_numbering": 1,
   "nav_menu": {},
   "number_sections": true,
   "sideBar": true,
   "skip_h1_title": false,
   "title_cell": "Table of Contents",
   "title_sidebar": "Contents",
   "toc_cell": false,
   "toc_position": {},
   "toc_section_display": true,
   "toc_window_display": false
  },
  "varInspector": {
   "cols": {
    "lenName": 16,
    "lenType": 16,
    "lenVar": 40
   },
   "kernels_config": {
    "python": {
     "delete_cmd_postfix": "",
     "delete_cmd_prefix": "del ",
     "library": "var_list.py",
     "varRefreshCmd": "print(var_dic_list())"
    },
    "r": {
     "delete_cmd_postfix": ") ",
     "delete_cmd_prefix": "rm(",
     "library": "var_list.r",
     "varRefreshCmd": "cat(var_dic_list()) "
    }
   },
   "types_to_exclude": [
    "module",
    "function",
    "builtin_function_or_method",
    "instance",
    "_Feature"
   ],
   "window_display": false
  }
 },
 "nbformat": 4,
 "nbformat_minor": 4
}
