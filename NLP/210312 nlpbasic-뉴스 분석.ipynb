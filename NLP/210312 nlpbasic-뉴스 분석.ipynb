{
 "cells": [
  {
   "cell_type": "markdown",
   "metadata": {},
   "source": [
    "#### NLP(자연어 처리)\n",
    "* BOW(Bag of words)\n",
    "    - Word Count : 단어수 기반의 맵을 만들어서 의미 분석\n",
    "* 단어를 수집하여 문장의 특성을 파악\n",
    "- 아버지가방에들어가신다\n",
    "- 형태소분석 의미 분석\n",
    "    - 형태소 분석기 필요 :\n",
    "    - konlpy(한국판)\n",
    "    - mecab(일본판)\n",
    "    - kkma(한국판)"
   ]
  },
  {
   "cell_type": "raw",
   "metadata": {},
   "source": [
    "<영어> : 영어는 띄어쓰기만 해도 구별이 쉬움\n",
    "* The president delivered his first prime-time White House address, hours after signing into law a $1.9 trillion stimulus package."
   ]
  },
  {
   "cell_type": "raw",
   "metadata": {},
   "source": [
    "<한글> : 언어자체가 어렵고, 문법 띄어쓰기에 따라 의미가 많이 달라짐(용량도 크다)\n",
    "* 값, 걋, 갗, 굉 등  조합이 어려움"
   ]
  },
  {
   "cell_type": "code",
   "execution_count": null,
   "metadata": {},
   "outputs": [],
   "source": [
    "# java 먼저 설치\n",
    "!pip install jpype1"
   ]
  },
  {
   "cell_type": "code",
   "execution_count": null,
   "metadata": {},
   "outputs": [],
   "source": [
    "!pip install konlpy"
   ]
  },
  {
   "cell_type": "code",
   "execution_count": 3,
   "metadata": {},
   "outputs": [],
   "source": [
    "from konlpy.tag import Kkma"
   ]
  },
  {
   "cell_type": "code",
   "execution_count": 4,
   "metadata": {},
   "outputs": [],
   "source": [
    "kkma=Kkma()"
   ]
  },
  {
   "cell_type": "code",
   "execution_count": 3,
   "metadata": {},
   "outputs": [
    {
     "name": "stdout",
     "output_type": "stream",
     "text": [
      "Python 3.8.5\n"
     ]
    }
   ],
   "source": [
    "!python --version"
   ]
  },
  {
   "cell_type": "code",
   "execution_count": 14,
   "metadata": {},
   "outputs": [],
   "source": [
    "# 전체 텍스트 데이터로부터 전체에 영향을 주는 단어 맵 생성\n",
    "res = \"\"\"\n",
    "미국 뉴욕증권거래소에 상장된 쿠팡 주식이 공모가인 35달러에서 40.71% 오른 49.25달러에 거래를 마감했습니다.\n",
    "현지시간 11일 쿠팡 주식은 공모가에서 81.4%나 상승한 64.50달러로 장을 시작해 장중 69달러까지 오르기도 했지만 이후 상승 폭이 줄었습니다.\n",
    "야후 파이넌스에 따르면 쿠팡의 시총은 종가 기준으로 886억5천만 달러, 우리 돈으로 약 100조4천억 원을 기록했습니다.\n",
    "쿠팡은 이번 기업공개에서 45억5천만 달러, 약 5조1천678억원을 조달한 것으로 알려져 2019년 우버 이후 기업공개 최대 실적을 기록했습니다.\n",
    "\"\"\""
   ]
  },
  {
   "cell_type": "code",
   "execution_count": 21,
   "metadata": {},
   "outputs": [],
   "source": [
    "jres=res\n",
    "p = kkma.pos(jres)\n",
    "#len(jres)"
   ]
  },
  {
   "cell_type": "code",
   "execution_count": 42,
   "metadata": {},
   "outputs": [],
   "source": [
    "def nlppos(txt):\n",
    "    p = kkma.pos(txt)\n",
    "    #print(p)\n",
    "    dictpos = {}\n",
    "    check=['NNG','NNP','NNB','NNM','VV','VA','VXV','VXA']\n",
    "    for w,pos in p:\n",
    "        if (pos in check):\n",
    "            if (w in dictpos.keys()):\n",
    "                dictpos[w]+=1\n",
    "            else :\n",
    "                dictpos[w]=1\n",
    "                #print('없음',w)\n",
    "    return dictpos"
   ]
  },
  {
   "cell_type": "code",
   "execution_count": 49,
   "metadata": {},
   "outputs": [
    {
     "name": "stdout",
     "output_type": "stream",
     "text": [
      "[('미국', 'NNP'), ('뉴욕', 'NNP'), ('증권', 'NNG'), ('거래소', 'NNG'), ('에', 'JKM'), ('상장', 'NNG'), ('되', 'XSV'), ('ㄴ', 'ETD'), ('쿠팡', 'UN'), ('주식', 'NNG'), ('이', 'JKS'), ('공모', 'NNG'), ('가인', 'NNG'), ('35', 'NR'), ('달러', 'NNG'), ('에서', 'JKM'), ('40.71', 'NR'), ('%', 'SW'), ('오르', 'VV'), ('ㄴ', 'ETD'), ('49.25', 'NR'), ('달러', 'NNG'), ('에', 'JKM'), ('거래', 'NNG'), ('를', 'JKO'), ('마감', 'NNG'), ('하', 'XSV'), ('었', 'EPT'), ('습니다', 'EFN'), ('.', 'SF'), ('현지', 'NNG'), ('시간', 'NNG'), ('11', 'NR'), ('일', 'NNM'), ('쿠', 'ECE'), ('팡', 'UN'), ('주식', 'NNG'), ('은', 'JX'), ('공모', 'NNG'), ('가', 'JKS'), ('에', 'VV'), ('서', 'ECD'), ('81.4', 'NR'), ('%', 'SW'), ('나', 'JX'), ('상승', 'NNG'), ('하', 'XSV'), ('ㄴ', 'ETD'), ('64.50', 'NR'), ('달러', 'NNG'), ('로', 'JKM'), ('장', 'NNG'), ('을', 'JKO'), ('시작하', 'VV'), ('어', 'ECS'), ('장', 'NNG'), ('중', 'NNB'), ('69', 'NR'), ('달러', 'NNG'), ('까지', 'JX'), ('오르기', 'NNG'), ('도', 'JX'), ('하', 'VV'), ('었', 'EPT'), ('지만', 'ECE'), ('이후', 'NNG'), ('상승', 'NNG'), ('폭', 'NNG'), ('이', 'JKS'), ('줄', 'VV'), ('었', 'EPT'), ('습니다', 'EFN'), ('.', 'SF'), ('야', 'NNB'), ('후', 'NNG'), ('파이넌스', 'UN'), ('에', 'JKM'), ('따르', 'VV'), ('면', 'ECE'), ('쿠팡', 'UN'), ('의', 'JKG'), ('시', 'NNG'), ('총은', 'NNG'), ('종가', 'NNG'), ('기준', 'NNG'), ('으로', 'JKM'), ('886', 'NR'), ('억', 'NR'), ('5', 'NR'), ('천만', 'NR'), ('달러', 'NNG'), (',', 'SP'), ('우리', 'NP'), ('돈', 'NNG'), ('으로', 'JKM'), ('약', 'NNG'), ('100', 'NR'), ('조', 'NR'), ('4', 'NR'), ('천', 'NR'), ('억', 'NR'), ('원', 'NNM'), ('을', 'JKO'), ('기록하', 'VV'), ('었', 'EPT'), ('습니다', 'EFN'), ('.', 'SF'), ('쿠팡', 'UN'), ('은', 'JX'), ('이번', 'NNG'), ('기업', 'NNG'), ('공개', 'NNG'), ('에서', 'JKM'), ('45', 'NR'), ('억', 'NR'), ('5', 'NR'), ('천만', 'NR'), ('달러', 'NNG'), (',', 'SP'), ('약', 'NNG'), ('5', 'NR'), ('조', 'NR'), ('1', 'NR'), ('천', 'NR'), ('678', 'NR'), ('억', 'NR'), ('원', 'NNM'), ('을', 'JKO'), ('조달', 'NNG'), ('하', 'XSV'), ('ㄴ', 'ETD'), ('것', 'NNB'), ('으로', 'JKM'), ('알리', 'VV'), ('어', 'ECS'), ('지', 'VXV'), ('어', 'ECS'), ('2019', 'NR'), ('년', 'NNM'), ('우버', 'UN'), ('이후', 'NNG'), ('기업', 'NNG'), ('공개', 'NNG'), ('최대', 'NNG'), ('실적', 'NNG'), ('을', 'JKO'), ('기록하', 'VV'), ('었', 'EPT'), ('습니다', 'EFN'), ('.', 'SF')]\n"
     ]
    },
    {
     "data": {
      "text/plain": [
       "46"
      ]
     },
     "execution_count": 49,
     "metadata": {},
     "output_type": "execute_result"
    }
   ],
   "source": [
    "dictposctpos = nlppos(res)\n",
    "len(list(dictpos))"
   ]
  },
  {
   "cell_type": "code",
   "execution_count": 24,
   "metadata": {},
   "outputs": [
    {
     "data": {
      "text/plain": [
       "{'미국': 1,\n",
       " '뉴욕': 1,\n",
       " '증권': 1,\n",
       " '거래소': 1,\n",
       " '상장': 1,\n",
       " '주식': 2,\n",
       " '공모': 2,\n",
       " '가인': 1,\n",
       " '달러': 6,\n",
       " '오르': 1,\n",
       " '거래': 1,\n",
       " '마감': 1,\n",
       " '현지': 1,\n",
       " '시간': 1,\n",
       " '일': 1,\n",
       " '에': 1,\n",
       " '상승': 2,\n",
       " '장': 2,\n",
       " '시작하': 1,\n",
       " '중': 1,\n",
       " '오르기': 1,\n",
       " '하': 1,\n",
       " '이후': 2,\n",
       " '폭': 1,\n",
       " '줄': 1,\n",
       " '야': 1,\n",
       " '후': 1,\n",
       " '따르': 1,\n",
       " '시': 1,\n",
       " '총은': 1,\n",
       " '종가': 1,\n",
       " '기준': 1,\n",
       " '돈': 1,\n",
       " '약': 2,\n",
       " '원': 2,\n",
       " '기록하': 2,\n",
       " '이번': 1,\n",
       " '기업': 2,\n",
       " '공개': 2,\n",
       " '조달': 1,\n",
       " '것': 1,\n",
       " '알리': 1,\n",
       " '지': 1,\n",
       " '년': 1,\n",
       " '최대': 1,\n",
       " '실적': 1}"
      ]
     },
     "execution_count": 24,
     "metadata": {},
     "output_type": "execute_result"
    }
   ],
   "source": [
    "dictpos"
   ]
  },
  {
   "cell_type": "code",
   "execution_count": 60,
   "metadata": {
    "scrolled": true
   },
   "outputs": [
    {
     "data": {
      "text/plain": [
       "['미국',\n",
       " '뉴욕',\n",
       " '증권',\n",
       " '거래소',\n",
       " '상장',\n",
       " '주식',\n",
       " '공모',\n",
       " '가인',\n",
       " '달러',\n",
       " '오르',\n",
       " '거래',\n",
       " '마감',\n",
       " '현지',\n",
       " '시간',\n",
       " '일',\n",
       " '에',\n",
       " '상승',\n",
       " '장',\n",
       " '시작하',\n",
       " '중',\n",
       " '오르기',\n",
       " '하',\n",
       " '이후',\n",
       " '폭',\n",
       " '줄',\n",
       " '야',\n",
       " '후',\n",
       " '따르',\n",
       " '시',\n",
       " '총은',\n",
       " '종가',\n",
       " '기준',\n",
       " '돈',\n",
       " '약',\n",
       " '원',\n",
       " '기록하',\n",
       " '이번',\n",
       " '기업',\n",
       " '공개',\n",
       " '조달',\n",
       " '것',\n",
       " '알리',\n",
       " '지',\n",
       " '년',\n",
       " '최대',\n",
       " '실적']"
      ]
     },
     "execution_count": 60,
     "metadata": {},
     "output_type": "execute_result"
    }
   ],
   "source": [
    "# 전체 단어 맵\n",
    "cols = list(dictpos.keys())\n",
    "cols"
   ]
  },
  {
   "cell_type": "code",
   "execution_count": 44,
   "metadata": {},
   "outputs": [
    {
     "data": {
      "text/plain": [
       "[('달러', 6),\n",
       " ('주식', 2),\n",
       " ('공모', 2),\n",
       " ('상승', 2),\n",
       " ('장', 2),\n",
       " ('이후', 2),\n",
       " ('약', 2),\n",
       " ('원', 2),\n",
       " ('기록하', 2),\n",
       " ('기업', 2),\n",
       " ('공개', 2),\n",
       " ('미국', 1),\n",
       " ('뉴욕', 1),\n",
       " ('증권', 1),\n",
       " ('거래소', 1),\n",
       " ('상장', 1),\n",
       " ('가인', 1),\n",
       " ('오르', 1),\n",
       " ('거래', 1),\n",
       " ('마감', 1),\n",
       " ('현지', 1),\n",
       " ('시간', 1),\n",
       " ('일', 1),\n",
       " ('에', 1),\n",
       " ('시작하', 1),\n",
       " ('중', 1),\n",
       " ('오르기', 1),\n",
       " ('하', 1),\n",
       " ('폭', 1),\n",
       " ('줄', 1),\n",
       " ('야', 1),\n",
       " ('후', 1),\n",
       " ('따르', 1),\n",
       " ('시', 1),\n",
       " ('총은', 1),\n",
       " ('종가', 1),\n",
       " ('기준', 1),\n",
       " ('돈', 1),\n",
       " ('이번', 1),\n",
       " ('조달', 1),\n",
       " ('것', 1),\n",
       " ('알리', 1),\n",
       " ('지', 1),\n",
       " ('년', 1),\n",
       " ('최대', 1),\n",
       " ('실적', 1)]"
      ]
     },
     "execution_count": 44,
     "metadata": {},
     "output_type": "execute_result"
    }
   ],
   "source": [
    "# top-down방식으로 많이 쓰는 단어로 내용을 추측할 수 있다.\n",
    "sres=sorted(dictpos.items(),key=lambda x:x[1],reverse=True)\n",
    "sres\n",
    "# word count해서 단어의 가중치를 알아보겠다"
   ]
  },
  {
   "cell_type": "code",
   "execution_count": 29,
   "metadata": {},
   "outputs": [
    {
     "data": {
      "text/plain": [
       "46"
      ]
     },
     "execution_count": 29,
     "metadata": {},
     "output_type": "execute_result"
    }
   ],
   "source": [
    "len(list(sres))"
   ]
  },
  {
   "cell_type": "code",
   "execution_count": 61,
   "metadata": {},
   "outputs": [],
   "source": [
    "# 맵 딕셔너리 생성\n",
    "wmap = {}\n",
    "for col in cols:\n",
    "    wmap[col] = 0\n",
    "    "
   ]
  },
  {
   "cell_type": "code",
   "execution_count": 62,
   "metadata": {},
   "outputs": [
    {
     "data": {
      "text/plain": [
       "{'미국': 0,\n",
       " '뉴욕': 0,\n",
       " '증권': 0,\n",
       " '거래소': 0,\n",
       " '상장': 0,\n",
       " '주식': 0,\n",
       " '공모': 0,\n",
       " '가인': 0,\n",
       " '달러': 0,\n",
       " '오르': 0,\n",
       " '거래': 0,\n",
       " '마감': 0,\n",
       " '현지': 0,\n",
       " '시간': 0,\n",
       " '일': 0,\n",
       " '에': 0,\n",
       " '상승': 0,\n",
       " '장': 0,\n",
       " '시작하': 0,\n",
       " '중': 0,\n",
       " '오르기': 0,\n",
       " '하': 0,\n",
       " '이후': 0,\n",
       " '폭': 0,\n",
       " '줄': 0,\n",
       " '야': 0,\n",
       " '후': 0,\n",
       " '따르': 0,\n",
       " '시': 0,\n",
       " '총은': 0,\n",
       " '종가': 0,\n",
       " '기준': 0,\n",
       " '돈': 0,\n",
       " '약': 0,\n",
       " '원': 0,\n",
       " '기록하': 0,\n",
       " '이번': 0,\n",
       " '기업': 0,\n",
       " '공개': 0,\n",
       " '조달': 0,\n",
       " '것': 0,\n",
       " '알리': 0,\n",
       " '지': 0,\n",
       " '년': 0,\n",
       " '최대': 0,\n",
       " '실적': 0}"
      ]
     },
     "execution_count": 62,
     "metadata": {},
     "output_type": "execute_result"
    }
   ],
   "source": [
    "wmap"
   ]
  },
  {
   "cell_type": "code",
   "execution_count": 64,
   "metadata": {},
   "outputs": [
    {
     "name": "stdout",
     "output_type": "stream",
     "text": [
      "{'미국': 1, '뉴욕': 1, '증권': 1, '거래소': 1, '상장': 1, '주식': 1, '공모': 1, '가인': 1, '달러': 1, '오르': 1, '거래': 1, '마감': 1, '현지': 1, '시간': 1, '일': 1, '에': 1, '상승': 2, '장': 2, '시작하': 1, '중': 1, '오르기': 1, '하': 1, '이후': 1, '폭': 1, '줄': 1, '야': 1, '후': 1, '따르': 1, '시': 1, '총은': 1, '종가': 1, '기준': 1, '돈': 1, '약': 1, '원': 1, '기록하': 1, '이번': 1, '기업': 2, '공개': 2, '조달': 1, '것': 1, '알리': 1, '지': 1, '년': 1, '최대': 1, '실적': 1}\n",
      "{'미국': 1, '뉴욕': 1, '증권': 1, '거래소': 1, '상장': 1, '주식': 1, '공모': 1, '가인': 1, '달러': 1, '오르': 1, '거래': 1, '마감': 1, '현지': 1, '시간': 1, '일': 1, '에': 1, '상승': 2, '장': 2, '시작하': 1, '중': 1, '오르기': 1, '하': 1, '이후': 1, '폭': 1, '줄': 1, '야': 1, '후': 1, '따르': 1, '시': 1, '총은': 1, '종가': 1, '기준': 1, '돈': 1, '약': 1, '원': 1, '기록하': 1, '이번': 1, '기업': 2, '공개': 2, '조달': 1, '것': 1, '알리': 1, '지': 1, '년': 1, '최대': 1, '실적': 1}\n",
      "[('미국', 'NNP'), ('뉴욕', 'NNP'), ('증권', 'NNG'), ('거래소', 'NNG'), ('에', 'JKM'), ('상장', 'NNG'), ('되', 'XSV'), ('ㄴ', 'ETD'), ('쿠팡', 'UN'), ('주식', 'NNG'), ('이', 'JKS'), ('공모', 'NNG'), ('가인', 'NNG'), ('35', 'NR'), ('달러', 'NNG'), ('에서', 'JKM'), ('40.71', 'NR'), ('%', 'SW'), ('오르', 'VV'), ('ㄴ', 'ETD'), ('49.25', 'NR'), ('달러', 'NNG'), ('에', 'JKM'), ('거래', 'NNG'), ('를', 'JKO'), ('마감', 'NNG'), ('하', 'XSV'), ('었', 'EPT'), ('습니다', 'EFN'), ('.', 'SF')]\n",
      "{'미국': 1, '뉴욕': 1, '증권': 1, '거래소': 1, '상장': 1, '주식': 1, '공모': 1, '가인': 1, '달러': 1, '오르': 1, '거래': 1, '마감': 1, '현지': 1, '시간': 1, '일': 1, '에': 1, '상승': 2, '장': 2, '시작하': 1, '중': 1, '오르기': 1, '하': 1, '이후': 1, '폭': 1, '줄': 1, '야': 1, '후': 1, '따르': 1, '시': 1, '총은': 1, '종가': 1, '기준': 1, '돈': 1, '약': 1, '원': 1, '기록하': 1, '이번': 1, '기업': 2, '공개': 2, '조달': 1, '것': 1, '알리': 1, '지': 1, '년': 1, '최대': 1, '실적': 1}\n",
      "[('현지', 'NNG'), ('시간', 'NNG'), ('11', 'NR'), ('일', 'NNM'), ('쿠', 'ECE'), ('팡', 'UN'), ('주식', 'NNG'), ('은', 'JX'), ('공모', 'NNG'), ('가', 'JKS'), ('에', 'VV'), ('서', 'ECD'), ('81.4', 'NR'), ('%', 'SW'), ('나', 'JX'), ('상승', 'NNG'), ('하', 'XSV'), ('ㄴ', 'ETD'), ('64.50', 'NR'), ('달러', 'NNG'), ('로', 'JKM'), ('장', 'NNG'), ('을', 'JKO'), ('시작하', 'VV'), ('어', 'ECS'), ('장', 'NNG'), ('중', 'NNB'), ('69', 'NR'), ('달러', 'NNG'), ('까지', 'JX'), ('오르기', 'NNG'), ('도', 'JX'), ('하', 'VV'), ('었', 'EPT'), ('지만', 'ECE'), ('이후', 'NNG'), ('상승', 'NNG'), ('폭', 'NNG'), ('이', 'JKS'), ('줄', 'VV'), ('었', 'EPT'), ('습니다', 'EFN'), ('.', 'SF')]\n",
      "{'미국': 1, '뉴욕': 1, '증권': 1, '거래소': 1, '상장': 1, '주식': 1, '공모': 1, '가인': 1, '달러': 1, '오르': 1, '거래': 1, '마감': 1, '현지': 1, '시간': 1, '일': 1, '에': 1, '상승': 2, '장': 2, '시작하': 1, '중': 1, '오르기': 1, '하': 1, '이후': 1, '폭': 1, '줄': 1, '야': 1, '후': 1, '따르': 1, '시': 1, '총은': 1, '종가': 1, '기준': 1, '돈': 1, '약': 1, '원': 1, '기록하': 1, '이번': 1, '기업': 2, '공개': 2, '조달': 1, '것': 1, '알리': 1, '지': 1, '년': 1, '최대': 1, '실적': 1}\n",
      "[('야', 'NNG'), ('후', 'NNG'), ('파이넌스', 'UN'), ('에', 'JKM'), ('따르', 'VV'), ('면', 'ECE'), ('쿠팡', 'UN'), ('의', 'JKG'), ('시', 'NNG'), ('총은', 'NNG'), ('종가', 'NNG'), ('기준', 'NNG'), ('으로', 'JKM'), ('886', 'NR'), ('억', 'NR'), ('5', 'NR'), ('천만', 'NR'), ('달러', 'NNG'), (',', 'SP'), ('우리', 'NP'), ('돈', 'NNG'), ('으로', 'JKM'), ('약', 'NNG'), ('100', 'NR'), ('조', 'NR'), ('4', 'NR'), ('천', 'NR'), ('억', 'NR'), ('원', 'NNM'), ('을', 'JKO'), ('기록하', 'VV'), ('었', 'EPT'), ('습니다', 'EFN'), ('.', 'SF')]\n",
      "{'미국': 1, '뉴욕': 1, '증권': 1, '거래소': 1, '상장': 1, '주식': 1, '공모': 1, '가인': 1, '달러': 1, '오르': 1, '거래': 1, '마감': 1, '현지': 1, '시간': 1, '일': 1, '에': 1, '상승': 2, '장': 2, '시작하': 1, '중': 1, '오르기': 1, '하': 1, '이후': 1, '폭': 1, '줄': 1, '야': 1, '후': 1, '따르': 1, '시': 1, '총은': 1, '종가': 1, '기준': 1, '돈': 1, '약': 1, '원': 1, '기록하': 1, '이번': 1, '기업': 2, '공개': 2, '조달': 1, '것': 1, '알리': 1, '지': 1, '년': 1, '최대': 1, '실적': 1}\n",
      "[('쿠팡', 'UN'), ('은', 'JX'), ('이번', 'NNG'), ('기업', 'NNG'), ('공개', 'NNG'), ('에서', 'JKM'), ('45', 'NR'), ('억', 'NR'), ('5', 'NR'), ('천만', 'NR'), ('달러', 'NNG'), (',', 'SP'), ('약', 'NNG'), ('5', 'NR'), ('조', 'NR'), ('1', 'NR'), ('천', 'NR'), ('678', 'NR'), ('억', 'NR'), ('원', 'NNM'), ('을', 'JKO'), ('조달', 'NNG'), ('하', 'XSV'), ('ㄴ', 'ETD'), ('것', 'NNB'), ('으로', 'JKM'), ('알리', 'VV'), ('어', 'ECS'), ('지', 'VXV'), ('어', 'ECS'), ('2019', 'NR'), ('년', 'NNM'), ('우버', 'UN'), ('이후', 'NNG'), ('기업', 'NNG'), ('공개', 'NNG'), ('최대', 'NNG'), ('실적', 'NNG'), ('을', 'JKO'), ('기록하', 'VV'), ('었', 'EPT'), ('습니다', 'EFN'), ('.', 'SF')]\n",
      "{'미국': 1, '뉴욕': 1, '증권': 1, '거래소': 1, '상장': 1, '주식': 1, '공모': 1, '가인': 1, '달러': 1, '오르': 1, '거래': 1, '마감': 1, '현지': 1, '시간': 1, '일': 1, '에': 1, '상승': 2, '장': 2, '시작하': 1, '중': 1, '오르기': 1, '하': 1, '이후': 1, '폭': 1, '줄': 1, '야': 1, '후': 1, '따르': 1, '시': 1, '총은': 1, '종가': 1, '기준': 1, '돈': 1, '약': 1, '원': 1, '기록하': 1, '이번': 1, '기업': 2, '공개': 2, '조달': 1, '것': 1, '알리': 1, '지': 1, '년': 1, '최대': 1, '실적': 1}\n"
     ]
    }
   ],
   "source": [
    "# 개별 텍스트 데이터로부터 개별 맵을 생성\n",
    "sres = res.split('\\n')\n",
    "wbag=[]\n",
    "for s in sres:\n",
    "    wm = wmap\n",
    "    print(wm)\n",
    "    if(s):\n",
    "        wm=wmap.copy()\n",
    "        sdict = nlppos(s)\n",
    "        for skey in sdict.keys():\n",
    "            wm[skey] = sdict[skey]\n",
    "        wbag.append((list(wm.values())))\n",
    "    #print(sdict)"
   ]
  },
  {
   "cell_type": "code",
   "execution_count": 66,
   "metadata": {},
   "outputs": [
    {
     "data": {
      "text/plain": [
       "<matplotlib.image.AxesImage at 0x22d35f4af10>"
      ]
     },
     "execution_count": 66,
     "metadata": {},
     "output_type": "execute_result"
    },
    {
     "data": {
      "image/png": "[encoded data removed]",
      "text/plain": [
       "<Figure size 432x288 with 1 Axes>"
      ]
     },
     "metadata": {
      "needs_background": "light"
     },
     "output_type": "display_data"
    }
   ],
   "source": [
    "import matplotlib.pyplot as plt\n",
    "import numpy as np\n",
    "plt.imshow(wbag)\n",
    "# 컴퓨터가 위의 문장을 이해하는 그림(숫자로만 파악함)"
   ]
  },
  {
   "cell_type": "code",
   "execution_count": 65,
   "metadata": {},
   "outputs": [
    {
     "data": {
      "text/html": [
       "<div>\n",
       "<style scoped>\n",
       "    .dataframe tbody tr th:only-of-type {\n",
       "        vertical-align: middle;\n",
       "    }\n",
       "\n",
       "    .dataframe tbody tr th {\n",
       "        vertical-align: top;\n",
       "    }\n",
       "\n",
       "    .dataframe thead th {\n",
       "        text-align: right;\n",
       "    }\n",
       "</style>\n",
       "<table border=\"1\" class=\"dataframe\">\n",
       "  <thead>\n",
       "    <tr style=\"text-align: right;\">\n",
       "      <th></th>\n",
       "      <th>미국</th>\n",
       "      <th>뉴욕</th>\n",
       "      <th>증권</th>\n",
       "      <th>거래소</th>\n",
       "      <th>상장</th>\n",
       "      <th>주식</th>\n",
       "      <th>공모</th>\n",
       "      <th>가인</th>\n",
       "      <th>달러</th>\n",
       "      <th>오르</th>\n",
       "      <th>...</th>\n",
       "      <th>이번</th>\n",
       "      <th>기업</th>\n",
       "      <th>공개</th>\n",
       "      <th>조달</th>\n",
       "      <th>것</th>\n",
       "      <th>알리</th>\n",
       "      <th>지</th>\n",
       "      <th>년</th>\n",
       "      <th>최대</th>\n",
       "      <th>실적</th>\n",
       "    </tr>\n",
       "  </thead>\n",
       "  <tbody>\n",
       "    <tr>\n",
       "      <th>0</th>\n",
       "      <td>1</td>\n",
       "      <td>1</td>\n",
       "      <td>1</td>\n",
       "      <td>1</td>\n",
       "      <td>1</td>\n",
       "      <td>1</td>\n",
       "      <td>1</td>\n",
       "      <td>1</td>\n",
       "      <td>2</td>\n",
       "      <td>1</td>\n",
       "      <td>...</td>\n",
       "      <td>1</td>\n",
       "      <td>2</td>\n",
       "      <td>2</td>\n",
       "      <td>1</td>\n",
       "      <td>1</td>\n",
       "      <td>1</td>\n",
       "      <td>1</td>\n",
       "      <td>1</td>\n",
       "      <td>1</td>\n",
       "      <td>1</td>\n",
       "    </tr>\n",
       "    <tr>\n",
       "      <th>1</th>\n",
       "      <td>1</td>\n",
       "      <td>1</td>\n",
       "      <td>1</td>\n",
       "      <td>1</td>\n",
       "      <td>1</td>\n",
       "      <td>1</td>\n",
       "      <td>1</td>\n",
       "      <td>1</td>\n",
       "      <td>2</td>\n",
       "      <td>1</td>\n",
       "      <td>...</td>\n",
       "      <td>1</td>\n",
       "      <td>2</td>\n",
       "      <td>2</td>\n",
       "      <td>1</td>\n",
       "      <td>1</td>\n",
       "      <td>1</td>\n",
       "      <td>1</td>\n",
       "      <td>1</td>\n",
       "      <td>1</td>\n",
       "      <td>1</td>\n",
       "    </tr>\n",
       "    <tr>\n",
       "      <th>2</th>\n",
       "      <td>1</td>\n",
       "      <td>1</td>\n",
       "      <td>1</td>\n",
       "      <td>1</td>\n",
       "      <td>1</td>\n",
       "      <td>1</td>\n",
       "      <td>1</td>\n",
       "      <td>1</td>\n",
       "      <td>1</td>\n",
       "      <td>1</td>\n",
       "      <td>...</td>\n",
       "      <td>1</td>\n",
       "      <td>2</td>\n",
       "      <td>2</td>\n",
       "      <td>1</td>\n",
       "      <td>1</td>\n",
       "      <td>1</td>\n",
       "      <td>1</td>\n",
       "      <td>1</td>\n",
       "      <td>1</td>\n",
       "      <td>1</td>\n",
       "    </tr>\n",
       "    <tr>\n",
       "      <th>3</th>\n",
       "      <td>1</td>\n",
       "      <td>1</td>\n",
       "      <td>1</td>\n",
       "      <td>1</td>\n",
       "      <td>1</td>\n",
       "      <td>1</td>\n",
       "      <td>1</td>\n",
       "      <td>1</td>\n",
       "      <td>1</td>\n",
       "      <td>1</td>\n",
       "      <td>...</td>\n",
       "      <td>1</td>\n",
       "      <td>2</td>\n",
       "      <td>2</td>\n",
       "      <td>1</td>\n",
       "      <td>1</td>\n",
       "      <td>1</td>\n",
       "      <td>1</td>\n",
       "      <td>1</td>\n",
       "      <td>1</td>\n",
       "      <td>1</td>\n",
       "    </tr>\n",
       "  </tbody>\n",
       "</table>\n",
       "<p>4 rows × 46 columns</p>\n",
       "</div>"
      ],
      "text/plain": [
       "   미국  뉴욕  증권  거래소  상장  주식  공모  가인  달러  오르  ...  이번  기업  공개  조달  것  알리  지  년  \\\n",
       "0   1   1   1    1   1   1   1   1   2   1  ...   1   2   2   1  1   1  1  1   \n",
       "1   1   1   1    1   1   1   1   1   2   1  ...   1   2   2   1  1   1  1  1   \n",
       "2   1   1   1    1   1   1   1   1   1   1  ...   1   2   2   1  1   1  1  1   \n",
       "3   1   1   1    1   1   1   1   1   1   1  ...   1   2   2   1  1   1  1  1   \n",
       "\n",
       "   최대  실적  \n",
       "0   1   1  \n",
       "1   1   1  \n",
       "2   1   1  \n",
       "3   1   1  \n",
       "\n",
       "[4 rows x 46 columns]"
      ]
     },
     "execution_count": 65,
     "metadata": {},
     "output_type": "execute_result"
    }
   ],
   "source": [
    "import pandas as pd\n",
    "wdf = pd.DataFrame(data=wbag,columns = cols)\n",
    "wdf.head()"
   ]
  },
  {
   "cell_type": "code",
   "execution_count": null,
   "metadata": {},
   "outputs": [],
   "source": []
  }
 ],
 "metadata": {
  "kernelspec": {
   "display_name": "Python 3",
   "language": "python",
   "name": "python3"
  },
  "language_info": {
   "codemirror_mode": {
    "name": "ipython",
    "version": 3
   },
   "file_extension": ".py",
   "mimetype": "text/x-python",
   "name": "python",
   "nbconvert_exporter": "python",
   "pygments_lexer": "ipython3",
   "version": "3.8.5"
  },
  "toc": {
   "base_numbering": 1,
   "nav_menu": {},
   "number_sections": true,
   "sideBar": true,
   "skip_h1_title": false,
   "title_cell": "Table of Contents",
   "title_sidebar": "Contents",
   "toc_cell": false,
   "toc_position": {},
   "toc_section_display": true,
   "toc_window_display": false
  },
  "varInspector": {
   "cols": {
    "lenName": 16,
    "lenType": 16,
    "lenVar": 40
   },
   "kernels_config": {
    "python": {
     "delete_cmd_postfix": "",
     "delete_cmd_prefix": "del ",
     "library": "var_list.py",
     "varRefreshCmd": "print(var_dic_list())"
    },
    "r": {
     "delete_cmd_postfix": ") ",
     "delete_cmd_prefix": "rm(",
     "library": "var_list.r",
     "varRefreshCmd": "cat(var_dic_list()) "
    }
   },
   "types_to_exclude": [
    "module",
    "function",
    "builtin_function_or_method",
    "instance",
    "_Feature"
   ],
   "window_display": false
  }
 },
 "nbformat": 4,
 "nbformat_minor": 4
}
