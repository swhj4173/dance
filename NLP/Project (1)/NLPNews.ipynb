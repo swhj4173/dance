{
 "cells": [
  {
   "cell_type": "code",
   "execution_count": null,
   "metadata": {},
   "outputs": [],
   "source": []
  },
  {
   "cell_type": "code",
   "execution_count": 1,
   "metadata": {},
   "outputs": [],
   "source": [
    "import numpy as np\n",
    "import pandas as pd\n",
    "import requests\n",
    "from bs4 import BeautifulSoup as bsp\n",
    "import matplotlib\n",
    "import matplotlib.pyplot as plt\n",
    "import sqlite3\n",
    "import re\n",
    "from datetime import datetime, timedelta,date\n",
    "import sys"
   ]
  },
  {
   "cell_type": "code",
   "execution_count": 2,
   "metadata": {},
   "outputs": [],
   "source": [
    "def getSub():\n",
    "    dbname='navernews.db'\n",
    "    with sqlite3.connect(dbname) as conn:\n",
    "        cursor=conn.cursor()\n",
    "        sql='select sarticle from subnews '\n",
    "        res=cursor.execute(sql).fetchall()\n",
    "    return res\n"
   ]
  },
  {
   "cell_type": "code",
   "execution_count": 3,
   "metadata": {},
   "outputs": [
    {
     "data": {
      "text/plain": [
       "220"
      ]
     },
     "execution_count": 3,
     "metadata": {},
     "output_type": "execute_result"
    }
   ],
   "source": [
    "docs=getSub()\n",
    "len(docs)"
   ]
  },
  {
   "cell_type": "code",
   "execution_count": 4,
   "metadata": {},
   "outputs": [
    {
     "data": {
      "text/plain": [
       "('\\n신세계그룹 제공 정용진 신세계그룹 부회장이 지난해 연봉으로 33억 6800만 원을 받았다. 신세계 그룹 총수 일가는 총 142억 원을 수령했다.17일 신세계·이마트 사업보고서에 따르면 정 부회장은 지난해 이마트에서 총 33억 6800만 원을 받았다. 급여 20억 3400만 원과 상여 13억 3400만 원이다.이마트 측은 “어려운 대내외 경영 환경 속에서도 매출액 14조 2138억 원과 영업이익 2950억 원을 달성한 점을 고려했다”고 밝혔다.\\n\\n동생 정유경 신세계 총괄사장은 급여와 상여금 각각 17억 9400만 원, 11억 6600만 원으로 총 29억 6000만 원을 수령했다.\\n주요기사\\n\\n산사태까지 난 땅…용인시 공무원 매입 11일뒤 ‘특구’ 발표원로가 전한 시대정신과 인재론‘윤석열의 정치’ 보인다\\n\\n신세계 측은 “기존 백화점 경쟁력 강화로 어려운 대내외 환경 속에서도 영업이익 1268억 원을 달성한 점을 고려했다”고 전했다. 정 부회장과 정 총괄사장 모두 연봉이 전년 대비 감소한 것으로 나타났다. 정 부회장은 약 1억 9400만 원, 정 총괄사장은 1억 5400만 원가량을 덜 받았다. 이는 신종 코로나바이러스 감염증(코로나19) 사태로 실적이 감소한 영향으로 보인다.이명희 신세계그룹 회장은 이마트에서 26억 9300만 원, 신세계에서 12억 6100만 원으로 총 39억 5400만 원을 받았다. 정재은 명예회장도 이와 동일한 연봉을 수령했다.김혜린 동아닷컴 기자 sinnala8@donga.com\\n',)"
      ]
     },
     "execution_count": 4,
     "metadata": {},
     "output_type": "execute_result"
    }
   ],
   "source": [
    "docs[0]"
   ]
  },
  {
   "cell_type": "code",
   "execution_count": 162,
   "metadata": {},
   "outputs": [
    {
     "name": "stdout",
     "output_type": "stream",
     "text": [
      "Python 3.8.5\n"
     ]
    }
   ],
   "source": [
    "!python -V\n"
   ]
  },
  {
   "cell_type": "code",
   "execution_count": 5,
   "metadata": {},
   "outputs": [],
   "source": [
    "from konlpy.tag import Kkma\n",
    "kkma=Kkma()"
   ]
  },
  {
   "cell_type": "code",
   "execution_count": 6,
   "metadata": {},
   "outputs": [],
   "source": [
    "def dictsort(r):\n",
    "    sr=sorted(r.items(),key=(lambda x:x[1]),reverse=True)\n",
    "    return r"
   ]
  },
  {
   "cell_type": "code",
   "execution_count": 7,
   "metadata": {},
   "outputs": [],
   "source": [
    "def getPOS(rres):\n",
    "    p=kkma.pos(rres)\n",
    "    dictpos={}\n",
    "    words=[]\n",
    "    #표제어 추출\n",
    "    check=['NNG','NNP','NNB','NNM','VV','VA','VXV','VXA','VCP','VCN','SF','EFN','EFQ']\n",
    "    for  w,pos in p:\n",
    "        if(pos in check):\n",
    "            words.append(w)\n",
    "            if (w in dictpos.keys()):\n",
    "                dictpos[w]+=1\n",
    "            else:\n",
    "                dictpos[w]=1\n",
    "    return (dictpos,words)  "
   ]
  },
  {
   "cell_type": "code",
   "execution_count": 8,
   "metadata": {},
   "outputs": [
    {
     "data": {
      "text/plain": [
       "'신세계 그룹 제공 정용진 신세계 그룹 부회장 지난해 연봉 원 받 다 . 신세계 그룹 총수 일가 원 수령 다 . 일 신세계 마트 사업 보고서 따르 정 부회장 지난해 이 마트 총 원 받 다 . 급여 원 상여 원 이 다 . 마트 측 어렵 대내외 경영 환경 속 매출액 원 영업 이익 원 달성 점 고려 고 밝히 다 . 동생 정유 경 신세계 총괄 사장 급여 상여금 원 원 총 원 수령 다 . 주요 기사 산사태 낳 땅 용인시 공무원 매입 일 뒤 특구 발표 원로 전하 시대정신 인재 윤석열 정치 보이 신세계 측 기존 백화점 경쟁력 강화 어렵 대내외 환경 속 영업 이익 원 달성 점 고려 고 전하 다 . 정 부회장 정 총괄 사장 모두 연봉 전년 대비 감소 것 나타나 다 . 정 부회장 원 정 총괄 사장 원 가량 받 다 . 일 신종 코로나 바 감염증 코로나 사태 실적 감소 영향 보이 ㄴ다 . 이명 희 세계 그룹 회장 마트 원 신세계 원 총 원 받 다 . 정재 은 명예 회장 동일 연봉 수령 다 . 김 동아 닷컴 기자 .'"
      ]
     },
     "execution_count": 8,
     "metadata": {},
     "output_type": "execute_result"
    }
   ],
   "source": [
    "getp=getPOS(docs[0][0])\n",
    "sen=' '.join(getp[1])\n",
    "sen"
   ]
  },
  {
   "cell_type": "code",
   "execution_count": 167,
   "metadata": {},
   "outputs": [],
   "source": [
    "### 사용자 사전 추가\n",
    "#* 내 파이썬 위치 확인\n",
    "#* !which python\n",
    "#* 해당 위치로 이동 c:/Users/사용자명/anaconda3/\\Lib\\site-packages\\konlpy\\java\n",
    "#* 가상환경 위치로 이동 c:/Users/사용자명/anaconda3/envs/환경명/\\Lib\\site-packages\\konlpy\\java\n",
    "#* kkma_2.0.jar 압출풀기\n",
    "#* 기존 kkma_2.0.jar 를 이름 변환하여 백업\n",
    "#* JDK(개발환경)를 설치 jar 사용 jar-cvf kkma_2.0.jar/ .\n",
    "#\n"
   ]
  },
  {
   "cell_type": "markdown",
   "metadata": {},
   "source": [
    "### NLP 단계\n",
    "* nlp 관련 엔진의 기능에 연관\n",
    "\n",
    "*  문서 전처리\n",
    "    - Document(문서/전자문서):여러개 있음\n",
    "    - corpus(말뭉치):모음/스크래이핑 \n",
    "    - Tokenize(의미있는 단위로 분리)\n",
    "        - 단어장 사전처리: 인명, 신조어, 분야별 단어\n",
    "        - 문장,단어,띄어쓰기,형태소 morpheme 분석\n",
    "        - 언어에서 의미를 가지는 최소단위- 형태소의 명칭:품사POS part of speech]\n",
    "            * 명사 동사 형용사 부사 ....\n",
    "        - 한국형 형태소 분석기 KONLPY\n",
    "            * JAVA 기반의 환경조성(자바설치,JPYPE)\n",
    "        - 영미권 단어 쪼개기\n",
    "            * 표제어 추출(Lemmatization): 형태소 분석- 사전형 단어분석 -> 품사정리\n",
    "            * 어간추출(stemming) un- in- 일종의 형태소 분석\n",
    "                - 단어의 의미를 담고 있는 단어의 핵심 부분.\n",
    "    - 불용어 처리 : stopwords\n",
    "* 자연어 처리 기법\n",
    "    - 카운트기반 자연어 처리\n",
    "        - BOW Bag of words\n",
    "        - TDM\n",
    "        - TF-IDF\n",
    "    \n",
    "\n",
    "* 목적하는 언어셋 수집 (코퍼스corpus:말뭉치) > 문장(sentence) > 단어(words) > 형태소 분석\n",
    "\n",
    "* 말뭉치 수집(Web Crawling 돌아다니기/Web Scraping 정보가져오기 ) \n",
    "    - 말뭉치 또는 코퍼스(Corpus)는 자연언어 연구를 위해 특정한 목적을 가지고 언어의 표본을 추출한 집합이\n",
    "* 문장 토큰화(Sentence Tokenization)\n",
    "    - 문장 토큰화: 문장의 마침표(.), 개행문자(\\n), 느낌표(!), 물음표(?) 등 문장의 마지막을 뜻하는 기호에 따라 분리하는 것이 일반적.\n",
    "    \n",
    "* 단어(품사) 토큰화(Word Tokenization)\n",
    "    - konlpy 형태소 분석 등을 이용한 단어 토큰화"
   ]
  },
  {
   "cell_type": "code",
   "execution_count": 9,
   "metadata": {},
   "outputs": [
    {
     "name": "stdout",
     "output_type": "stream",
     "text": [
      "신세계 그룹 제공 정용진 신세계 그룹 부회장 지난해 연봉 원 받 다 \n"
     ]
    }
   ],
   "source": [
    "corpus=sen.split('.')\n",
    "print(corpus[0])"
   ]
  },
  {
   "cell_type": "code",
   "execution_count": 10,
   "metadata": {},
   "outputs": [
    {
     "data": {
      "text/plain": [
       "(14, 72)"
      ]
     },
     "execution_count": 10,
     "metadata": {},
     "output_type": "execute_result"
    }
   ],
   "source": [
    "\n",
    "# 카운트 기반 TDM\n",
    "from sklearn.feature_extraction.text import CountVectorizer\n",
    "vect=CountVectorizer()\n",
    "tdm=vect.fit_transform(corpus).toarray()\n",
    "tdm.shape"
   ]
  },
  {
   "cell_type": "code",
   "execution_count": 11,
   "metadata": {},
   "outputs": [
    {
     "name": "stdout",
     "output_type": "stream",
     "text": [
      "['ㄴ다', '가량', '감소', '감염증', '강화', '경영', '경쟁력', '고려', '공무원', '그룹', '급여', '기사', '기자', '기존', '나타나', '달성', '닷컴', '대내외', '대비', '동생', '동아', '동일', '따르', '마트', '매입', '매출액', '명예', '모두', '발표', '밝히', '백화점', '보고서', '보이', '부회장', '사업', '사장', '사태', '산사태', '상여', '상여금', '세계', '수령', '시대정신', '신세계', '신종', '실적', '어렵', '연봉', '영업', '영향', '용인시', '원로', '윤석열', '이명', '이익', '인재', '일가', '전년', '전하', '정용진', '정유', '정재', '정치', '제공', '주요', '지난해', '총괄', '총수', '코로나', '특구', '환경', '회장']\n",
      "신세계 그룹 제공 정용진 신세계 그룹 부회장 지난해 연봉 원 받 다 \n",
      "[('그룹', 2), ('신세계', 2), ('부회장', 1), ('연봉', 1), ('정용진', 1)]\n",
      " 신세계 그룹 총수 일가 원 수령 다 \n",
      "[('그룹', 1), ('수령', 1), ('신세계', 1), ('일가', 1), ('총수', 1)]\n",
      " 일 신세계 마트 사업 보고서 따르 정 부회장 지난해 이 마트 총 원 받 다 \n",
      "[('마트', 2), ('따르', 1), ('보고서', 1), ('부회장', 1), ('사업', 1)]\n",
      " 급여 원 상여 원 이 다 \n",
      "[('급여', 1), ('상여', 1), ('ㄴ다', 0), ('가량', 0), ('감소', 0)]\n",
      " 마트 측 어렵 대내외 경영 환경 속 매출액 원 영업 이익 원 달성 점 고려 고 밝히 다 \n",
      "[('경영', 1), ('고려', 1), ('달성', 1), ('대내외', 1), ('마트', 1)]\n",
      " 동생 정유 경 신세계 총괄 사장 급여 상여금 원 원 총 원 수령 다 \n",
      "[('급여', 1), ('동생', 1), ('사장', 1), ('상여금', 1), ('수령', 1)]\n",
      " 주요 기사 산사태 낳 땅 용인시 공무원 매입 일 뒤 특구 발표 원로 전하 시대정신 인재 윤석열 정치 보이 신세계 측 기존 백화점 경쟁력 강화 어렵 대내외 환경 속 영업 이익 원 달성 점 고려 고 전하 다 \n",
      "[('전하', 2), ('강화', 1), ('경쟁력', 1), ('고려', 1), ('공무원', 1)]\n",
      " 정 부회장 정 총괄 사장 모두 연봉 전년 대비 감소 것 나타나 다 \n",
      "[('감소', 1), ('나타나', 1), ('대비', 1), ('모두', 1), ('부회장', 1)]\n",
      " 정 부회장 원 정 총괄 사장 원 가량 받 다 \n",
      "[('가량', 1), ('부회장', 1), ('사장', 1), ('총괄', 1), ('ㄴ다', 0)]\n",
      " 일 신종 코로나 바 감염증 코로나 사태 실적 감소 영향 보이 ㄴ다 \n",
      "[('코로나', 2), ('ㄴ다', 1), ('감소', 1), ('감염증', 1), ('보이', 1)]\n",
      " 이명 희 세계 그룹 회장 마트 원 신세계 원 총 원 받 다 \n",
      "[('그룹', 1), ('마트', 1), ('세계', 1), ('신세계', 1), ('이명', 1)]\n",
      " 정재 은 명예 회장 동일 연봉 수령 다 \n",
      "[('동일', 1), ('명예', 1), ('수령', 1), ('연봉', 1), ('정재', 1)]\n",
      " 김 동아 닷컴 기자 \n",
      "[('기자', 1), ('닷컴', 1), ('동아', 1), ('ㄴ다', 0), ('가량', 0)]\n",
      "\n",
      "[('ㄴ다', 0), ('가량', 0), ('감소', 0), ('감염증', 0), ('강화', 0)]\n"
     ]
    }
   ],
   "source": [
    "#words=list(vect.vocabulary_.keys())# 전체 단어 갯수 파악용\n",
    "words=list(vect.get_feature_names())\n",
    "print(words)\n",
    "i=0\n",
    "for td in tdm:\n",
    "    zt=list(zip(words,td))\n",
    "    szt=sorted(zt,key=(lambda x:x[1]),reverse=True)\n",
    "    print(corpus[i])\n",
    "    print(szt[:5])\n",
    "    i+=1"
   ]
  },
  {
   "cell_type": "code",
   "execution_count": 12,
   "metadata": {},
   "outputs": [
    {
     "data": {
      "text/plain": [
       "<matplotlib.image.AxesImage at 0x2c52da4f490>"
      ]
     },
     "execution_count": 12,
     "metadata": {},
     "output_type": "execute_result"
    },
    {
     "data": {
      "image/png": "[encoded data removed]",
      "text/plain": [
       "<Figure size 432x288 with 1 Axes>"
      ]
     },
     "metadata": {
      "needs_background": "light"
     },
     "output_type": "display_data"
    }
   ],
   "source": [
    "plt.imshow(tdm)"
   ]
  },
  {
   "cell_type": "code",
   "execution_count": 13,
   "metadata": {},
   "outputs": [
    {
     "data": {
      "text/plain": [
       "array([[0.        , 0.        , 0.        , ..., 0.        , 0.        ,\n",
       "        0.        ],\n",
       "       [0.        , 0.        , 0.        , ..., 0.        , 0.        ,\n",
       "        0.        ],\n",
       "       [0.        , 0.        , 0.        , ..., 0.        , 0.        ,\n",
       "        0.        ],\n",
       "       ...,\n",
       "       [0.        , 0.        , 0.        , ..., 0.        , 0.        ,\n",
       "        0.38960208],\n",
       "       [0.        , 0.        , 0.        , ..., 0.        , 0.        ,\n",
       "        0.        ],\n",
       "       [0.        , 0.        , 0.        , ..., 0.        , 0.        ,\n",
       "        0.        ]])"
      ]
     },
     "execution_count": 13,
     "metadata": {},
     "output_type": "execute_result"
    }
   ],
   "source": [
    "# TF-IDF 방식으로 중요단어 가중치\n",
    "from sklearn.feature_extraction.text import TfidfVectorizer\n",
    "tfidfv=TfidfVectorizer()\n",
    "tfm=tfidfv.fit_transform(corpus).toarray()\n",
    "tfm"
   ]
  },
  {
   "cell_type": "code",
   "execution_count": 14,
   "metadata": {},
   "outputs": [
    {
     "data": {
      "image/png": "[encoded data removed]",
      "text/plain": [
       "<Figure size 432x288 with 1 Axes>"
      ]
     },
     "metadata": {
      "needs_background": "light"
     },
     "output_type": "display_data"
    },
    {
     "data": {
      "image/png": "[encoded data removed]",
      "text/plain": [
       "<Figure size 432x288 with 1 Axes>"
      ]
     },
     "metadata": {
      "needs_background": "light"
     },
     "output_type": "display_data"
    }
   ],
   "source": [
    "plt.imshow(tdm)\n",
    "plt.show()\n",
    "plt.imshow(tfm)\n",
    "plt.show()"
   ]
  },
  {
   "cell_type": "code",
   "execution_count": 15,
   "metadata": {},
   "outputs": [
    {
     "data": {
      "text/plain": [
       "{'신세계': 43,\n",
       " '그룹': 9,\n",
       " '제공': 63,\n",
       " '정용진': 59,\n",
       " '부회장': 33,\n",
       " '지난해': 65,\n",
       " '연봉': 47,\n",
       " '총수': 67,\n",
       " '일가': 56,\n",
       " '수령': 41,\n",
       " '마트': 23,\n",
       " '사업': 34,\n",
       " '보고서': 31,\n",
       " '따르': 22,\n",
       " '급여': 10,\n",
       " '상여': 38,\n",
       " '어렵': 46,\n",
       " '대내외': 17,\n",
       " '경영': 5,\n",
       " '환경': 70,\n",
       " '매출액': 25,\n",
       " '영업': 48,\n",
       " '이익': 54,\n",
       " '달성': 15,\n",
       " '고려': 7,\n",
       " '밝히': 29,\n",
       " '동생': 19,\n",
       " '정유': 60,\n",
       " '총괄': 66,\n",
       " '사장': 35,\n",
       " '상여금': 39,\n",
       " '주요': 64,\n",
       " '기사': 11,\n",
       " '산사태': 37,\n",
       " '용인시': 50,\n",
       " '공무원': 8,\n",
       " '매입': 24,\n",
       " '특구': 69,\n",
       " '발표': 28,\n",
       " '원로': 51,\n",
       " '전하': 58,\n",
       " '시대정신': 42,\n",
       " '인재': 55,\n",
       " '윤석열': 52,\n",
       " '정치': 62,\n",
       " '보이': 32,\n",
       " '기존': 13,\n",
       " '백화점': 30,\n",
       " '경쟁력': 6,\n",
       " '강화': 4,\n",
       " '모두': 27,\n",
       " '전년': 57,\n",
       " '대비': 18,\n",
       " '감소': 2,\n",
       " '나타나': 14,\n",
       " '가량': 1,\n",
       " '신종': 44,\n",
       " '코로나': 68,\n",
       " '감염증': 3,\n",
       " '사태': 36,\n",
       " '실적': 45,\n",
       " '영향': 49,\n",
       " 'ㄴ다': 0,\n",
       " '이명': 53,\n",
       " '세계': 40,\n",
       " '회장': 71,\n",
       " '정재': 61,\n",
       " '명예': 26,\n",
       " '동일': 21,\n",
       " '동아': 20,\n",
       " '닷컴': 16,\n",
       " '기자': 12}"
      ]
     },
     "execution_count": 15,
     "metadata": {},
     "output_type": "execute_result"
    }
   ],
   "source": [
    "tfidfv.vocabulary_"
   ]
  },
  {
   "cell_type": "markdown",
   "metadata": {},
   "source": [
    "# 융합형 데이터 분석\n",
    "    * 이종데이터 결합을 통한 분석\n",
    "# 의미분석\n",
    "    * 잠재의미분석(LSA)\n",
    "        * SVD( 특이값 분해 ) Truncated\n",
    "            - m*n의 데이터-> m*m    m*n   n*n\n",
    "        * PCA( 주성분 분석)\n",
    "            - 데이터의 중심(평균)->0\n",
    "            - 중심으로부터 각 데이터 벡터에 대한 공분산 행렬터 각 데이터 벡터에 대한 공분산 행렬\n",
    "            - 고유벡터 기반의 차원축소\n",
    "        * LSA (잠재 의미분석 :  Latent Semantic Analysis)\n",
    "            - 기존의 TDM 및 TF-IDF 가 단어의 의미 무시하고 숫자에 의한 처리\n",
    "        - \n",
    "    * https://ratsgo.github.io/from%20frequency%20to%20semantics/2017/04/06/pcasvdlsa/"
   ]
  },
  {
   "cell_type": "code",
   "execution_count": 175,
   "metadata": {},
   "outputs": [
    {
     "data": {
      "text/plain": [
       "TruncatedSVD()"
      ]
     },
     "execution_count": 175,
     "metadata": {},
     "output_type": "execute_result"
    }
   ],
   "source": [
    "# 주제 분석(모델링) Topic modeling\n",
    "from sklearn.decomposition import TruncatedSVD\n",
    "svdm=TruncatedSVD()\n",
    "svdm.fit(tfm)"
   ]
  },
  {
   "cell_type": "code",
   "execution_count": 176,
   "metadata": {},
   "outputs": [
    {
     "data": {
      "text/plain": [
       "(2, 72)"
      ]
     },
     "execution_count": 176,
     "metadata": {},
     "output_type": "execute_result"
    }
   ],
   "source": [
    "components=svdm.components_\n",
    "np.shape(components)\n"
   ]
  },
  {
   "cell_type": "code",
   "execution_count": 177,
   "metadata": {},
   "outputs": [],
   "source": [
    "voca=list(vect.get_feature_names())"
   ]
  },
  {
   "cell_type": "code",
   "execution_count": 178,
   "metadata": {
    "collapsed": true,
    "jupyter": {
     "outputs_hidden": true
    }
   },
   "outputs": [
    {
     "data": {
      "text/plain": [
       "[{'ㄴ다': 0.005545132635589423,\n",
       "  '가량': 0.12346396867899292,\n",
       "  '감소': 0.06868023744686741,\n",
       "  '감염증': 0.005545132635589459,\n",
       "  '강화': 0.013776341046588725,\n",
       "  '경영': 0.0282448323834236,\n",
       "  '경쟁력': 0.013776341046588727,\n",
       "  '고려': 0.03636987403114562,\n",
       "  '공무원': 0.013776341046588723,\n",
       "  '그룹': 0.3982893513597642,\n",
       "  '급여': 0.12016213887985751,\n",
       "  '기사': 0.013776341046588723,\n",
       "  '기자': -2.221316524901855e-06,\n",
       "  '기존': 0.013776341046588723,\n",
       "  '나타나': 0.07380692028870085,\n",
       "  '달성': 0.03636987403114562,\n",
       "  '닷컴': -2.221316524901855e-06,\n",
       "  '대내외': 0.03636987403114562,\n",
       "  '대비': 0.07380692028870085,\n",
       "  '동생': 0.09835870063310823,\n",
       "  '동아': -2.221316524901855e-06,\n",
       "  '동일': 0.06986964894584151,\n",
       "  '따르': 0.09008815359308218,\n",
       "  '마트': 0.2645725433890358,\n",
       "  '매입': 0.013776341046588723,\n",
       "  '매출액': 0.0282448323834236,\n",
       "  '명예': 0.06986964894584151,\n",
       "  '모두': 0.07380692028870085,\n",
       "  '발표': 0.013776341046588723,\n",
       "  '밝히': 0.0282448323834236,\n",
       "  '백화점': 0.013776341046588723,\n",
       "  '보고서': 0.09008815359308218,\n",
       "  '보이': 0.0167229876406788,\n",
       "  '부회장': 0.28380894183373145,\n",
       "  '사업': 0.09008815359308218,\n",
       "  '사장': 0.22766229011365852,\n",
       "  '사태': 0.005545132635589473,\n",
       "  '산사태': 0.013776341046588723,\n",
       "  '상여': 0.040474721590671336,\n",
       "  '상여금': 0.09835870063310823,\n",
       "  '세계': 0.13513805234881265,\n",
       "  '수령': 0.23838617665157813,\n",
       "  '시대정신': 0.013776341046588723,\n",
       "  '신세계': 0.4204838693771134,\n",
       "  '신종': 0.005545132635589473,\n",
       "  '실적': 0.005545132635589473,\n",
       "  '어렵': 0.03636987403114562,\n",
       "  '연봉': 0.2033372175301595,\n",
       "  '열의': 0.013776341046588723,\n",
       "  '영업': 0.03636987403114562,\n",
       "  '영향': 0.005545132635589473,\n",
       "  '용인시': 0.013776341046588723,\n",
       "  '용진': 0.12036583383097793,\n",
       "  '원로': 0.013776341046588723,\n",
       "  '이명': 0.13513805234881265,\n",
       "  '이익': 0.03636987403114562,\n",
       "  '인재': 0.013776341046588723,\n",
       "  '일가': 0.14132668272274054,\n",
       "  '전년': 0.07380692028870085,\n",
       "  '전하': 0.027552682093177447,\n",
       "  '정유': 0.09835870063310823,\n",
       "  '정재': 0.06986964894584151,\n",
       "  '정치': 0.013776341046588723,\n",
       "  '제공': 0.12036583383097793,\n",
       "  '주요': 0.013776341046588723,\n",
       "  '지난해': 0.18215067279626723,\n",
       "  '총괄': 0.22766229011365852,\n",
       "  '총수': 0.14132668272274054,\n",
       "  '코로나': 0.011090265271178946,\n",
       "  '특구': 0.013776341046588723,\n",
       "  '환경': 0.03636987403114562,\n",
       "  '회장': 0.17743684107060206},\n",
       " {'ㄴ다': 0.014202381086815728,\n",
       "  '가량': 0.2546766028579428,\n",
       "  '감소': 0.13716246267149146,\n",
       "  '감염증': 0.014202381086815758,\n",
       "  '강화': -0.03634086584729908,\n",
       "  '경영': -0.0787118318923186,\n",
       "  '경쟁력': -0.03634086584729909,\n",
       "  '고려': -0.09957961147141009,\n",
       "  '공무원': -0.03634086584729908,\n",
       "  '그룹': -0.24594337566891883,\n",
       "  '급여': 0.20146539547130063,\n",
       "  '기사': -0.036340865847299064,\n",
       "  '기자': 3.5796614033921607e-06,\n",
       "  '기존': -0.036340865847299064,\n",
       "  '나타나': 0.14427294459263304,\n",
       "  '달성': -0.09957961147141009,\n",
       "  '닷컴': 3.5796614033921607e-06,\n",
       "  '대내외': -0.09957961147141009,\n",
       "  '대비': 0.14427294459263304,\n",
       "  '동생': 0.12439784319300529,\n",
       "  '동아': 3.5796614033921607e-06,\n",
       "  '동일': -0.008942630389849038,\n",
       "  '따르': -0.05914347193610695,\n",
       "  '마트': -0.2562288404687726,\n",
       "  '매입': -0.036340865847299064,\n",
       "  '매출액': -0.0787118318923186,\n",
       "  '명예': -0.008942630389849038,\n",
       "  '모두': 0.14427294459263304,\n",
       "  '발표': -0.036340865847299064,\n",
       "  '밝히': -0.0787118318923186,\n",
       "  '백화점': -0.036340865847299064,\n",
       "  '보고서': -0.05914347193610695,\n",
       "  '보이': -0.019161147494375873,\n",
       "  '부회장': 0.20125238488500127,\n",
       "  '사업': -0.05914347193610695,\n",
       "  '사장': 0.4030261843539152,\n",
       "  '사태': 0.014202381086815766,\n",
       "  '산사태': -0.036340865847299064,\n",
       "  '상여': 0.10837206731028041,\n",
       "  '상여금': 0.12439784319300529,\n",
       "  '세계': -0.13572574753643052,\n",
       "  '수령': 0.025551184613255912,\n",
       "  '시대정신': -0.036340865847299064,\n",
       "  '신세계': -0.16976406311418663,\n",
       "  '신종': 0.014202381086815766,\n",
       "  '실적': 0.014202381086815766,\n",
       "  '어렵': -0.09957961147141009,\n",
       "  '연봉': 0.06518600825317698,\n",
       "  '열의': -0.036340865847299064,\n",
       "  '영업': -0.09957961147141009,\n",
       "  '영향': 0.014202381086815766,\n",
       "  '용인시': -0.036340865847299064,\n",
       "  '용진': -0.05068338889082147,\n",
       "  '원로': -0.036340865847299064,\n",
       "  '이명': -0.13572574753643052,\n",
       "  '이익': -0.09957961147141009,\n",
       "  '인재': -0.036340865847299064,\n",
       "  '일가': -0.08227586537034226,\n",
       "  '전년': 0.14427294459263304,\n",
       "  '전하': -0.07268173169459813,\n",
       "  '정유': 0.12439784319300529,\n",
       "  '정재': -0.008942630389849038,\n",
       "  '정치': -0.036340865847299064,\n",
       "  '제공': -0.05068338889082147,\n",
       "  '주요': -0.036340865847299064,\n",
       "  '지난해': -0.09505658141994394,\n",
       "  '총괄': 0.4030261843539152,\n",
       "  '총수': -0.08227586537034226,\n",
       "  '코로나': 0.028404762173631533,\n",
       "  '특구': -0.036340865847299064,\n",
       "  '환경': -0.09957961147141009,\n",
       "  '회장': -0.12521236919364662}]"
      ]
     },
     "execution_count": 178,
     "metadata": {},
     "output_type": "execute_result"
    }
   ],
   "source": [
    "res=[]\n",
    "for c in components:\n",
    "    dict={}\n",
    "    for i,v in enumerate(c):\n",
    "        dict[voca[i]]=v\n",
    "    res.append(dict)\n",
    "res    "
   ]
  },
  {
   "cell_type": "code",
   "execution_count": 179,
   "metadata": {},
   "outputs": [
    {
     "name": "stdout",
     "output_type": "stream",
     "text": [
      "**************************************************\n",
      "[('신세계', 0.4204838693771134), ('그룹', 0.3982893513597642), ('부회장', 0.28380894183373145), ('마트', 0.2645725433890358), ('수령', 0.23838617665157813)]\n",
      "**************************************************\n",
      "[('사장', 0.4030261843539152), ('총괄', 0.4030261843539152), ('가량', 0.2546766028579428), ('급여', 0.20146539547130063), ('부회장', 0.20125238488500127)]\n"
     ]
    }
   ],
   "source": [
    "\n",
    "for r in res:\n",
    "    print(\"*\"*50)\n",
    "    sr=sorted(r.items(),key=(lambda x:x[1]),reverse=True)\n",
    "    print(sr[:5])"
   ]
  },
  {
   "cell_type": "code",
   "execution_count": 1,
   "metadata": {},
   "outputs": [
    {
     "name": "stderr",
     "output_type": "stream",
     "text": [
      "C:\\ProgramData\\Anaconda3\\lib\\site-packages\\gensim\\similarities\\__init__.py:15: UserWarning: The gensim.similarities.levenshtein submodule is disabled, because the optional Levenshtein package <https://pypi.org/project/python-Levenshtein/> is unavailable. Install Levenhstein (e.g. `pip install python-Levenshtein`) to suppress this warning.\n",
      "  warnings.warn(msg)\n"
     ]
    }
   ],
   "source": [
    "import gensim"
   ]
  },
  {
   "cell_type": "code",
   "execution_count": null,
   "metadata": {},
   "outputs": [],
   "source": []
  }
 ],
 "metadata": {
  "kernelspec": {
   "display_name": "Python 3",
   "language": "python",
   "name": "python3"
  },
  "language_info": {
   "codemirror_mode": {
    "name": "ipython",
    "version": 3
   },
   "file_extension": ".py",
   "mimetype": "text/x-python",
   "name": "python",
   "nbconvert_exporter": "python",
   "pygments_lexer": "ipython3",
   "version": "3.8.5"
  },
  "toc": {
   "base_numbering": 1,
   "nav_menu": {},
   "number_sections": true,
   "sideBar": true,
   "skip_h1_title": false,
   "title_cell": "Table of Contents",
   "title_sidebar": "Contents",
   "toc_cell": false,
   "toc_position": {},
   "toc_section_display": true,
   "toc_window_display": false
  },
  "varInspector": {
   "cols": {
    "lenName": 16,
    "lenType": 16,
    "lenVar": 40
   },
   "kernels_config": {
    "python": {
     "delete_cmd_postfix": "",
     "delete_cmd_prefix": "del ",
     "library": "var_list.py",
     "varRefreshCmd": "print(var_dic_list())"
    },
    "r": {
     "delete_cmd_postfix": ") ",
     "delete_cmd_prefix": "rm(",
     "library": "var_list.r",
     "varRefreshCmd": "cat(var_dic_list()) "
    }
   },
   "types_to_exclude": [
    "module",
    "function",
    "builtin_function_or_method",
    "instance",
    "_Feature"
   ],
   "window_display": false
  }
 },
 "nbformat": 4,
 "nbformat_minor": 5
}
