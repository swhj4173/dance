{
 "cells": [
  {
   "cell_type": "code",
   "execution_count": 4,
   "metadata": {},
   "outputs": [
    {
     "name": "stdout",
     "output_type": "stream",
     "text": [
      "Collecting tensorflow_hub\n",
      "  Downloading tensorflow_hub-0.11.0-py2.py3-none-any.whl (107 kB)\n",
      "Requirement already satisfied: numpy>=1.12.0 in c:\\users\\687\\anaconda3\\lib\\site-packages (from tensorflow_hub) (1.19.2)\n",
      "Requirement already satisfied: protobuf>=3.8.0 in c:\\users\\687\\anaconda3\\lib\\site-packages (from tensorflow_hub) (3.13.0)\n",
      "Requirement already satisfied: six>=1.9 in c:\\users\\687\\anaconda3\\lib\\site-packages (from protobuf>=3.8.0->tensorflow_hub) (1.15.0)\n",
      "Requirement already satisfied: setuptools in c:\\users\\687\\anaconda3\\lib\\site-packages (from protobuf>=3.8.0->tensorflow_hub) (50.3.1.post20201107)\n",
      "Installing collected packages: tensorflow-hub\n",
      "Successfully installed tensorflow-hub-0.11.0\n"
     ]
    }
   ],
   "source": [
    "!pip install tensorflow_hub"
   ]
  },
  {
   "cell_type": "code",
   "execution_count": 5,
   "metadata": {},
   "outputs": [
    {
     "name": "stdout",
     "output_type": "stream",
     "text": [
      "(4, 128)\n"
     ]
    }
   ],
   "source": [
    "\n",
    "import tensorflow_hub as hub\n",
    "\n",
    "model = hub.KerasLayer(\"http://tfhub.dev/google/nnlm-en-dim128/2\")\n",
    "\n",
    "embeddings = model([\"The rain in Spain.\", \"falls\", \"mainly\",\"In the plain!\"])\n",
    "\n",
    "print(embeddings.shape)"
   ]
  },
  {
   "cell_type": "code",
   "execution_count": null,
   "metadata": {},
   "outputs": [],
   "source": []
  }
 ],
 "metadata": {
  "kernelspec": {
   "display_name": "Python 3",
   "language": "python",
   "name": "python3"
  },
  "language_info": {
   "codemirror_mode": {
    "name": "ipython",
    "version": 3
   },
   "file_extension": ".py",
   "mimetype": "text/x-python",
   "name": "python",
   "nbconvert_exporter": "python",
   "pygments_lexer": "ipython3",
   "version": "3.8.5"
  }
 },
 "nbformat": 4,
 "nbformat_minor": 4
}
