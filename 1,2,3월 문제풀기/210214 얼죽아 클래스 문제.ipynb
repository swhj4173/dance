{
 "cells": [
  {
   "cell_type": "code",
   "execution_count": 105,
   "metadata": {
    "ExecuteTime": {
     "end_time": "2021-02-15T07:16:16.931239Z",
     "start_time": "2021-02-15T07:16:16.914257Z"
    }
   },
   "outputs": [],
   "source": [
    "class Word:\n",
    "    def __init__(self,new_word,one,two,answer):\n",
    "        self.new_word = new_word\n",
    "        self.one = one\n",
    "        self.two = two\n",
    "        self.answer = answer\n",
    "    \n",
    "    def info(self):\n",
    "        print(\"신조어 : {}\".format(self.new_word))\n",
    "        \n",
    "    def show_question(self):\n",
    "        print(\"{}의 뜻은?\".format(self.new_word))\n",
    "        print(\"1. {}\".format(self.one))\n",
    "        print(\"2. {}\".format(self.two))\n",
    "        \n",
    "    def check_answer(self,a):\n",
    "        if self.answer == a:\n",
    "            print(\"정답입니다.\")\n",
    "        else :\n",
    "            print(\"틀렸습니다.\")\n",
    "            return Word.show_question(self)"
   ]
  },
  {
   "cell_type": "code",
   "execution_count": 140,
   "metadata": {
    "ExecuteTime": {
     "end_time": "2021-02-15T07:47:10.418167Z",
     "start_time": "2021-02-15T07:47:10.404205Z"
    }
   },
   "outputs": [],
   "source": [
    "class Word2:\n",
    "    def __init__(self,new_word,one,two,answer):\n",
    "        self.new_word = new_word\n",
    "        self.one = one\n",
    "        self.two = two\n",
    "        self.answer = answer\n",
    "        print(\"{}의 뜻은?\".format(self.new_word))\n",
    "        print(\"1. {}\".format(self.one))\n",
    "        print(\"2. {}\".format(self.two))\n",
    "\n",
    "    def check_answer(self):\n",
    "        self.a = int(input(\"다시 입력해봐\"))\n",
    "        if self.answer == self.a : \n",
    "            print(\"정답입니다.\")\n",
    "        else : \n",
    "            print(\"틀렸습니다.\")\n",
    "            return Word2.check_answer(self)"
   ]
  },
  {
   "cell_type": "code",
   "execution_count": 141,
   "metadata": {
    "ExecuteTime": {
     "end_time": "2021-02-15T07:47:11.261059Z",
     "start_time": "2021-02-15T07:47:11.253081Z"
    }
   },
   "outputs": [
    {
     "name": "stdout",
     "output_type": "stream",
     "text": [
      "얼죽아의 뜻은?\n",
      "1. 얼어 죽어도 아메리카노\n",
      "2. 얼굴만은 죽어도 아기피부\n"
     ]
    }
   ],
   "source": [
    "word2=Word2(\"얼죽아\",\"얼어 죽어도 아메리카노\",\"얼굴만은 죽어도 아기피부\",1)"
   ]
  },
  {
   "cell_type": "code",
   "execution_count": 142,
   "metadata": {
    "ExecuteTime": {
     "end_time": "2021-02-15T07:47:18.610741Z",
     "start_time": "2021-02-15T07:47:12.136630Z"
    }
   },
   "outputs": [
    {
     "name": "stdout",
     "output_type": "stream",
     "text": [
      "다시 입력해봐2\n",
      "틀렸습니다.\n",
      "다시 입력해봐2\n",
      "틀렸습니다.\n",
      "다시 입력해봐1\n",
      "정답입니다.\n"
     ]
    }
   ],
   "source": [
    "word2.check_answer()"
   ]
  },
  {
   "cell_type": "code",
   "execution_count": null,
   "metadata": {
    "ExecuteTime": {
     "end_time": "2021-02-15T07:16:17.216449Z",
     "start_time": "2021-02-15T07:16:17.207474Z"
    }
   },
   "outputs": [],
   "source": [
    "#word=Word(\"얼죽아\",\"얼어 죽어도 아메리카노\",\"얼굴만은 죽어도 아기피부\",1)\n",
    "# Word의 인스턴스 생성\n",
    "# word가 Word를 참조함"
   ]
  },
  {
   "cell_type": "code",
   "execution_count": 107,
   "metadata": {
    "ExecuteTime": {
     "end_time": "2021-02-15T07:16:17.438880Z",
     "start_time": "2021-02-15T07:16:17.427892Z"
    }
   },
   "outputs": [
    {
     "name": "stdout",
     "output_type": "stream",
     "text": [
      "신조어 : 얼죽아\n"
     ]
    }
   ],
   "source": [
    "word.info()"
   ]
  },
  {
   "cell_type": "code",
   "execution_count": 108,
   "metadata": {
    "ExecuteTime": {
     "end_time": "2021-02-15T07:16:17.735633Z",
     "start_time": "2021-02-15T07:16:17.719676Z"
    }
   },
   "outputs": [
    {
     "name": "stdout",
     "output_type": "stream",
     "text": [
      "얼죽아의 뜻은?\n",
      "1. 얼어 죽어도 아메리카노\n",
      "2. 얼굴만은 죽어도 아기피부\n"
     ]
    }
   ],
   "source": [
    "word.show_question()\n",
    "# Word가 구현한 메소드(method)호출\n",
    "# 메소드 : 클래스 안에 있는 함수"
   ]
  },
  {
   "cell_type": "code",
   "execution_count": 109,
   "metadata": {
    "ExecuteTime": {
     "end_time": "2021-02-15T07:16:19.564238Z",
     "start_time": "2021-02-15T07:16:18.384422Z"
    }
   },
   "outputs": [
    {
     "name": "stdout",
     "output_type": "stream",
     "text": [
      "=>2\n",
      "틀렸습니다.\n",
      "얼죽아의 뜻은?\n",
      "1. 얼어 죽어도 아메리카노\n",
      "2. 얼굴만은 죽어도 아기피부\n"
     ]
    }
   ],
   "source": [
    "word.check_answer(int(input(\"=>\")))"
   ]
  },
  {
   "cell_type": "code",
   "execution_count": null,
   "metadata": {},
   "outputs": [],
   "source": []
  },
  {
   "cell_type": "code",
   "execution_count": 31,
   "metadata": {
    "ExecuteTime": {
     "end_time": "2021-02-14T13:50:43.593637Z",
     "start_time": "2021-02-14T13:50:43.589643Z"
    }
   },
   "outputs": [],
   "source": [
    "class JSS:\n",
    "    def __init__(self):\n",
    "        print(\"JSS클래스 선언!\")\n",
    "    def show(self):\n",
    "        print(\"show 실행!\")"
   ]
  },
  {
   "cell_type": "code",
   "execution_count": 32,
   "metadata": {
    "ExecuteTime": {
     "end_time": "2021-02-14T13:50:44.206992Z",
     "start_time": "2021-02-14T13:50:44.190063Z"
    }
   },
   "outputs": [
    {
     "name": "stdout",
     "output_type": "stream",
     "text": [
      "JSS클래스 선언!\n"
     ]
    }
   ],
   "source": [
    "a = JSS()"
   ]
  },
  {
   "cell_type": "code",
   "execution_count": 33,
   "metadata": {
    "ExecuteTime": {
     "end_time": "2021-02-14T13:50:44.822372Z",
     "start_time": "2021-02-14T13:50:44.812373Z"
    }
   },
   "outputs": [
    {
     "name": "stdout",
     "output_type": "stream",
     "text": [
      "show 실행!\n"
     ]
    }
   ],
   "source": [
    "a.show()\n",
    "# a는 self를 받아오는 것"
   ]
  },
  {
   "cell_type": "code",
   "execution_count": 119,
   "metadata": {
    "ExecuteTime": {
     "end_time": "2021-02-15T07:40:34.126471Z",
     "start_time": "2021-02-15T07:40:34.108517Z"
    }
   },
   "outputs": [],
   "source": [
    "class JSS:\n",
    "    def __init__(self):\n",
    "        self.name = input(\"이름 : \")\n",
    "        self.age = input(\"나이 : \")\n",
    "    def show(self):\n",
    "        print(\"나의 이름은 {}, 나이는 {}세입니다.\".format(self.name,self.age))"
   ]
  },
  {
   "cell_type": "code",
   "execution_count": 43,
   "metadata": {
    "ExecuteTime": {
     "end_time": "2021-02-14T13:55:59.092288Z",
     "start_time": "2021-02-14T13:55:54.796211Z"
    }
   },
   "outputs": [
    {
     "name": "stdout",
     "output_type": "stream",
     "text": [
      "이름 : 강다영\n",
      "나이 : 27\n"
     ]
    }
   ],
   "source": [
    "b = JSS() # init안에 있는 내용 실행"
   ]
  },
  {
   "cell_type": "code",
   "execution_count": 44,
   "metadata": {
    "ExecuteTime": {
     "end_time": "2021-02-14T13:56:04.964151Z",
     "start_time": "2021-02-14T13:56:04.953181Z"
    }
   },
   "outputs": [
    {
     "data": {
      "text/plain": [
       "'강다영'"
      ]
     },
     "execution_count": 44,
     "metadata": {},
     "output_type": "execute_result"
    }
   ],
   "source": [
    "b.name"
   ]
  },
  {
   "cell_type": "code",
   "execution_count": 45,
   "metadata": {
    "ExecuteTime": {
     "end_time": "2021-02-14T13:56:09.003301Z",
     "start_time": "2021-02-14T13:56:08.997318Z"
    }
   },
   "outputs": [
    {
     "data": {
      "text/plain": [
       "'27'"
      ]
     },
     "execution_count": 45,
     "metadata": {},
     "output_type": "execute_result"
    }
   ],
   "source": [
    "b.age"
   ]
  },
  {
   "cell_type": "code",
   "execution_count": 46,
   "metadata": {
    "ExecuteTime": {
     "end_time": "2021-02-14T13:56:15.371942Z",
     "start_time": "2021-02-14T13:56:15.360971Z"
    }
   },
   "outputs": [
    {
     "name": "stdout",
     "output_type": "stream",
     "text": [
      "나의 이름은 강다영, 나이는 27세입니다.\n"
     ]
    }
   ],
   "source": [
    "b.show()"
   ]
  },
  {
   "cell_type": "code",
   "execution_count": 120,
   "metadata": {
    "ExecuteTime": {
     "end_time": "2021-02-15T07:40:39.697199Z",
     "start_time": "2021-02-15T07:40:39.687229Z"
    }
   },
   "outputs": [],
   "source": [
    "# 상속\n",
    "class JSS2(JSS):\n",
    "    def __init__(self):\n",
    "        super().__init__()  #기존 부모의 클래스에서 쓴 init 내용을 가져온다.(super는 JSS를 가져온것)\n",
    "        self.gender = input(\"성별 : \")  # 추가된 내용\n",
    "    def show(self):\n",
    "        print(\"나의 이름은 {}, 성별은 {}, 나이는 {}세입니다.\".format(self.name,self.gender,self.age))"
   ]
  },
  {
   "cell_type": "code",
   "execution_count": 121,
   "metadata": {
    "ExecuteTime": {
     "end_time": "2021-02-15T07:42:33.450648Z",
     "start_time": "2021-02-15T07:40:39.906206Z"
    }
   },
   "outputs": [
    {
     "name": "stdout",
     "output_type": "stream",
     "text": [
      "이름 : \n"
     ]
    },
    {
     "ename": "KeyboardInterrupt",
     "evalue": "Interrupted by user",
     "output_type": "error",
     "traceback": [
      "\u001b[1;31m---------------------------------------------------------------------------\u001b[0m",
      "\u001b[1;31mKeyboardInterrupt\u001b[0m                         Traceback (most recent call last)",
      "\u001b[1;32m<ipython-input-121-602beeb56c78>\u001b[0m in \u001b[0;36m<module>\u001b[1;34m\u001b[0m\n\u001b[1;32m----> 1\u001b[1;33m \u001b[0mc\u001b[0m \u001b[1;33m=\u001b[0m \u001b[0mJSS2\u001b[0m\u001b[1;33m(\u001b[0m\u001b[1;33m)\u001b[0m\u001b[1;33m\u001b[0m\u001b[1;33m\u001b[0m\u001b[0m\n\u001b[0m",
      "\u001b[1;32m<ipython-input-120-281809f59bfa>\u001b[0m in \u001b[0;36m__init__\u001b[1;34m(self)\u001b[0m\n\u001b[0;32m      2\u001b[0m \u001b[1;32mclass\u001b[0m \u001b[0mJSS2\u001b[0m\u001b[1;33m(\u001b[0m\u001b[0mJSS\u001b[0m\u001b[1;33m)\u001b[0m\u001b[1;33m:\u001b[0m\u001b[1;33m\u001b[0m\u001b[1;33m\u001b[0m\u001b[0m\n\u001b[0;32m      3\u001b[0m     \u001b[1;32mdef\u001b[0m \u001b[0m__init__\u001b[0m\u001b[1;33m(\u001b[0m\u001b[0mself\u001b[0m\u001b[1;33m)\u001b[0m\u001b[1;33m:\u001b[0m\u001b[1;33m\u001b[0m\u001b[1;33m\u001b[0m\u001b[0m\n\u001b[1;32m----> 4\u001b[1;33m         \u001b[0msuper\u001b[0m\u001b[1;33m(\u001b[0m\u001b[1;33m)\u001b[0m\u001b[1;33m.\u001b[0m\u001b[0m__init__\u001b[0m\u001b[1;33m(\u001b[0m\u001b[1;33m)\u001b[0m  \u001b[1;31m#기존 부모의 클래스에서 쓴 init 내용을 가져온다.(super는 JSS를 가져온것)\u001b[0m\u001b[1;33m\u001b[0m\u001b[1;33m\u001b[0m\u001b[0m\n\u001b[0m\u001b[0;32m      5\u001b[0m         \u001b[0mself\u001b[0m\u001b[1;33m.\u001b[0m\u001b[0mgender\u001b[0m \u001b[1;33m=\u001b[0m \u001b[0minput\u001b[0m\u001b[1;33m(\u001b[0m\u001b[1;34m\"성별 : \"\u001b[0m\u001b[1;33m)\u001b[0m  \u001b[1;31m# 추가된 내용\u001b[0m\u001b[1;33m\u001b[0m\u001b[1;33m\u001b[0m\u001b[0m\n\u001b[0;32m      6\u001b[0m     \u001b[1;32mdef\u001b[0m \u001b[0mshow\u001b[0m\u001b[1;33m(\u001b[0m\u001b[0mself\u001b[0m\u001b[1;33m)\u001b[0m\u001b[1;33m:\u001b[0m\u001b[1;33m\u001b[0m\u001b[1;33m\u001b[0m\u001b[0m\n",
      "\u001b[1;32m<ipython-input-119-f68ee9263602>\u001b[0m in \u001b[0;36m__init__\u001b[1;34m(self)\u001b[0m\n\u001b[0;32m      2\u001b[0m     \u001b[1;32mdef\u001b[0m \u001b[0m__init__\u001b[0m\u001b[1;33m(\u001b[0m\u001b[0mself\u001b[0m\u001b[1;33m)\u001b[0m\u001b[1;33m:\u001b[0m\u001b[1;33m\u001b[0m\u001b[1;33m\u001b[0m\u001b[0m\n\u001b[0;32m      3\u001b[0m         \u001b[0mself\u001b[0m\u001b[1;33m.\u001b[0m\u001b[0mname\u001b[0m \u001b[1;33m=\u001b[0m \u001b[0minput\u001b[0m\u001b[1;33m(\u001b[0m\u001b[1;34m\"이름 : \"\u001b[0m\u001b[1;33m)\u001b[0m\u001b[1;33m\u001b[0m\u001b[1;33m\u001b[0m\u001b[0m\n\u001b[1;32m----> 4\u001b[1;33m         \u001b[0mself\u001b[0m\u001b[1;33m.\u001b[0m\u001b[0mage\u001b[0m \u001b[1;33m=\u001b[0m \u001b[0minput\u001b[0m\u001b[1;33m(\u001b[0m\u001b[1;34m\"나이 : \"\u001b[0m\u001b[1;33m)\u001b[0m\u001b[1;33m\u001b[0m\u001b[1;33m\u001b[0m\u001b[0m\n\u001b[0m\u001b[0;32m      5\u001b[0m     \u001b[1;32mdef\u001b[0m \u001b[0mshow\u001b[0m\u001b[1;33m(\u001b[0m\u001b[0mself\u001b[0m\u001b[1;33m)\u001b[0m\u001b[1;33m:\u001b[0m\u001b[1;33m\u001b[0m\u001b[1;33m\u001b[0m\u001b[0m\n\u001b[0;32m      6\u001b[0m         \u001b[0mprint\u001b[0m\u001b[1;33m(\u001b[0m\u001b[1;34m\"나의 이름은 {}, 나이는 {}세입니다.\"\u001b[0m\u001b[1;33m.\u001b[0m\u001b[0mformat\u001b[0m\u001b[1;33m(\u001b[0m\u001b[0mself\u001b[0m\u001b[1;33m.\u001b[0m\u001b[0mname\u001b[0m\u001b[1;33m,\u001b[0m\u001b[0mself\u001b[0m\u001b[1;33m.\u001b[0m\u001b[0mage\u001b[0m\u001b[1;33m)\u001b[0m\u001b[1;33m)\u001b[0m\u001b[1;33m\u001b[0m\u001b[1;33m\u001b[0m\u001b[0m\n",
      "\u001b[1;32m~\\anaconda3\\lib\\site-packages\\ipykernel\\kernelbase.py\u001b[0m in \u001b[0;36mraw_input\u001b[1;34m(self, prompt)\u001b[0m\n\u001b[0;32m    858\u001b[0m                 \u001b[1;34m\"raw_input was called, but this frontend does not support input requests.\"\u001b[0m\u001b[1;33m\u001b[0m\u001b[1;33m\u001b[0m\u001b[0m\n\u001b[0;32m    859\u001b[0m             )\n\u001b[1;32m--> 860\u001b[1;33m         return self._input_request(str(prompt),\n\u001b[0m\u001b[0;32m    861\u001b[0m             \u001b[0mself\u001b[0m\u001b[1;33m.\u001b[0m\u001b[0m_parent_ident\u001b[0m\u001b[1;33m,\u001b[0m\u001b[1;33m\u001b[0m\u001b[1;33m\u001b[0m\u001b[0m\n\u001b[0;32m    862\u001b[0m             \u001b[0mself\u001b[0m\u001b[1;33m.\u001b[0m\u001b[0m_parent_header\u001b[0m\u001b[1;33m,\u001b[0m\u001b[1;33m\u001b[0m\u001b[1;33m\u001b[0m\u001b[0m\n",
      "\u001b[1;32m~\\anaconda3\\lib\\site-packages\\ipykernel\\kernelbase.py\u001b[0m in \u001b[0;36m_input_request\u001b[1;34m(self, prompt, ident, parent, password)\u001b[0m\n\u001b[0;32m    902\u001b[0m             \u001b[1;32mexcept\u001b[0m \u001b[0mKeyboardInterrupt\u001b[0m\u001b[1;33m:\u001b[0m\u001b[1;33m\u001b[0m\u001b[1;33m\u001b[0m\u001b[0m\n\u001b[0;32m    903\u001b[0m                 \u001b[1;31m# re-raise KeyboardInterrupt, to truncate traceback\u001b[0m\u001b[1;33m\u001b[0m\u001b[1;33m\u001b[0m\u001b[1;33m\u001b[0m\u001b[0m\n\u001b[1;32m--> 904\u001b[1;33m                 \u001b[1;32mraise\u001b[0m \u001b[0mKeyboardInterrupt\u001b[0m\u001b[1;33m(\u001b[0m\u001b[1;34m\"Interrupted by user\"\u001b[0m\u001b[1;33m)\u001b[0m \u001b[1;32mfrom\u001b[0m \u001b[1;32mNone\u001b[0m\u001b[1;33m\u001b[0m\u001b[1;33m\u001b[0m\u001b[0m\n\u001b[0m\u001b[0;32m    905\u001b[0m             \u001b[1;32mexcept\u001b[0m \u001b[0mException\u001b[0m \u001b[1;32mas\u001b[0m \u001b[0me\u001b[0m\u001b[1;33m:\u001b[0m\u001b[1;33m\u001b[0m\u001b[1;33m\u001b[0m\u001b[0m\n\u001b[0;32m    906\u001b[0m                 \u001b[0mself\u001b[0m\u001b[1;33m.\u001b[0m\u001b[0mlog\u001b[0m\u001b[1;33m.\u001b[0m\u001b[0mwarning\u001b[0m\u001b[1;33m(\u001b[0m\u001b[1;34m\"Invalid Message:\"\u001b[0m\u001b[1;33m,\u001b[0m \u001b[0mexc_info\u001b[0m\u001b[1;33m=\u001b[0m\u001b[1;32mTrue\u001b[0m\u001b[1;33m)\u001b[0m\u001b[1;33m\u001b[0m\u001b[1;33m\u001b[0m\u001b[0m\n",
      "\u001b[1;31mKeyboardInterrupt\u001b[0m: Interrupted by user"
     ]
    }
   ],
   "source": [
    "c = JSS2()"
   ]
  },
  {
   "cell_type": "code",
   "execution_count": 55,
   "metadata": {
    "ExecuteTime": {
     "end_time": "2021-02-14T14:04:42.894743Z",
     "start_time": "2021-02-14T14:04:42.877787Z"
    }
   },
   "outputs": [
    {
     "name": "stdout",
     "output_type": "stream",
     "text": [
      "나의 이름은 홍길동, 성별은 남, 나이는 28세입니다.\n"
     ]
    }
   ],
   "source": [
    "c.show()"
   ]
  },
  {
   "cell_type": "code",
   "execution_count": null,
   "metadata": {},
   "outputs": [],
   "source": []
  }
 ],
 "metadata": {
  "kernelspec": {
   "display_name": "Python 3",
   "language": "python",
   "name": "python3"
  },
  "language_info": {
   "codemirror_mode": {
    "name": "ipython",
    "version": 3
   },
   "file_extension": ".py",
   "mimetype": "text/x-python",
   "name": "python",
   "nbconvert_exporter": "python",
   "pygments_lexer": "ipython3",
   "version": "3.8.5"
  },
  "toc": {
   "base_numbering": 1,
   "nav_menu": {},
   "number_sections": true,
   "sideBar": true,
   "skip_h1_title": false,
   "title_cell": "Table of Contents",
   "title_sidebar": "Contents",
   "toc_cell": false,
   "toc_position": {},
   "toc_section_display": true,
   "toc_window_display": false
  },
  "varInspector": {
   "cols": {
    "lenName": 16,
    "lenType": 16,
    "lenVar": 40
   },
   "kernels_config": {
    "python": {
     "delete_cmd_postfix": "",
     "delete_cmd_prefix": "del ",
     "library": "var_list.py",
     "varRefreshCmd": "print(var_dic_list())"
    },
    "r": {
     "delete_cmd_postfix": ") ",
     "delete_cmd_prefix": "rm(",
     "library": "var_list.r",
     "varRefreshCmd": "cat(var_dic_list()) "
    }
   },
   "types_to_exclude": [
    "module",
    "function",
    "builtin_function_or_method",
    "instance",
    "_Feature"
   ],
   "window_display": false
  }
 },
 "nbformat": 4,
 "nbformat_minor": 4
}
