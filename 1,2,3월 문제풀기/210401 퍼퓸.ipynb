{
 "cells": [
  {
   "cell_type": "code",
   "execution_count": 1,
   "id": "expanded-timer",
   "metadata": {
    "ExecuteTime": {
     "end_time": "2021-04-01T15:27:09.733887Z",
     "start_time": "2021-04-01T15:27:08.240882Z"
    }
   },
   "outputs": [],
   "source": [
    "import numpy as np\n",
    "import pandas as pd\n",
    "import requests\n",
    "from bs4 import BeautifulSoup as bsp\n",
    "import matplotlib\n",
    "import matplotlib.pyplot as plt\n",
    "import sqlite3\n",
    "import re\n",
    "from datetime import datetime, timedelta,date\n",
    "import sys\n",
    "import time\n",
    "import click\n",
    "from selenium.webdriver.common.action_chains import ActionChains"
   ]
  },
  {
   "cell_type": "code",
   "execution_count": 29,
   "id": "orange-oxygen",
   "metadata": {
    "ExecuteTime": {
     "end_time": "2021-04-01T16:08:41.656507Z",
     "start_time": "2021-04-01T16:08:36.387007Z"
    }
   },
   "outputs": [],
   "source": [
    "from selenium import webdriver\n",
    "from bs4 import BeautifulSoup as bsp\n",
    "\n",
    "driver = webdriver.Chrome('C:/Users/687/asi/chromedriver_win32 (2)/chromedriver')\n",
    "url = ('https://perfumegraphy.com/product/%EA%B5%AC%EC%B0%8C-%EB%B8%94%EB%A3%B8-%EC%98%A4-%EB%93%9C-%ED%8D%BC%ED%93%B8-3050100ml-%ED%85%8C%EC%8A%A4%ED%84%B0/1469/category/201/display/1/#review')\n",
    "#headers = {'user-agent': 'Mozilla/5.0 (Windows NT 10.0; Win64; x64) AppleWebKit/537.36 (KHTML, like Gecko) Chrome/89.0.4389.114 Safari/537.36'} \n",
    "driver.get(url)\n",
    "driver.implicitly_wait(3)\n",
    "html = driver.page_source\n",
    "src = bsp(html,'html.parser')"
   ]
  },
  {
   "cell_type": "code",
   "execution_count": 41,
   "id": "corresponding-princeton",
   "metadata": {
    "ExecuteTime": {
     "end_time": "2021-04-01T16:27:02.860356Z",
     "start_time": "2021-04-01T16:27:02.849386Z"
    }
   },
   "outputs": [
    {
     "name": "stdout",
     "output_type": "stream",
     "text": [
      "[]\n"
     ]
    }
   ],
   "source": [
    "#reviews = src.find('li',attrs={'id':'review_18512'})\n",
    "reviews = src.select('div.products_reviews_board_review__message')\n",
    "print(reviews)"
   ]
  },
  {
   "cell_type": "code",
   "execution_count": null,
   "id": "happy-washer",
   "metadata": {},
   "outputs": [],
   "source": [
    "driver = webdriver.Chrome('C:/asi/project/chromedriver_win32 (3)/chromedriver')\n",
    "for women_top100 in women_top100s :\n",
    "    driver.get(women_top100)\n",
    "    time.sleep(5)  # implicity 창이 안떠도 20초 기다리겠다.   ///  time sleep 화면 정지(시간만큼)\n",
    "    scroll()\n",
    "#     conts = urls['content']\n",
    "    whtml = driver.page_source\n",
    "    wsrc = bsp(whtml,'html.parser')\n",
    "    mains = wsrc.find(attrs={\"class\":'contents__product-info'})  \n",
    "    brand_name = mains.select('p.product-main-info__brand_name')[0].text.strip()\n",
    "    print(brand_name)\n",
    "    score = mains.find(attrs={\"class\" :'ratings__score' }).text.strip()\n",
    "    print(score)\n",
    "    name = mains.select('span.product-main-info__product_name__text')[0].text.strip()\n",
    "    print(name)\n",
    "    note_ = mains.select('div.info__description')[0].text.strip()\n",
    "    note = re.sub('\\*.*\\.','',note_)\n",
    "    print(note)\n",
    "    print('*'*100)\n",
    "    reviews = wsrc.select('li.review-list-item')\n",
    "    for review in reviews :\n",
    "        user = review.select('span.user-name')[0].text.strip()\n",
    "        age_ = review.select('span.txt')[0].text.strip()\n",
    "        age = re.sub(' ·.*','',age_)\n",
    "        #gender = review.select('span.icon-sprite')\n",
    "        coment = review.select('p.review')[0].text.strip()\n",
    "        print(user,age,coment)\n",
    "        print('-'*100)\n",
    "    time.sleep(3)"
   ]
  },
  {
   "cell_type": "code",
   "execution_count": null,
   "id": "dutch-intervention",
   "metadata": {},
   "outputs": [],
   "source": []
  }
 ],
 "metadata": {
  "kernelspec": {
   "display_name": "Python 3",
   "language": "python",
   "name": "python3"
  },
  "language_info": {
   "codemirror_mode": {
    "name": "ipython",
    "version": 3
   },
   "file_extension": ".py",
   "mimetype": "text/x-python",
   "name": "python",
   "nbconvert_exporter": "python",
   "pygments_lexer": "ipython3",
   "version": "3.8.5"
  },
  "toc": {
   "base_numbering": 1,
   "nav_menu": {},
   "number_sections": true,
   "sideBar": true,
   "skip_h1_title": false,
   "title_cell": "Table of Contents",
   "title_sidebar": "Contents",
   "toc_cell": false,
   "toc_position": {},
   "toc_section_display": true,
   "toc_window_display": false
  },
  "varInspector": {
   "cols": {
    "lenName": 16,
    "lenType": 16,
    "lenVar": 40
   },
   "kernels_config": {
    "python": {
     "delete_cmd_postfix": "",
     "delete_cmd_prefix": "del ",
     "library": "var_list.py",
     "varRefreshCmd": "print(var_dic_list())"
    },
    "r": {
     "delete_cmd_postfix": ") ",
     "delete_cmd_prefix": "rm(",
     "library": "var_list.r",
     "varRefreshCmd": "cat(var_dic_list()) "
    }
   },
   "types_to_exclude": [
    "module",
    "function",
    "builtin_function_or_method",
    "instance",
    "_Feature"
   ],
   "window_display": false
  }
 },
 "nbformat": 4,
 "nbformat_minor": 5
}
