{
 "cells": [
  {
   "cell_type": "markdown",
   "metadata": {},
   "source": [
    "## 1번부터 시작\n",
    "텍스트를 조각내어 그 텍스트에서 2번째 글자들을 가져와서 문장 만들기\n",
    "입력='오다가나 굼영고곰문 문아국수맛있다 난문고리를 가제갈옥희 감를글슴늠 감시를하지 구작함눔눅 감하지 북자주빛 곰화요일 고이 곰팅이'\n",
    "출력 =''<-말이 되는 말"
   ]
  },
  {
   "cell_type": "code",
   "execution_count": null,
   "metadata": {},
   "outputs": [],
   "source": [
    "text='오다가나 굼영고곰문 문아국수맛있다 난문고리를 가제갈옥희 감를글슴늠 감시를하지 구작함눔눅 감하지 북자주빛 곰화요일 고이 곰팅이'\n",
    "text=text.split()\n",
    "answer=''\n",
    "for i in text:\n",
    "    answer=answer+i[1]\n",
    "answer"
   ]
  },
  {
   "cell_type": "markdown",
   "metadata": {},
   "source": [
    "## 2.잘못 입력한('.','+') 이메일 주소를 바꾸고 중복되지 않는 이메일 주소 갯수와 주소 출력하기\n",
    "입력: input=[\"test.email+alex@layone.com\",\"test.e.mail+alex@lay.one.com\",\"testemail+david@lay.one.com\",\"kangdayoung+1@lay.one.com\",\"sophia+2@lay.one.com\",\"sophia.2@layone.com\",\"kangdayoung.1@layone.com\"]"
   ]
  },
  {
   "cell_type": "code",
   "execution_count": 1,
   "metadata": {},
   "outputs": [
    {
     "name": "stdout",
     "output_type": "stream",
     "text": [
      "4\n",
      "['testemailalex@layone.com', 'testemaildavid@layone.com', 'kangdayoung1@layone.com', 'sophia2@layone.com']\n"
     ]
    }
   ],
   "source": [
    "inputt=[\"test.email+alex@layone.com\",\"test.e.mail+alex@lay.one.com\",\"testemail+david@lay.one.com\",\"kangdayoung+1@lay.one.com\",\"sophia+2@lay.one.com\",\"sophia.2@layone.com\",\"kangdayoung.1@layone.com\"]\n",
    "for i in range(len(inputt)):\n",
    "    inputt[i]=inputt[i].replace('+','')\n",
    "    inputt[i]=inputt[i][0:-4].replace('.','')+inputt[i][-4:]\n",
    "answer=[]\n",
    "for i in inputt:\n",
    "    if i not in answer:\n",
    "        answer.append(i)\n",
    "print(len(answer))\n",
    "print(answer)"
   ]
  },
  {
   "cell_type": "markdown",
   "metadata": {},
   "source": [
    "## 3.끝말잇기 만들기\n",
    "입력: input=['강아지','품사','지하실','화장품','장사꾼','압록강','실내화','사장']"
   ]
  },
  {
   "cell_type": "code",
   "execution_count": null,
   "metadata": {},
   "outputs": [],
   "source": [
    "inputt=['강아지','품사','지하실','화장품','장사꾼','압록강','실내화','사장']\n",
    "def remove_a(answer,inputt):\n",
    "    if len(inputt)==0:\n",
    "        pass\n",
    "    else:\n",
    "        for i in range(len(answer)):\n",
    "            if answer[i] in inputt:\n",
    "                inputt.remove(answer[i])\n",
    "def move(answer,inputt):\n",
    "    for i in range(len(inputt)):\n",
    "        if answer[len(answer)-1][-1] ==inputt[i][0]:\n",
    "            answer.append(inputt[i])\n",
    "            pass\n",
    "first=[]\n",
    "last=[]\n",
    "start=''\n",
    "for i in inputt:\n",
    "    last.append(i[-1])\n",
    "    first.append(i[0])\n",
    "for i in range(len(first)):\n",
    "    if first[i] not in last:\n",
    "        start=inputt[i]\n",
    "answer=[]\n",
    "answer.append(start)\n",
    "remove_a(answer,inputt)\n",
    "r =len(inputt)-1\n",
    "for i in range(r):\n",
    "    move(answer,inputt)\n",
    "    remove_a(answer,inputt)\n",
    "print(answer)    "
   ]
  },
  {
   "cell_type": "markdown",
   "metadata": {},
   "source": [
    "## 4.한글자 한글만 추출하기\n",
    "입력 : ['asda','222','#%$$','%','t2','강','rweq','박소담','다담','다','78954','yoyoyo','영','qweqe22','qwewqeq','qweqs22','1212','고','dqdq','생','1523','많','qweqeas','고고고고','213123','았','강만','어']\n"
   ]
  },
  {
   "cell_type": "code",
   "execution_count": null,
   "metadata": {},
   "outputs": [],
   "source": [
    "list=['asda','222','#%$$','%','t2','강','rweq','박소담','다담','다','78954','yoyoyo','영','qweqe22','qwewqeq','qweqs22','1212','고','dqdq','생','1523','많','qweqeas','고고고고','213123','았','강만','어']\n",
    "answer=''\n",
    "for i in list:\n",
    "    if len(i) ==1:\n",
    "        answer=answer+i\n",
    "answer =answer.replace('%','')\n",
    "print(answer)"
   ]
  },
  {
   "cell_type": "markdown",
   "metadata": {},
   "source": [
    "## 5.숫자로 입력해서 문자로 출력하기(input)\n",
    "입력: 다영이가 아무 숫자나 적는 곳 but 예시 ->[숫자를 입력해주세요 : 22],[숫자를 입력해주세요 : 11111],[숫자를 입력해주세요 : 2323]"
   ]
  },
  {
   "cell_type": "code",
   "execution_count": null,
   "metadata": {},
   "outputs": [],
   "source": [
    "a = input(\"숫자를 입력하세요: \")\n",
    "b = input(\"숫자를 입력하세요: \")\n",
    "c = input(\"숫자를 입력하세요: \")\n",
    "a=a+b+c\n",
    "print(a)"
   ]
  },
  {
   "cell_type": "markdown",
   "metadata": {},
   "source": [
    "## 6.문자로 입력해서 숫자로 덧셈하기(input)\n",
    "입력: 다영이가 아무 숫자나 적는 곳 but 예시 ->[문자를 입력해주세요 : 삼삼],[문자를 입력해주세요 : 오오],[문자를 입력해주세요 : 일일]\n"
   ]
  },
  {
   "cell_type": "code",
   "execution_count": null,
   "metadata": {},
   "outputs": [],
   "source": [
    "t1= input('문자를 입력해주세요 : ')\n",
    "t2= input('문자를 입력해주세요 : ')\n",
    "t3= input('문자를 입력해주세요 : ')\n",
    "list1=['영','일','이','삼','사','오','육','칠','팔','구']\n",
    "def transH(t,list1):\n",
    "    a=0\n",
    "    for i in range(len(t)):\n",
    "        if t[i] in list1:\n",
    "            a=a*10+list1.index(t[i])\n",
    "    return a\n",
    "new_t1=int(transH(t1,list1))\n",
    "new_t2=int(transH(t2,list1))\n",
    "new_t3=int(transH(t3,list1))\n",
    "answer=new_t1+new_t2+new_t3\n",
    "print(answer)"
   ]
  },
  {
   "cell_type": "markdown",
   "metadata": {},
   "source": [
    "## 7.값과 인덱스 같이 출력하기\n",
    "입력: ['영','일','이','삼','사','오']\n",
    "출력: index : 0 , value: '영' ~~(생략)"
   ]
  },
  {
   "cell_type": "code",
   "execution_count": null,
   "metadata": {},
   "outputs": [],
   "source": [
    "r =['영','일','이','삼','사','오']\n",
    "for i,v in enumerate(r):\n",
    "    print('index : '+str(i)+', value : '+v)"
   ]
  },
  {
   "cell_type": "code",
   "execution_count": null,
   "metadata": {},
   "outputs": [],
   "source": []
  }
 ],
 "metadata": {
  "kernelspec": {
   "display_name": "Python 3",
   "language": "python",
   "name": "python3"
  },
  "language_info": {
   "codemirror_mode": {
    "name": "ipython",
    "version": 3
   },
   "file_extension": ".py",
   "mimetype": "text/x-python",
   "name": "python",
   "nbconvert_exporter": "python",
   "pygments_lexer": "ipython3",
   "version": "3.8.5"
  }
 },
 "nbformat": 4,
 "nbformat_minor": 4
}
