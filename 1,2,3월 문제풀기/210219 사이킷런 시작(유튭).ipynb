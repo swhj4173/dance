{
 "cells": [
  {
   "cell_type": "raw",
   "id": "unable-secret",
   "metadata": {},
   "source": [
    "1. scikit-learn 특징\n",
    "- 다양한 머신러닝 알고리즘을 구현한 파이썬 라이브러리\n",
    "- 심플하고 일관성 있는 API, 유용한 온라인 문서, 풍부한 예제\n",
    "- 머신러닝을 위한 쉽고 효율적인 개발 라이브러리 제공\n",
    "- 다양한 머신러닝 관련 알고리즘과 개발을 위한 프레임워크와 API 제공\n",
    "- 많은 사람들이 사용하며 다양한 환경에서 검증된 라이브러리"
   ]
  },
  {
   "cell_type": "raw",
   "id": "distinguished-lightweight",
   "metadata": {},
   "source": [
    "1-1. scikit-learn 주요 모듈"
   ]
  },
  {
   "cell_type": "markdown",
   "id": "anonymous-sperm",
   "metadata": {
    "ExecuteTime": {
     "end_time": "2021-02-19T07:40:25.990745Z",
     "start_time": "2021-02-19T07:40:25.975791Z"
    }
   },
   "source": [
    "| 모듈 | 설명 |\n",
    "|------|------|\n",
    "| `sklearn.datasets` | 내장된 예제 데이터 세트 |\n",
    "| `sklearn.preprocessing` | 다양한 데이터 전처리 기능 제공 (변환, 정규화, 스케일링 등) |\n",
    "| `sklearn.feature_selection` | 특징(feature)를 선택할 수 있는 기능 제공 | \n",
    "| `sklearn.feature_extraction` | 특징(feature) 추출에 사용 |\n",
    "| `sklearn.decomposition` | 차원 축소 관련 알고리즘 지원 (PCA, NMF, Truncated SVD 등)\n",
    "| `sklearn.model_selection` | 교차 검증을 위해 데이터를 학습/테스트용으로 분리, 최적 파라미터를 추출하는 API 제공 (GridSearch 등)\n",
    "| `sklearn.metrics` | 분류, 회귀, 클러스터링, Pairwise에 대한 다양한 성능 측정 방법 제공 (Accuracy, Precision, Recall, ROC-AUC, RMSE 등) |\n",
    "| `sklearn.pipeline` | 특징 처리 등의 변환과 ML 알고리즘 학습, 예측 등을 묶어서 실행할 수 있는 유틸리티 제공 |\n",
    "| `sklearn.linear_model` | 선형 회귀, 릿지(Ridge), 라쏘(Lasso), 로지스틱 회귀 등 회귀 관련 알고리즘과 SGD(Stochastic Gradient Descent) 알고리즘 제공 |\n",
    "| `sklearn.svm` | 서포트 벡터 머신 알고리즘 제공 |\n",
    "| `sklearn.neighbors` | 최근접 이웃 알고리즘 제공 (k-NN 등)\n",
    "| `sklearn.naive_bayes` | 나이브 베이즈 알고리즘 제공 (가우시안 NB, 다항 분포 NB 등) |\n",
    "| `sklearn.tree` | 의사 결정 트리 알고리즘 제공 |\n",
    "| `sklearn.ensemble` | 앙상블 알고리즘 제공 (Random Forest, AdaBoost, GradientBoost 등) |\n",
    "| `sklearn.cluster` | 비지도 클러스터링 알고리즘 제공 (k-Means, 계층형 클러스터링, DBSCAN 등)"
   ]
  },
  {
   "cell_type": "raw",
   "id": "refined-luxembourg",
   "metadata": {},
   "source": [
    "1.2 estimator API\n",
    "- 일관성 : 모든 객체는 일관된 문서를 갖춘 제한된 메서드 집합에서 비롯된 공통 인터페이스 공유\n",
    "- 검사(inspection) : 모든 지정된 파라미터 값은 공개 속성으로 노출\n",
    "- 제한된 객체 계층 구조\n",
    "    - 알고리즘만 파이썬 클래스에 의해 표현\n",
    "    - 데이터 세트는 표준(Numpy 배열, Pandas DataFrame, Scipy 희소 행렬)으로 표현\n",
    "    - 매개변수명은 표준 파이썬 문자열 사용\n",
    "- 구성 : 많은 머신러닝 작업은 기본 알고리즘의 시퀀스로 나타낼 수 있으며, scikit-learn은 가능한 곳이라면 어디서든 이 방식을 사용\n",
    "- 합리적인 기본값 : 모델이 사용자 지정 파라미터를 필요로 할 때 라이브러리가 적절한 기본값을 정의"
   ]
  },
  {
   "cell_type": "raw",
   "id": "excellent-finland",
   "metadata": {},
   "source": [
    "1.2.1 API 사용방법\n",
    "- Scikit-learn으로부터 적절한 estimator 클래스를 임포트해서 모델의 클래스 선택\n",
    "- 클래스를 원하는 값으로 인스턴스화해서 모델의 하이퍼파라미터 선택\n",
    "- 데이터를 특징배열과 대상벡터로 배치\n",
    "- 모델 인스턴스의 fit()메서드를 호출해 모델을 데이터에 적합\n",
    "- 모델을 새 데이터에 대해서 적용\n",
    "    - 지도학습 : 대체로 predict() 메서드를 사용해 알져지지 않은 데이터에 대한 레이블 예측\n",
    "    - 비지도학습 : 대체로 transform() 이나 predict() 메서드를 사용해 데이터의 속성을 변환하거나 추론 "
   ]
  },
  {
   "cell_type": "raw",
   "id": "intelligent-transcript",
   "metadata": {},
   "source": [
    "1.3 예제 데이터 세트"
   ]
  },
  {
   "cell_type": "markdown",
   "id": "combined-quarter",
   "metadata": {},
   "source": [
    "### 분류 또는 회귀용 데이터 세트\n",
    "\n",
    "| API | 설명 |\n",
    "|-----|------|\n",
    "| `datasets.load_boston()` | 미국 보스턴의 집에 대한 특징과 가격 데이터 (회귀용) |\n",
    "| `datasets.load_breast_cancer()` | 위스콘신 유방암 특징들과 악성/음성 레이블 데이터 (분류용) |\n",
    "| `datasets.load_diabetes()` | 당뇨 데이터 (회귀용) |\n",
    "| `datasets.load_digits()` | 0에서 9까지 숫자 이미지 픽셀 데이터 (분류용) |\n",
    "| `datasets.load_iris()` | 붓꽃에 대한 특징을 가진 데이터 (분류용) |"
   ]
  },
  {
   "cell_type": "raw",
   "id": "british-canada",
   "metadata": {},
   "source": [
    "1.3.1 온라인 데이터 세트\n",
    "- 데이터 크기가 커서 온라인에서 데이터를 다운로드 한 후에 불러오는 예제 데이터 세트"
   ]
  },
  {
   "cell_type": "markdown",
   "id": "opened-qualification",
   "metadata": {
    "ExecuteTime": {
     "end_time": "2021-02-19T08:58:15.356310Z",
     "start_time": "2021-02-19T08:58:15.335368Z"
    }
   },
   "source": [
    "| API | 설명 |\n",
    "|-----|------|\n",
    "| `fetch_california_housing()` | 캘리포니아 주택 가격 데이터 |\n",
    "| `fetch_covtype()` | 회귀 분석용 토지 조사 데이터 |\n",
    "| `fetch_20newsgroups()` | 뉴스 그룹 텍스트 데이터 |\n",
    "| `fetch_olivetti_faces()` | 얼굴 이미지 데이터 |\n",
    "| `fetch_lfw_people()` | 얼굴 이미지 데이터 |\n",
    "| `fetch_lfw_paris()` | 얼굴 이미지 데이터 |\n",
    "| `fetch_rcv1()` | 로이터 뉴스 말뭉치 데이터 |\n",
    "| `fetch_mldata()` | ML 웹사이트에서 다운로드 |\n"
   ]
  },
  {
   "cell_type": "raw",
   "id": "interested-berlin",
   "metadata": {},
   "source": [
    "1.3.2 분류와 클러스터링을 위한 표본 데이터 생성"
   ]
  },
  {
   "cell_type": "markdown",
   "id": "presidential-aspect",
   "metadata": {},
   "source": [
    "| API | 설명 |\n",
    "|-----|------|\n",
    "| `datasets.make_classifications()` | 분류를 위한 데이터 세트 생성. 높은 상관도, 불필요한 속성 등의 노이즈를 고려한 데이터를 무작위로 생성 |\n",
    "| `datasets.make_blobs()` | 클러스터링을 위한 데이터 세트 생성. 군집 지정 개수에 따라 여러 가지 클러스터링을 위한 데이터 셋트를 무작위로 생성 |"
   ]
  },
  {
   "cell_type": "raw",
   "id": "australian-walter",
   "metadata": {},
   "source": [
    "1.3.3 예제 데이터 세트 구조\n",
    "- 일반적으로 딕셔너리 형태로 구성\n",
    "- data : 특징 데이터 세트\n",
    "- target : 분류용은 레이블 값, 회귀용은 숫자 결과값 데이터\n",
    "- target_names : 개별 레이블의 이름(분류용)\n",
    "- feature_names : 특징 이름\n",
    "- DESCR : 데이터 세트에 대한 설명과 각 특징 설명"
   ]
  },
  {
   "cell_type": "raw",
   "id": "stylish-tonight",
   "metadata": {},
   "source": [
    "1.4 model_selection 모듈\n",
    "- 학습용 데이터와 테스트 데이터로 분리\n",
    "- 교차 검증 분할 및 평가\n",
    "- Estimator의 하이퍼 파라미터 튜닝을 위한 다양한 함수와 클래스 제공"
   ]
  },
  {
   "cell_type": "raw",
   "id": "engaged-colombia",
   "metadata": {},
   "source": [
    "1.5 train_test_split() : 학습/테스트 데이터 세트 분리"
   ]
  },
  {
   "cell_type": "raw",
   "id": "beginning-failing",
   "metadata": {},
   "source": [
    "1.5.1 cross_val_score() : 교차검증"
   ]
  },
  {
   "cell_type": "raw",
   "id": "parliamentary-affiliation",
   "metadata": {},
   "source": [
    "1.5.2 GridSearchCV : 교차 검증과 최적 하이퍼 파라미터 찾기\n",
    "- 훈련 단계에서 학습한 파라미터에 영향을 받아서 최상의 파라미터를 찾는 일은 항상 어려운 문제\n",
    "- 다양한 모델의 훈련과정을 자동화하고, 교차 검사를 사용해 최적 값을 제공하는 도구 필요"
   ]
  },
  {
   "cell_type": "markdown",
   "id": "unauthorized-mitchell",
   "metadata": {},
   "source": [
    "1.6 preprocessing 데이터 전처리 모듈\n",
    "- 데이터의 특징 스케일링을 위한 방법으로 표준화와 정규화 사용\n",
    "- 표준화 방법\n",
    "\\begin{equation}\n",
    "x_i^{'} = \\frac{x_i-mean(x)}{stdev(x)}\n",
    "\\end{equation}\n",
    "- 정규화 방법\n",
    "\\begin{equation}\n",
    "x_i^{'} = \\frac{x_i-min(x)}{max(x)-min(x)}\n",
    "\\end{equation}\n",
    "+ scikit-learn에서는 개별 벡터 크기를 맞추는 형태로 정규화"
   ]
  },
  {
   "cell_type": "raw",
   "id": "administrative-chain",
   "metadata": {},
   "source": [
    "1.6.1 StandardScaler : 표준화클래스"
   ]
  },
  {
   "cell_type": "raw",
   "id": "superb-sterling",
   "metadata": {},
   "source": [
    "1.6.2 MinMaxScaler : 정규화클래스"
   ]
  },
  {
   "cell_type": "raw",
   "id": "average-bahamas",
   "metadata": {},
   "source": [
    "1.7 성능 평가 지표"
   ]
  },
  {
   "cell_type": "raw",
   "id": "right-israel",
   "metadata": {},
   "source": [
    "1.7.1 정확도(Accuracy)\n",
    "- 정확도는 전체 예측 데이터 건수 중 예측 결과가 동일한 데이터 건수로 계산\n",
    "- scikit-learn에서는 accuracy_score 함수를 제공"
   ]
  },
  {
   "cell_type": "raw",
   "id": "hawaiian-eleven",
   "metadata": {},
   "source": [
    "1.7.2 오차행렬(Confusion Matrix)\n",
    "- True Negative : 예측값을 Negative 값 0으로 예측했고, 실제 값도 Negative 값 0\n",
    "- False Positive : 예측값을 Positive 값 1로 예측했는데, 실제 값은 Negative 값 0\n",
    "- False Negative : 예측값을 Negative 값 0으로 예측했는데, 실제 값은 Positive 값 1\n",
    "- True Positive : 예측값을 Positive 값 1로 예측했고, 실제 값도 Positive 값 1"
   ]
  },
  {
   "cell_type": "raw",
   "id": "agreed-damage",
   "metadata": {},
   "source": [
    "1.7.3 정밀도(Precision)와 재현율(Recall)\n",
    "- 정밀도 = TP/(FP+TP)\n",
    "- 재현율 = TP/(FN+TP)\n",
    "- 정확도 = (TN+TP)/(TN+FP+FN+TP)\n",
    "- 오류율 = (FN+FP)/(TN+FP+FN+TP)"
   ]
  },
  {
   "cell_type": "markdown",
   "id": "opposed-wholesale",
   "metadata": {},
   "source": [
    "1.7.4 F1 Score(F-measure)\n",
    "- 정밀도와 재현율을 결합한 지표\n",
    "- 정밀도와 재현율이 어느 한쪽으로 치우치치 않을 때 높은 값을 가짐\n",
    "\\begin{equation}\n",
    "F1 = 2 \\times \\frac{precision \\times recall}{precision + recall}\n",
    "\\end{equation}"
   ]
  },
  {
   "cell_type": "raw",
   "id": "incident-vertex",
   "metadata": {},
   "source": [
    "1.7.5 ROC 곡선과 AUC\n",
    "- ROC곡선은 FPR(False Positive Rate)이 변할 때, TPR(True Positive Rate)이 어떻게 변하는지 나타내는 곡선 "
   ]
  },
  {
   "cell_type": "code",
   "execution_count": null,
   "id": "representative-heart",
   "metadata": {},
   "outputs": [],
   "source": []
  }
 ],
 "metadata": {
  "kernelspec": {
   "display_name": "Python 3",
   "language": "python",
   "name": "python3"
  },
  "language_info": {
   "codemirror_mode": {
    "name": "ipython",
    "version": 3
   },
   "file_extension": ".py",
   "mimetype": "text/x-python",
   "name": "python",
   "nbconvert_exporter": "python",
   "pygments_lexer": "ipython3",
   "version": "3.8.5"
  },
  "toc": {
   "base_numbering": 1,
   "nav_menu": {},
   "number_sections": true,
   "sideBar": true,
   "skip_h1_title": false,
   "title_cell": "Table of Contents",
   "title_sidebar": "Contents",
   "toc_cell": false,
   "toc_position": {},
   "toc_section_display": true,
   "toc_window_display": false
  },
  "varInspector": {
   "cols": {
    "lenName": 16,
    "lenType": 16,
    "lenVar": 40
   },
   "kernels_config": {
    "python": {
     "delete_cmd_postfix": "",
     "delete_cmd_prefix": "del ",
     "library": "var_list.py",
     "varRefreshCmd": "print(var_dic_list())"
    },
    "r": {
     "delete_cmd_postfix": ") ",
     "delete_cmd_prefix": "rm(",
     "library": "var_list.r",
     "varRefreshCmd": "cat(var_dic_list()) "
    }
   },
   "types_to_exclude": [
    "module",
    "function",
    "builtin_function_or_method",
    "instance",
    "_Feature"
   ],
   "window_display": false
  }
 },
 "nbformat": 4,
 "nbformat_minor": 5
}
