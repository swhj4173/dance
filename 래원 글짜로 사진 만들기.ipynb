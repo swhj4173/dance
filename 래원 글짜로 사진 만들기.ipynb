{
 "cells": [
  {
   "cell_type": "code",
   "execution_count": null,
   "metadata": {
    "scrolled": true
   },
   "outputs": [],
   "source": [
    "from PIL import Image\n",
    "from PIL import ImageFont\n",
    "from PIL import ImageDraw\n",
    "import matplotlib.pylab as plt\n",
    "import copy\n",
    "import random\n",
    "target = Image.open(r'C:/Users/687/Desktop/래원.jpg')\n",
    "model = Image.new(target.mode,target.size)\n",
    "k = 0\n",
    "while 1 :\n",
    "    font_size = random.randrange(0,100)\n",
    "    font_position_x = random.randrange(-model.size[0],model.size[0])\n",
    "    font_position_y = random.randrange(-model.size[1],model.size[1])\n",
    "    text = 'layone'\n",
    "    rgb_target = target.convert('RGB')\n",
    "    r,g,b = rgb_target.getpixel((random.randrange(0,model.size[0]),random.randrange(0,model.size[1])))\n",
    "    font  = ImageFont.truetype('arial.ttf',font_size)\n",
    "    new_model = copy.deepcopy(model)\n",
    "    draw = ImageDraw.Draw(new_model)\n",
    "    draw.text((font_position_x,font_position_y),text,(r,g,b),font=font)\n",
    "    rgb_model = model.convert('RGB')\n",
    "    rgb_new_model = new_model.convert('RGB')\n",
    "    point_model = 0\n",
    "    point_new_model = 0\n",
    "    for i in range(0,target.size[0]):\n",
    "        for j in range(0,target.size[1]):\n",
    "            r0,g0,b0 = rgb_model.getpixel((i,j))\n",
    "            r1,g1,b1 = rgb_new_model.getpixel((i,j))\n",
    "            rt,gt,bt = rgb_target.getpixel((i,j))\n",
    "            point_model += abs(rt-r0)+abs(gt-g0)+abs(bt-b0)\n",
    "            point_new_model += abs(rt-r1)+abs(gt-g1)+abs(bt-b1)\n",
    "    if point_new_model < point_model:\n",
    "        model = new_model\n",
    "        k +=1\n",
    "        model.save('image/model_{}.jpg'.format(k))\n",
    "        print(k)"
   ]
  },
  {
   "cell_type": "code",
   "execution_count": null,
   "metadata": {},
   "outputs": [],
   "source": []
  }
 ],
 "metadata": {
  "kernelspec": {
   "display_name": "Python 3",
   "language": "python",
   "name": "python3"
  },
  "language_info": {
   "codemirror_mode": {
    "name": "ipython",
    "version": 3
   },
   "file_extension": ".py",
   "mimetype": "text/x-python",
   "name": "python",
   "nbconvert_exporter": "python",
   "pygments_lexer": "ipython3",
   "version": "3.8.5"
  }
 },
 "nbformat": 4,
 "nbformat_minor": 4
}
