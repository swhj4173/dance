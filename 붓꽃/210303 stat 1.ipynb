{
 "cells": [
  {
   "cell_type": "markdown",
   "metadata": {},
   "source": [
    "### 기초통계"
   ]
  },
  {
   "cell_type": "markdown",
   "metadata": {},
   "source": [
    "- 기술통계지표"
   ]
  },
  {
   "cell_type": "code",
   "execution_count": 1,
   "metadata": {},
   "outputs": [],
   "source": [
    "import numpy as np\n",
    "import matplotlib.pyplot as plt"
   ]
  },
  {
   "cell_type": "code",
   "execution_count": 2,
   "metadata": {},
   "outputs": [
    {
     "data": {
      "text/plain": [
       "-51.88764068095196"
      ]
     },
     "execution_count": 2,
     "metadata": {},
     "output_type": "execute_result"
    }
   ],
   "source": [
    "r = np.random.normal(0,4)*10 #(평균, 분산)\n",
    "r"
   ]
  },
  {
   "cell_type": "code",
   "execution_count": 3,
   "metadata": {},
   "outputs": [
    {
     "data": {
      "text/plain": [
       "-51"
      ]
     },
     "execution_count": 3,
     "metadata": {},
     "output_type": "execute_result"
    }
   ],
   "source": [
    "ri = int(r)\n",
    "ri"
   ]
  },
  {
   "cell_type": "code",
   "execution_count": 4,
   "metadata": {},
   "outputs": [
    {
     "data": {
      "text/plain": [
       "[-93, -28, -82, -46, -16, 13, 0, 24, 76, -22]"
      ]
     },
     "execution_count": 4,
     "metadata": {},
     "output_type": "execute_result"
    }
   ],
   "source": [
    "# 데이터 100개 임의로 만들기\n",
    "res = []\n",
    "for i in range(100):\n",
    "    r = np.random.normal(0,5) *10\n",
    "    res.append(int(r))\n",
    "res[:10]"
   ]
  },
  {
   "cell_type": "code",
   "execution_count": 5,
   "metadata": {},
   "outputs": [
    {
     "data": {
      "image/png": "[encoded data removed]",
      "text/plain": [
       "<Figure size 432x288 with 1 Axes>"
      ]
     },
     "metadata": {
      "needs_background": "light"
     },
     "output_type": "display_data"
    }
   ],
   "source": [
    "# 결과 히스토그램으로 보기\n",
    "plt.hist(res)\n",
    "plt.show()"
   ]
  },
  {
   "cell_type": "code",
   "execution_count": 6,
   "metadata": {},
   "outputs": [
    {
     "data": {
      "text/plain": [
       "1000"
      ]
     },
     "execution_count": 6,
     "metadata": {},
     "output_type": "execute_result"
    }
   ],
   "source": [
    "ys = np.random.normal(0,1,1000) #(평균, 분산, 개수)\n",
    "len(ys)"
   ]
  },
  {
   "cell_type": "code",
   "execution_count": 7,
   "metadata": {},
   "outputs": [
    {
     "data": {
      "image/png": "[encoded data removed]",
      "text/plain": [
       "<Figure size 432x288 with 1 Axes>"
      ]
     },
     "metadata": {
      "needs_background": "light"
     },
     "output_type": "display_data"
    }
   ],
   "source": [
    "# 개수가 많아지면 정규분포표처럼 보인다(종모양)\n",
    "plt.hist(ys)\n",
    "plt.show()"
   ]
  },
  {
   "cell_type": "code",
   "execution_count": 10,
   "metadata": {},
   "outputs": [
    {
     "data": {
      "text/plain": [
       "[-5.99, -7.0, -33.75, -7.0, 23.25, 2443.0899000000004, 49.42762284391189]"
      ]
     },
     "execution_count": 10,
     "metadata": {},
     "output_type": "execute_result"
    }
   ],
   "source": [
    "# 평균\n",
    "rmean = np.mean(res)\n",
    "\n",
    "# 중앙값\n",
    "rmedian = np.median(res)\n",
    "\n",
    "# 사분위수\n",
    "q1 = np.percentile(res,25)\n",
    "q2 = np.percentile(res,50)\n",
    "q3 = np.percentile(res,75)\n",
    "\n",
    "# 분산\n",
    "var = np.var(res)\n",
    "\n",
    "# 표준편차\n",
    "std = np.std(res)\n",
    "[rmean,rmedian,q1,q2,q3,var,std]"
   ]
  },
  {
   "cell_type": "code",
   "execution_count": 23,
   "metadata": {},
   "outputs": [
    {
     "data": {
      "image/png": "[encoded data removed]",
      "text/plain": [
       "<Figure size 432x288 with 1 Axes>"
      ]
     },
     "metadata": {
      "needs_background": "light"
     },
     "output_type": "display_data"
    }
   ],
   "source": [
    "# boxplot 그리기\n",
    "fig,ax = plt.subplots()\n",
    "# notch = 중위값 강조, vert = 회전, sym = 극단치\n",
    "ax.boxplot([res,ys],positions=[2,5.5],notch=1,vert=0,sym='ro')\n",
    "plt.show()"
   ]
  },
  {
   "cell_type": "markdown",
   "metadata": {},
   "source": [
    "#### 선형회귀 4가지 기본가정\n",
    "1. 선형성\n",
    "2. 독립성(이전에 값에 영향을 받지 않는다.)\n",
    "3. 등분산성(분산이 선 주위로 오차가 일정해야 한다., 고르게 분포한다.)\n",
    "4. 정규성(잔차의 정규성 -> 오차항들이 정규분포하는가)"
   ]
  },
  {
   "cell_type": "code",
   "execution_count": 30,
   "metadata": {},
   "outputs": [
    {
     "data": {
      "image/png": "[encoded data removed]",
      "text/plain": [
       "<Figure size 432x288 with 1 Axes>"
      ]
     },
     "metadata": {
      "needs_background": "light"
     },
     "output_type": "display_data"
    }
   ],
   "source": [
    "# 선형 회귀 만족하는 가상 데이터 만들기\n",
    "a = 3 #기본 테스트 기울기\n",
    "b = 5 #기본 테스트 절편\n",
    "xs = np.random.normal(0,5,1000)\n",
    "minx = np.min(xs)\n",
    "miny = a*minx+b+e\n",
    "maxx = np.max(xs)\n",
    "maxy = a*maxx+b+e\n",
    "\n",
    "ys = []\n",
    "data = []\n",
    "for x in xs:\n",
    "    e = np.random.normal(0,5) #(평균,분산) ->분산값을 조정해서 선형회귀선 만드는 최적의 숫자 찾아라!\n",
    "    y = a*x+b+e\n",
    "    ys.append(y)\n",
    "    data.append((x,y))\n",
    "    \n",
    "plt.plot(xs,ys,'r+')\n",
    "plt.plot([minx,maxx],[miny,maxy])\n",
    "plt.show()"
   ]
  },
  {
   "cell_type": "code",
   "execution_count": 33,
   "metadata": {},
   "outputs": [],
   "source": [
    "#data=[(x,y)]\n",
    "def makeMSE(a,b,data):\n",
    "    temp=[]\n",
    "    elist=[] #에러 리스트\n",
    "    for dx,dy in data:\n",
    "        yh = a*dx+b\n",
    "        e = (yh-dy)**2 #yh-dy : 잔차\n",
    "        elist.append(e)\n",
    "    mse = np.sum(elist)/len(data)\n",
    "    return mse\n",
    "\n",
    "    #mse = sum(np.mean(yh-yc)**2)/len(y)"
   ]
  },
  {
   "cell_type": "code",
   "execution_count": 34,
   "metadata": {},
   "outputs": [
    {
     "data": {
      "text/plain": [
       "51.46823995338266"
      ]
     },
     "execution_count": 34,
     "metadata": {},
     "output_type": "execute_result"
    }
   ],
   "source": [
    "mse = makeMSE(2,3,data)\n",
    "mse"
   ]
  },
  {
   "cell_type": "code",
   "execution_count": 35,
   "metadata": {},
   "outputs": [
    {
     "data": {
      "text/plain": [
       "47.032399725064735"
      ]
     },
     "execution_count": 35,
     "metadata": {},
     "output_type": "execute_result"
    }
   ],
   "source": [
    "mse = makeMSE(2.1,3,data) #기울기 높였더니 mse 값 줄어들었다.\n",
    "mse\n",
    "# ... 기울기 높이는 것이 올바른 방향으로 가는 것임을 알 수 있음"
   ]
  },
  {
   "cell_type": "code",
   "execution_count": 51,
   "metadata": {},
   "outputs": [],
   "source": [
    "def nextMSE(a,b,data,lr=0.1): #lr=러닝레이트\n",
    "    beforemse = makeMSE(a,b,data) \n",
    "    aftermse = makeMSE(a+lr,b,data)\n",
    "    if(aftermse<beforemse):\n",
    "        return aftermse+lr\n",
    "    else:\n",
    "        return aftermse-lr"
   ]
  },
  {
   "cell_type": "code",
   "execution_count": 54,
   "metadata": {},
   "outputs": [],
   "source": [
    "res_a = []\n",
    "a=2\n",
    "b=3\n",
    "for i in range(5): #계속 반복해서 돌도록 주기\n",
    "    a = nextMSE(a,b,data)\n",
    "    res_a.append(a)"
   ]
  },
  {
   "cell_type": "code",
   "execution_count": 55,
   "metadata": {},
   "outputs": [
    {
     "data": {
      "text/plain": [
       "[<matplotlib.lines.Line2D at 0x1b272771190>]"
      ]
     },
     "execution_count": 55,
     "metadata": {},
     "output_type": "execute_result"
    },
    {
     "data": {
      "image/png": "[encoded data removed]",
      "text/plain": [
       "<Figure size 432x288 with 1 Axes>"
      ]
     },
     "metadata": {
      "needs_background": "light"
     },
     "output_type": "display_data"
    }
   ],
   "source": [
    "plt.plot(res_a)"
   ]
  },
  {
   "cell_type": "code",
   "execution_count": null,
   "metadata": {},
   "outputs": [],
   "source": []
  }
 ],
 "metadata": {
  "kernelspec": {
   "display_name": "Python 3",
   "language": "python",
   "name": "python3"
  },
  "language_info": {
   "codemirror_mode": {
    "name": "ipython",
    "version": 3
   },
   "file_extension": ".py",
   "mimetype": "text/x-python",
   "name": "python",
   "nbconvert_exporter": "python",
   "pygments_lexer": "ipython3",
   "version": "3.8.5"
  }
 },
 "nbformat": 4,
 "nbformat_minor": 4
}
