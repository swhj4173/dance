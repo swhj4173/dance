{
 "cells": [
  {
   "cell_type": "code",
   "execution_count": 1,
   "metadata": {},
   "outputs": [
    {
     "name": "stdout",
     "output_type": "stream",
     "text": [
      "['False', 'None', 'True', 'and', 'as', 'assert', 'async', 'await', 'break', 'class', 'continue', 'def', 'del', 'elif', 'else', 'except', 'finally', 'for', 'from', 'global', 'if', 'import', 'in', 'is', 'lambda', 'nonlocal', 'not', 'or', 'pass', 'raise', 'return', 'try', 'while', 'with', 'yield']\n"
     ]
    }
   ],
   "source": [
    "import keyword  #키워드 보여줌(이 키워드들은 변수로 사용할 수 없다.)\n",
    "print(keyword.kwlist)"
   ]
  },
  {
   "cell_type": "code",
   "execution_count": 4,
   "metadata": {},
   "outputs": [
    {
     "name": "stdout",
     "output_type": "stream",
     "text": [
      "1\n",
      "2\n",
      "3\n",
      "4\n",
      "5\n",
      "6\n",
      "7\n",
      "8\n",
      "9\n",
      "합계 :  45\n"
     ]
    }
   ],
   "source": [
    "# 반복문 : 조건에 부합하는 한 특정한 명령어 반복\n",
    "# 숫자 범위 표현 : range(시작,끝)\n",
    "# continue : continue를 만났을 때, 더 이상 명령어를 실행하지 않고, 다음반복을 진행합니다.\n",
    "# break : break를 만나면 반복문을 벗어납니다.\n",
    "# while \n",
    "sum=0\n",
    "for i in range(1,10):\n",
    "    print(i)\n",
    "    sum = sum+i\n",
    "print(\"합계 : \",sum)"
   ]
  },
  {
   "cell_type": "code",
   "execution_count": 5,
   "metadata": {},
   "outputs": [
    {
     "name": "stdout",
     "output_type": "stream",
     "text": [
      "H\n",
      "e\n",
      "l\n",
      "l\n",
      "o\n",
      " \n",
      "W\n",
      "o\n",
      "r\n",
      "l\n",
      "d\n"
     ]
    }
   ],
   "source": [
    "count=0\n",
    "for i in \"Hello World\":\n",
    "    print(i)"
   ]
  },
  {
   "cell_type": "code",
   "execution_count": 6,
   "metadata": {},
   "outputs": [
    {
     "name": "stdout",
     "output_type": "stream",
     "text": [
      "o의 개수는 2 개 입니다.\n"
     ]
    }
   ],
   "source": [
    "count=0\n",
    "for i in \"Hello World\":\n",
    "    if i=='o':\n",
    "        count +=1\n",
    "        \n",
    "print(\"o의 개수는\",count,\"개 입니다.\")    "
   ]
  },
  {
   "cell_type": "code",
   "execution_count": 20,
   "metadata": {},
   "outputs": [
    {
     "name": "stdout",
     "output_type": "stream",
     "text": [
      "합계 :  15\n"
     ]
    }
   ],
   "source": [
    "sum = 0\n",
    "list = [1,2,3,4,5]\n",
    "for i in list:\n",
    "    sum = sum+i\n",
    "print(\"합계 : \",sum)"
   ]
  },
  {
   "cell_type": "code",
   "execution_count": 17,
   "metadata": {},
   "outputs": [
    {
     "name": "stdout",
     "output_type": "stream",
     "text": [
      "합계? 6\n"
     ]
    }
   ],
   "source": [
    "sum=0\n",
    "list = [1,2,3,4,5]\n",
    "for i in list:\n",
    "    if i %2==1:  # 홀수일때\n",
    "        continue  # 이부분은 넘기고 실행하지 않는다.(다시 처음부터)\n",
    "    sum=sum+i\n",
    "    #print(i) sum함수 안썼을 때 i 확인하려고 씀(짝수인 i만 나온다)\n",
    "print(\"합계?\",sum)\n",
    "# sum=0을 안쓰고 계속 shift + enter하면 숫자 올라간다(짝수계속 더하니까)"
   ]
  },
  {
   "cell_type": "code",
   "execution_count": 25,
   "metadata": {},
   "outputs": [
    {
     "name": "stdout",
     "output_type": "stream",
     "text": [
      "합계? 0\n"
     ]
    }
   ],
   "source": [
    "sum=0\n",
    "list = [1,2,3,4,5]\n",
    "for i in list:\n",
    "    if i %2==1:  # 홀수일때\n",
    "        break\n",
    "    sum=sum+i\n",
    "print(\"합계?\",sum)   "
   ]
  },
  {
   "cell_type": "code",
   "execution_count": 21,
   "metadata": {},
   "outputs": [
    {
     "name": "stdout",
     "output_type": "stream",
     "text": [
      "합계 :  12\n"
     ]
    }
   ],
   "source": [
    "i=0\n",
    "sum=0\n",
    "while i<=5:\n",
    "    i = i+1\n",
    "    if i % 2 ==1:\n",
    "        continue  # i가 홀수라면 무시하고 다음으로\n",
    "    sum = sum +i  # 짝수일때 더함\n",
    "print(\"합계 : \",sum)"
   ]
  },
  {
   "cell_type": "code",
   "execution_count": 29,
   "metadata": {},
   "outputs": [],
   "source": [
    "# 증감연산자 : 기존에 사용하던 증가, 감소 기능 짧게 사용하기\n",
    "# 축약형 => 증감연산자\n",
    "# 관계 연산자 : 두 개의 값을 비교하여 관계\n",
    "# A == B : A와 B가 같은지 판별\n",
    "# A != B : A와 B가 다른지 판별\n",
    "# A>B : A가 B보다 큰지 판별\n",
    "# A<B : A가 B보다 작은지 판별\n",
    "# 논리 연산자 : 여러개의 수식을 논리적으로 연산\n"
   ]
  },
  {
   "cell_type": "code",
   "execution_count": 27,
   "metadata": {},
   "outputs": [
    {
     "name": "stdout",
     "output_type": "stream",
     "text": [
      "20\n"
     ]
    }
   ],
   "source": [
    "a=10\n",
    "a=a+10\n",
    "print(a)"
   ]
  },
  {
   "cell_type": "code",
   "execution_count": 28,
   "metadata": {},
   "outputs": [
    {
     "name": "stdout",
     "output_type": "stream",
     "text": [
      "20\n"
     ]
    }
   ],
   "source": [
    "a=10\n",
    "a+=10\n",
    "print(a)"
   ]
  },
  {
   "cell_type": "code",
   "execution_count": 30,
   "metadata": {},
   "outputs": [
    {
     "name": "stdout",
     "output_type": "stream",
     "text": [
      "False\n",
      "True\n",
      "False\n"
     ]
    }
   ],
   "source": [
    "a= 3\n",
    "b= 7\n",
    "print(a==b)\n",
    "print(a!=b)\n",
    "print(a>b)"
   ]
  },
  {
   "cell_type": "code",
   "execution_count": 32,
   "metadata": {},
   "outputs": [
    {
     "name": "stdout",
     "output_type": "stream",
     "text": [
      "False\n"
     ]
    }
   ],
   "source": [
    "a='ABC'\n",
    "b='DEF'\n",
    "print(a==b)  #파이썬은 문자열끼리도 비교가능"
   ]
  },
  {
   "cell_type": "code",
   "execution_count": 33,
   "metadata": {},
   "outputs": [
    {
     "name": "stdout",
     "output_type": "stream",
     "text": [
      "False\n",
      "True\n",
      "False\n"
     ]
    }
   ],
   "source": [
    "a = True\n",
    "b = False\n",
    "print(a and b)\n",
    "print(a or b)\n",
    "print(not a)"
   ]
  },
  {
   "cell_type": "code",
   "execution_count": 34,
   "metadata": {},
   "outputs": [
    {
     "name": "stdout",
     "output_type": "stream",
     "text": [
      "야호!\n"
     ]
    }
   ],
   "source": [
    "if 3>5 or 7<10:\n",
    "    print(\"야호!\")"
   ]
  },
  {
   "cell_type": "code",
   "execution_count": 35,
   "metadata": {},
   "outputs": [
    {
     "name": "stdout",
     "output_type": "stream",
     "text": [
      "1\n",
      "2\n",
      "3\n"
     ]
    }
   ],
   "source": [
    "# 튜플(tuple) : 리스트와 비슷한 자료형(변경 불가)\n",
    "# 인덱시. 슬라이싱 등의 문법도 그대로 사용 가능\n",
    "tuple = (1,2,3)\n",
    "for i in tuple:\n",
    "    print(i)"
   ]
  },
  {
   "cell_type": "code",
   "execution_count": 36,
   "metadata": {},
   "outputs": [
    {
     "name": "stdout",
     "output_type": "stream",
     "text": [
      "2\n"
     ]
    }
   ],
   "source": [
    "list1 = [1,2,3]\n",
    "list2 = [4,5,6]\n",
    "\n",
    "tuple = (list1, list2)\n",
    "\n",
    "print(tuple[0][1])"
   ]
  },
  {
   "cell_type": "code",
   "execution_count": 37,
   "metadata": {},
   "outputs": [
    {
     "name": "stdout",
     "output_type": "stream",
     "text": [
      "(1, 2, 3, 4, 5)\n"
     ]
    }
   ],
   "source": [
    "tuple = (1,2,3,4,5,6,7,8)\n",
    "print(tuple[0:5])"
   ]
  },
  {
   "cell_type": "code",
   "execution_count": 39,
   "metadata": {},
   "outputs": [
    {
     "name": "stdout",
     "output_type": "stream",
     "text": [
      "Hello World\n",
      "['H', 'e', 'l', 'l', 'o', ' ', 'W', 'o', 'r', 'l', 'd']\n",
      "('H', 'e', 'l', 'l', 'o', ' ', 'W', 'o', 'r', 'l', 'd')\n"
     ]
    }
   ],
   "source": [
    "# 시퀀스(Sequence): 문자열, 리스트, 튜플 등의 인덱스를 가지는 자료형\n",
    "# len(시퀀스 자료형): 시퀀스 자료형의 길이를 출력하는 함수\n",
    "# 반복문 등에서 사용될 수 있음\n",
    "string = \"Hello World\"\n",
    "list = ['H','e','l','l','o',' ','W','o','r','l','d']\n",
    "tuple = ('H','e','l','l','o',' ','W','o','r','l','d')\n",
    "print(string)\n",
    "print(list)\n",
    "print(tuple)"
   ]
  },
  {
   "cell_type": "code",
   "execution_count": 43,
   "metadata": {},
   "outputs": [
    {
     "name": "stdout",
     "output_type": "stream",
     "text": [
      "['H', 'e', 'l', 'l', 'o', ' ', 'W', 'o', 'r', 'l', 'd']\n"
     ]
    }
   ],
   "source": [
    "a= []\n",
    "for i in range(len(string)):\n",
    "    b = string[i]\n",
    "    a.append(b)\n",
    "print(a)"
   ]
  },
  {
   "cell_type": "code",
   "execution_count": 45,
   "metadata": {},
   "outputs": [
    {
     "name": "stdout",
     "output_type": "stream",
     "text": [
      "True\n",
      "False\n"
     ]
    }
   ],
   "source": [
    "list = [1,2,3,4,5]\n",
    "print(4 in list)\n",
    "print(6 in list)"
   ]
  },
  {
   "cell_type": "code",
   "execution_count": 46,
   "metadata": {},
   "outputs": [],
   "source": [
    "# 함수 : 특정한 입력을 받아 처리한 이후 특정한 출력을 하는 모듈\n",
    "# 함수 이용으로 특정한 소스코드 반복 줄임\n",
    "# 가변인자 : 함수의 매개변수가 가변적일 수 있을때 사용\n",
    "# 전역변수와 지역변수\n",
    "# 전역변수 : 소스코드 전체 어디서든 사용가능한 변수\n",
    "# 지역변수 : 특정한 함수(블록) 안에서만 사용가능한 변수"
   ]
  },
  {
   "cell_type": "code",
   "execution_count": 49,
   "metadata": {},
   "outputs": [
    {
     "name": "stdout",
     "output_type": "stream",
     "text": [
      "3\n"
     ]
    }
   ],
   "source": [
    "def add(a,b):\n",
    "    sum =a+b\n",
    "    return sum\n",
    "#print(add(1,2))\n",
    "a = add(1,2)\n",
    "print(a)"
   ]
  },
  {
   "cell_type": "code",
   "execution_count": 50,
   "metadata": {},
   "outputs": [
    {
     "name": "stdout",
     "output_type": "stream",
     "text": [
      "3\n"
     ]
    }
   ],
   "source": [
    "def add(a,b):\n",
    "    print(a+b)\n",
    "    \n",
    "add(1,2)"
   ]
  },
  {
   "cell_type": "code",
   "execution_count": 51,
   "metadata": {},
   "outputs": [
    {
     "name": "stdout",
     "output_type": "stream",
     "text": [
      "(1, 2, 3)\n"
     ]
    }
   ],
   "source": [
    "def function(*data):\n",
    "    print(data)\n",
    "    \n",
    "function(1,2,3)"
   ]
  },
  {
   "cell_type": "code",
   "execution_count": 52,
   "metadata": {},
   "outputs": [
    {
     "name": "stdout",
     "output_type": "stream",
     "text": [
      "2\n"
     ]
    }
   ],
   "source": [
    "def add(a):\n",
    "    a = a+5 # 지역변수\n",
    "    b = 7\n",
    "a=2 # 전역변수\n",
    "add(a)\n",
    "print(a)"
   ]
  },
  {
   "cell_type": "code",
   "execution_count": 53,
   "metadata": {},
   "outputs": [
    {
     "name": "stdout",
     "output_type": "stream",
     "text": [
      "5\n",
      "[1, 2, 3]\n"
     ]
    }
   ],
   "source": [
    "def function():\n",
    "    a=5\n",
    "    b=[1,2,3]\n",
    "    return a,b\n",
    "\n",
    "a,b = function()\n",
    "print(a)\n",
    "print(b)"
   ]
  },
  {
   "cell_type": "code",
   "execution_count": 58,
   "metadata": {},
   "outputs": [
    {
     "ename": "RecursionError",
     "evalue": "maximum recursion depth exceeded",
     "output_type": "error",
     "traceback": [
      "\u001b[1;31m---------------------------------------------------------------------------\u001b[0m",
      "\u001b[1;31mRecursionError\u001b[0m                            Traceback (most recent call last)",
      "\u001b[1;32m<ipython-input-58-f86c6ff7fb6c>\u001b[0m in \u001b[0;36m<module>\u001b[1;34m\u001b[0m\n\u001b[0;32m      4\u001b[0m     \u001b[1;32mreturn\u001b[0m \u001b[0mfunction\u001b[0m\u001b[1;33m(\u001b[0m\u001b[1;33m)\u001b[0m  \u001b[1;31m# return 값에 결과값이 나와야 하는데 function()을 쓰면 다시 함수 function()으로 올라간다.\u001b[0m\u001b[1;33m\u001b[0m\u001b[1;33m\u001b[0m\u001b[0m\n\u001b[0;32m      5\u001b[0m                    \u001b[1;31m# function()함수 무한 반복으로 오류\u001b[0m\u001b[1;33m\u001b[0m\u001b[1;33m\u001b[0m\u001b[1;33m\u001b[0m\u001b[0m\n\u001b[1;32m----> 6\u001b[1;33m \u001b[0mprint\u001b[0m\u001b[1;33m(\u001b[0m\u001b[0mfunction\u001b[0m\u001b[1;33m(\u001b[0m\u001b[1;33m)\u001b[0m\u001b[1;33m)\u001b[0m\u001b[1;33m\u001b[0m\u001b[1;33m\u001b[0m\u001b[0m\n\u001b[0m",
      "\u001b[1;32m<ipython-input-58-f86c6ff7fb6c>\u001b[0m in \u001b[0;36mfunction\u001b[1;34m()\u001b[0m\n\u001b[0;32m      2\u001b[0m     \u001b[0ma\u001b[0m\u001b[1;33m=\u001b[0m\u001b[1;36m5\u001b[0m\u001b[1;33m\u001b[0m\u001b[1;33m\u001b[0m\u001b[0m\n\u001b[0;32m      3\u001b[0m     \u001b[0mb\u001b[0m\u001b[1;33m=\u001b[0m\u001b[1;33m[\u001b[0m\u001b[1;36m1\u001b[0m\u001b[1;33m,\u001b[0m\u001b[1;36m2\u001b[0m\u001b[1;33m,\u001b[0m\u001b[1;36m3\u001b[0m\u001b[1;33m]\u001b[0m\u001b[1;33m\u001b[0m\u001b[1;33m\u001b[0m\u001b[0m\n\u001b[1;32m----> 4\u001b[1;33m     \u001b[1;32mreturn\u001b[0m \u001b[0mfunction\u001b[0m\u001b[1;33m(\u001b[0m\u001b[1;33m)\u001b[0m  \u001b[1;31m# return 값에 결과값이 나와야 하는데 function()을 쓰면 다시 함수 function()으로 올라간다.\u001b[0m\u001b[1;33m\u001b[0m\u001b[1;33m\u001b[0m\u001b[0m\n\u001b[0m\u001b[0;32m      5\u001b[0m                    \u001b[1;31m# function()함수 무한 반복으로 오류\u001b[0m\u001b[1;33m\u001b[0m\u001b[1;33m\u001b[0m\u001b[1;33m\u001b[0m\u001b[0m\n\u001b[0;32m      6\u001b[0m \u001b[0mprint\u001b[0m\u001b[1;33m(\u001b[0m\u001b[0mfunction\u001b[0m\u001b[1;33m(\u001b[0m\u001b[1;33m)\u001b[0m\u001b[1;33m)\u001b[0m\u001b[1;33m\u001b[0m\u001b[1;33m\u001b[0m\u001b[0m\n",
      "... last 1 frames repeated, from the frame below ...\n",
      "\u001b[1;32m<ipython-input-58-f86c6ff7fb6c>\u001b[0m in \u001b[0;36mfunction\u001b[1;34m()\u001b[0m\n\u001b[0;32m      2\u001b[0m     \u001b[0ma\u001b[0m\u001b[1;33m=\u001b[0m\u001b[1;36m5\u001b[0m\u001b[1;33m\u001b[0m\u001b[1;33m\u001b[0m\u001b[0m\n\u001b[0;32m      3\u001b[0m     \u001b[0mb\u001b[0m\u001b[1;33m=\u001b[0m\u001b[1;33m[\u001b[0m\u001b[1;36m1\u001b[0m\u001b[1;33m,\u001b[0m\u001b[1;36m2\u001b[0m\u001b[1;33m,\u001b[0m\u001b[1;36m3\u001b[0m\u001b[1;33m]\u001b[0m\u001b[1;33m\u001b[0m\u001b[1;33m\u001b[0m\u001b[0m\n\u001b[1;32m----> 4\u001b[1;33m     \u001b[1;32mreturn\u001b[0m \u001b[0mfunction\u001b[0m\u001b[1;33m(\u001b[0m\u001b[1;33m)\u001b[0m  \u001b[1;31m# return 값에 결과값이 나와야 하는데 function()을 쓰면 다시 함수 function()으로 올라간다.\u001b[0m\u001b[1;33m\u001b[0m\u001b[1;33m\u001b[0m\u001b[0m\n\u001b[0m\u001b[0;32m      5\u001b[0m                    \u001b[1;31m# function()함수 무한 반복으로 오류\u001b[0m\u001b[1;33m\u001b[0m\u001b[1;33m\u001b[0m\u001b[1;33m\u001b[0m\u001b[0m\n\u001b[0;32m      6\u001b[0m \u001b[0mprint\u001b[0m\u001b[1;33m(\u001b[0m\u001b[0mfunction\u001b[0m\u001b[1;33m(\u001b[0m\u001b[1;33m)\u001b[0m\u001b[1;33m)\u001b[0m\u001b[1;33m\u001b[0m\u001b[1;33m\u001b[0m\u001b[0m\n",
      "\u001b[1;31mRecursionError\u001b[0m: maximum recursion depth exceeded"
     ]
    }
   ],
   "source": [
    "def function():\n",
    "    a=5\n",
    "    b=[1,2,3]\n",
    "    return function()  # return 값에 결과값이 나와야 하는데 function()을 쓰면 다시 함수 function()으로 올라간다.\n",
    "                   # function()함수 무한 반복으로 오류\n",
    "print(function())"
   ]
  },
  {
   "cell_type": "code",
   "execution_count": 61,
   "metadata": {},
   "outputs": [
    {
     "name": "stdout",
     "output_type": "stream",
     "text": [
      "6561.0\n",
      "8.0\n"
     ]
    }
   ],
   "source": [
    "# 모듈 : 일종의 라이브러리\n",
    "# 모듈 : 미리작성된 함수 코드를 모아 놓은 파이썬 파일\n",
    "import math\n",
    "print(math.pow(3,8)) #3의 8제곱\n",
    "print(math.sqrt(64)) #제곱근"
   ]
  },
  {
   "cell_type": "code",
   "execution_count": 62,
   "metadata": {},
   "outputs": [],
   "source": [
    "def add(a,b):\n",
    "    return a+b\n",
    "\n",
    "def subtract(a,b):\n",
    "    return a-b"
   ]
  },
  {
   "cell_type": "code",
   "execution_count": 1,
   "metadata": {},
   "outputs": [],
   "source": [
    "# 클래스(class) : 반복되는 불필요한 소스코드를 최소화하면서 현실 세계의 사물을 컴퓨터 프로그래밍 상에서 쉽게 표현할 수 있도록 해주는 프로그래밍 기술\n",
    "# 인스턴스 : 클래스로 정의된 객체를 프로그램 상에서 이용할 수 있게 만든 변수\n",
    "# 클래스의 멤버 : 클래스 내부에 포함되는 변수\n",
    "# 클래스의 함수 : 클래스 내부에 포함되는 함수. 메소드라고 부릅니다.\n",
    "\n",
    "class Car :\n",
    "    # 클래스의 생성자(함수형태 >> init이라고 부름)\n",
    "    def __init__(self,name,color):\n",
    "        self.name = name #클래스의 멤버\n",
    "        self.color = color #클래스의 멤버\n",
    "        #클래스의 메소드(내마음대로 쓸수있음)\n",
    "    def show_info(self):\n",
    "        print(\"이름 : \",self.name + \" / 색상 : \",self.color)\n",
    "        "
   ]
  },
  {
   "cell_type": "code",
   "execution_count": 2,
   "metadata": {},
   "outputs": [
    {
     "name": "stdout",
     "output_type": "stream",
     "text": [
      "이름 :  소나타 / 색상 :  빨간색\n"
     ]
    }
   ],
   "source": [
    "car1 = Car('소나타','빨간색')\n",
    "car1.show_info()"
   ]
  },
  {
   "cell_type": "code",
   "execution_count": 3,
   "metadata": {},
   "outputs": [
    {
     "name": "stdout",
     "output_type": "stream",
     "text": [
      "소나타 을 구매했습니다.\n"
     ]
    }
   ],
   "source": [
    "print(car1.name,\"을 구매했습니다.\")"
   ]
  },
  {
   "cell_type": "code",
   "execution_count": 4,
   "metadata": {},
   "outputs": [],
   "source": [
    "del car1"
   ]
  },
  {
   "cell_type": "code",
   "execution_count": 5,
   "metadata": {},
   "outputs": [
    {
     "ename": "NameError",
     "evalue": "name 'car1' is not defined",
     "output_type": "error",
     "traceback": [
      "\u001b[1;31m---------------------------------------------------------------------------\u001b[0m",
      "\u001b[1;31mNameError\u001b[0m                                 Traceback (most recent call last)",
      "\u001b[1;32m<ipython-input-5-0b88d59926d2>\u001b[0m in \u001b[0;36m<module>\u001b[1;34m\u001b[0m\n\u001b[1;32m----> 1\u001b[1;33m \u001b[0mcar1\u001b[0m\u001b[1;33m.\u001b[0m\u001b[0mshow_info\u001b[0m\u001b[1;33m(\u001b[0m\u001b[1;33m)\u001b[0m \u001b[1;31m#del을 했으니 지워져서 car1 존재하지 않음\u001b[0m\u001b[1;33m\u001b[0m\u001b[1;33m\u001b[0m\u001b[0m\n\u001b[0m",
      "\u001b[1;31mNameError\u001b[0m: name 'car1' is not defined"
     ]
    }
   ],
   "source": [
    "car1.show_info() #del을 했으니 지워져서 car1 존재하지 않음"
   ]
  },
  {
   "cell_type": "code",
   "execution_count": 6,
   "metadata": {},
   "outputs": [],
   "source": [
    "# 상속 ; 다른 클래스의 멤버 변수와 메소드를 물려 받아 사용하는 기법\n",
    "# 부모와 자식관계 존재\n",
    "# 자식 클래스 ; 부모클래스를 상속받은 클래스"
   ]
  },
  {
   "cell_type": "code",
   "execution_count": 7,
   "metadata": {},
   "outputs": [],
   "source": [
    "# 부모클래스 생성\n",
    "class Unit:\n",
    "    def __init__(self, name, power):\n",
    "        self.name = name\n",
    "        self.power = power\n",
    "    def attack(self):\n",
    "        print(self.name, \"이(가) 공격을 수행합니다. [전투력:]\", self.power)\n",
    "        \n",
    "class Monster(Unit):\n",
    "    def __init__(self,name,power,type):\n",
    "        self.name = name\n",
    "        self.power = power\n",
    "        self.type = type"
   ]
  },
  {
   "cell_type": "code",
   "execution_count": 8,
   "metadata": {},
   "outputs": [
    {
     "name": "stdout",
     "output_type": "stream",
     "text": [
      "홍길동 이(가) 공격을 수행합니다. [전투력:] 375\n"
     ]
    }
   ],
   "source": [
    "unit = Unit(\"홍길동\",375)\n",
    "unit.attack()"
   ]
  },
  {
   "cell_type": "code",
   "execution_count": 9,
   "metadata": {},
   "outputs": [
    {
     "name": "stdout",
     "output_type": "stream",
     "text": [
      "슬라임 이(가) 공격을 수행합니다. [전투력:] 10\n"
     ]
    }
   ],
   "source": [
    "monster = Monster(\"슬라임\",10,\"초급\")\n",
    "monster.attack()"
   ]
  },
  {
   "cell_type": "code",
   "execution_count": 12,
   "metadata": {},
   "outputs": [
    {
     "name": "stdout",
     "output_type": "stream",
     "text": [
      "{'안녕': 'Hi', '노력': 'effort'}\n"
     ]
    }
   ],
   "source": [
    "# 사전(Dictionary): 키(Key)와 값(value) 한쌍을 원소로 가지는 자료형\n",
    "dict = {}\n",
    "dict['안녕']='Hello'\n",
    "dict['기적']='Miracle'\n",
    "dict['노력']='effort'\n",
    "dict['안녕']='Hi'\n",
    "\n",
    "del dict['기적'] # 특정원소 제거\n",
    "dict.clear() #모든 원소 제거\n",
    "keys = dict.keys() #키값만 출력하기\n",
    "key_list = list(keys) #키값 리스트로 만들기\n",
    "values = dict.values() #값만 출력하기\n",
    "value_list = list(values) # 값만 리스트로 만들기\n",
    "print(dict)"
   ]
  },
  {
   "cell_type": "code",
   "execution_count": 13,
   "metadata": {},
   "outputs": [
    {
     "name": "stdout",
     "output_type": "stream",
     "text": [
      "[인덱스 ; 0 ] 한글: 안녕  /영어: Hi\n",
      "[인덱스 ; 1 ] 한글: 노력  /영어: effort\n"
     ]
    }
   ],
   "source": [
    "for i,k in enumerate(dict): #i = index, k=key\n",
    "    print(\"[인덱스 ;\" , i, \"] 한글:\",k,\" /영어:\",dict[k])"
   ]
  },
  {
   "cell_type": "code",
   "execution_count": 15,
   "metadata": {},
   "outputs": [
    {
     "name": "stdout",
     "output_type": "stream",
     "text": [
      "['나동빈', '박한울', '이태일']\n"
     ]
    }
   ],
   "source": [
    "scores= {}\n",
    "scores['나동빈']=78\n",
    "scores['이태일']=99\n",
    "scores['박한울']=84\n",
    "print(sorted(scores)) #키로 정렬하기\n",
    "print(sorted(scores, reverse=True)) #키로 내림차순 정렬하기\n",
    "print(sorted(scores.values())) #값을 정렬하기"
   ]
  },
  {
   "cell_type": "code",
   "execution_count": null,
   "metadata": {},
   "outputs": [],
   "source": []
  }
 ],
 "metadata": {
  "kernelspec": {
   "display_name": "Python 3",
   "language": "python",
   "name": "python3"
  },
  "language_info": {
   "codemirror_mode": {
    "name": "ipython",
    "version": 3
   },
   "file_extension": ".py",
   "mimetype": "text/x-python",
   "name": "python",
   "nbconvert_exporter": "python",
   "pygments_lexer": "ipython3",
   "version": "3.8.5"
  }
 },
 "nbformat": 4,
 "nbformat_minor": 4
}
