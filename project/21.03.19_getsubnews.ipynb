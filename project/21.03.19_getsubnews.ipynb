{
 "cells": [
  {
   "cell_type": "markdown",
   "metadata": {},
   "source": [
    "### 비정형 데이터 융합형 기업 예측 모델\n",
    "* 뉴스나 전문가 의견및 여론 기반한 비정형 데이터 수집\n",
    "* 주가 등 정형 데이터 수집\n",
    "* 기업의 주가 영향 요소 예측등을 통한\n",
    "* 기업의 위험관리및 투자예측 분석"
   ]
  },
  {
   "cell_type": "markdown",
   "metadata": {},
   "source": [
    "### 수집된 포털 정보기반 딥크롤링\n",
    "* 기존에 수집된 정보를 바탕으로 매체별 크롤링\n",
    "* 다양한 서브 데이터의 정형화\n",
    "* URL 기반의 다양한 크롤링 기법 사용"
   ]
  },
  {
   "cell_type": "markdown",
   "metadata": {},
   "source": [
    "### 분석요소\n",
    "* 제목 :\n",
    "* 내용 :\n",
    "* 작성일 :\n",
    "* 매체 :\n",
    "* 작성자 :"
   ]
  },
  {
   "cell_type": "markdown",
   "metadata": {},
   "source": [
    "### 네이버 뉴스 수집"
   ]
  },
  {
   "cell_type": "code",
   "execution_count": 1,
   "metadata": {},
   "outputs": [],
   "source": [
    "import numpy as np\n",
    "import pandas as pd\n",
    "import requests\n",
    "from bs4 import BeautifulSoup as bsp\n",
    "import matplotlib\n",
    "import matplotlib.pyplot as plt\n",
    "import sqlite3\n",
    "import re\n",
    "from datetime import datetime, timedelta,date\n",
    "import sys"
   ]
  },
  {
   "cell_type": "code",
   "execution_count": 2,
   "metadata": {},
   "outputs": [],
   "source": [
    "def calcDate(txt=''):\n",
    "    #print(txt)\n",
    "    rdate=''\n",
    "    nowd=datetime.now()\n",
    "    pattern='[^\\d]'\n",
    "    num=int(re.sub(pattern,'',txt))\n",
    "    if('일' in txt):\n",
    "        res=nowd + timedelta(days=num*-1)\n",
    "    elif('.' in txt):\n",
    "        ds=txt.replace('.','-')\n",
    "        #print(ds)\n",
    "        res=ds+' 00:00:00.000000'\n",
    "    else:\n",
    "        res=nowd + timedelta(hours=num*-1)\n",
    "    return res"
   ]
  },
  {
   "cell_type": "code",
   "execution_count": 3,
   "metadata": {},
   "outputs": [
    {
     "data": {
      "text/plain": [
       "'2021-2-1 00:00:00.000000'"
      ]
     },
     "execution_count": 3,
     "metadata": {},
     "output_type": "execute_result"
    }
   ],
   "source": [
    "calcDate('2021.2.1')"
   ]
  },
  {
   "cell_type": "code",
   "execution_count": 4,
   "metadata": {},
   "outputs": [],
   "source": [
    "def makeKey(txt=''):\n",
    "    txt_=re.sub('http\\S*//',' ',txt)\n",
    "    key=re.sub('[^a-zA-Z0-9%]','',txt_)\n",
    "    return key"
   ]
  },
  {
   "cell_type": "code",
   "execution_count": 13,
   "metadata": {},
   "outputs": [],
   "source": [
    "def getData(whr=''):\n",
    "    dbname='navernews.db'\n",
    "    with sqlite3.connect(dbname) as conn:\n",
    "        cursor=conn.cursor()\n",
    "        sql='select nidx,ncomp,nurl from nnews '+whr\n",
    "        res=cursor.execute(sql).fetchall()\n",
    "    return(res)"
   ]
  },
  {
   "cell_type": "code",
   "execution_count": 14,
   "metadata": {},
   "outputs": [
    {
     "data": {
      "text/plain": [
       "[(1, '연합뉴스', 'http://yna.kr/AKR20210317071000030?did=1195m'),\n",
       " (2,\n",
       "  '이데일리',\n",
       "  'http://www.edaily.co.kr/news/newspath.asp?newsid=01430086628984304'),\n",
       " (3, '이투데이', 'https://www.etoday.co.kr/news/view/2005423'),\n",
       " (4, '파이낸셜뉴스', 'http://www.fnnews.com/news/202103180822274935'),\n",
       " (5, '뉴스1', 'https://www.news1.kr/articles/?4244392')]"
      ]
     },
     "execution_count": 14,
     "metadata": {},
     "output_type": "execute_result"
    }
   ],
   "source": [
    "allurl = getData()\n",
    "allurl[:5]"
   ]
  },
  {
   "cell_type": "code",
   "execution_count": 7,
   "metadata": {},
   "outputs": [],
   "source": [
    "def insSub(d):\n",
    "    dbname='navernews.db'\n",
    "    with sqlite3.connect(dbname) as conn:\n",
    "        cursor=conn.cursor()\n",
    "        sql='select * from subnews where nkey=\"'+d[5]+'\"'\n",
    "        res=cursor.execute(sql).fetchall()\n",
    "        if(len(res)>0):\n",
    "            print(\"이미 존재 합니다.:\"+d[1])\n",
    "        else:\n",
    "            sql='insert into subnews (ncate,ntitle,ncomp,ndate,nurl,nkey) values(?,?,?,?,?,?)'\n",
    "            res=cursor.execute(sql,d)\n",
    "            print('.',end='')\n",
    "        "
   ]
  },
  {
   "cell_type": "code",
   "execution_count": 18,
   "metadata": {},
   "outputs": [
    {
     "name": "stdout",
     "output_type": "stream",
     "text": [
      "https://www.donga.com/news/article/all/20210317/105923783/2\n"
     ]
    },
    {
     "data": {
      "text/plain": [
       "['신세계 정용진 지난해 연봉 33억…코로나19 영향으로 일부 감소',\n",
       " '김혜린',\n",
       " '수정 2021-03-17 14:45',\n",
       " \"\\n신세계그룹 제공정용진 신세계그룹 부회장이 지난해 연봉으로 33억 6800만 원을 받았다. 신세계 그룹 총수 일가는 총 142억 원을 수령했다.17일 신세계·이마트 사업보고서에 따르면 정 부회장은 지난해 이마트에서 총 33억 6800만 원을 받았다. 급여 20억 3400만 원과 상여 13억 3400만 원이다.이마트 측은 “어려운 대내외 경영 환경 속에서도 매출액 14조 2138억 원과 영업이익 2950억 원을 달성한 점을 고려했다”고 밝혔다.\\n\\n          window.googletag = window.googletag || {cmd: []};\\n          googletag.cmd.push(function() {\\n            googletag.defineSlot('/1249652/Donga_OSV_Desktop_1x1', [1, 1], 'div-gpt-ad-1595277065244-0').addService(googletag.pubads());\\n            googletag.pubads().enableSingleRequest();\\n            googletag.pubads().collapseEmptyDivs();\\n            googletag.enableServices();\\n          });\\n        \\n\\n\\n            googletag.cmd.push(function() { googletag.display('div-gpt-ad-1595277065244-0'); });\\n          \\n동생 정유경 신세계 총괄사장은 급여와 상여금 각각 17억 9400만 원, 11억 6600만 원으로 총 29억 6000만 원을 수령했다.\\n주요기사\\n\\n안철수 “김종인-오세훈 요구한 단일화 방안 수용할 것”윤석열, ‘좀스러운 남탓 정권’끝낼 그릇 될 수 있을까\\n\\n신세계 측은 “기존 백화점 경쟁력 강화로 어려운 대내외 환경 속에서도 영업이익 1268억 원을 달성한 점을 고려했다”고 전했다.정 부회장과 정 총괄사장 모두 연봉이 전년 대비 감소한 것으로 나타났다. 정 부회장은 약 1억 9400만 원, 정 총괄사장은 1억 5400만 원가량을 덜 받았다. 이는 신종 코로나바이러스 감염증(코로나19) 사태로 실적이 감소한 영향으로 보인다.이명희 신세계그룹 회장은 이마트에서 26억 9300만 원, 신세계에서 12억 6100만 원으로 총 39억 5400만 원을 받았다. 정재은 명예회장도 이와 동일한 연봉을 수령했다.김혜린 동아닷컴 기자 sinnala8@donga.com창닫기기사를 추천 하셨습니다신세계 정용진 지난해 연봉 33억…코로나19 영향으로 일부 감소베스트 추천 뉴스[이기홍 칼럼]윤석열, ‘좀스러운 남탓 정권’ 끝낼 그릇 될 수 있을까윤석열의 ‘공정’ 돋보이게 한 LH사태의 역설조남관의 반격 “‘한명숙 사건’ 심의에 고검장도 참여”용혜인 “재난지원금 100조는 써야” vs 기재차관 “누가 갚나”이수정 “민주당 사과했다고? 성폭력 시인, 누가 했었나”[단독]檢, 이규원 구속영장 방침… 차규근도 재청구 할듯Copyright by dongA.com All rights reserved. \\n        $( document ).ready( function() {\\n            window.bestPopupObj = Popup( $( '#bestnews_layer' ), {\\n                    vertical: 'center',  /* top, bottom, center */\\n                    horizontal: 'center',  /* left, right, center */\\n                    //effect: 'slide',  /* clip slide blind */\\n                    //direction: 'left',   /* up, down, left, right */\\n                    duration: 300,\\n                    //scroll: true\\n                } ) ;\\n          });\\n    \\n\"]"
      ]
     },
     "execution_count": 18,
     "metadata": {},
     "output_type": "execute_result"
    }
   ],
   "source": [
    "def getDonga(url):\n",
    "    res=requests.get(url)\n",
    "    src=res.content.strip()\n",
    "    htmls=bsp(src,'html.parser')\n",
    "    print(url)\n",
    "    title_block=htmls.select('div.article_title')[0]\n",
    "    wtitle=title_block.select('h1.title')[0].text.strip()\n",
    "    wirter=title_block.select('span.report')[0].text.replace('동아닷컴 기자','').strip()\n",
    "    wday=title_block.select('span.date01')[-1].text.strip()\n",
    "    article_=htmls.select('div.article_txt')[0]\n",
    "    pattern='<script[^>]*>((\\n|\\r|.)*?)<\\/script>'\n",
    "    article__=re.sub(pattern, ' ', str(article_))\n",
    "    pattern = '<div id = \"bestnews_layer\">.*'\n",
    "    article__=re.sub(pattern, ' ', str(article_))\n",
    "    warticle=bsp(article__,'html.parser').text\n",
    "    \n",
    "    return [wtitle,wirter,wday,warticle]\n",
    "#     print(title,wirter,wday)\n",
    "turl='https://www.donga.com/news/article/all/20210317/105923783/2'\n",
    "getDonga(turl)"
   ]
  },
  {
   "cell_type": "code",
   "execution_count": 8,
   "metadata": {},
   "outputs": [],
   "source": [
    "def getDonga(url):\n",
    "    res=requests.get(url)\n",
    "    src=res.content.strip()\n",
    "    htmls=bsp(src,'html.parser')\n",
    "    print(url)\n",
    "    title_block=htmls.select('div.article_title')\n",
    "    if(len(tgts)==0):\n",
    "        print('데이터가 없습니다.'+url)\n",
    "        sys.exit(1)\n",
    "    for tgt in tgts:\n",
    "        mainarti=tgt.select('div.news_wrap')\n",
    "        subartis=tgt.select('ul.list_cluster > li.sub_bx')\n",
    "        if(len(mainarti)>0):\n",
    "            title_= mainarti[0].select('a.news_tit')[0].text\n",
    "            title=re.sub('[^ㄱ-힣0-9 a-zA-Z]',' ',title_)\n",
    "            comp=mainarti[0].select('.info.press')[0].text.replace('언론사 선정','')\n",
    "            date_=mainarti[0].select('span.info')[0].text.replace('시간 전','')\n",
    "            date=calcDate(date_)\n",
    "            url=mainarti[0].select('a.news_tit')[0]['href']\n",
    "            key=makeKey(url)\n",
    "            opt=1\n",
    "            d=(opt,title,comp,date,url,key)\n",
    "            insMain(d)\n",
    "            for subarti in subartis:\n",
    "                title_= subarti.select('a.sub_tit')[0].text\n",
    "                title=re.sub('[^ㄱ-힣0-9 a-zA-Z]',' ',title_)\n",
    "                comp=subarti.select('.sub_txt.press')[0].text.replace('언론사 선정','')\n",
    "                date_=subarti.select('span.sub_txt')[0].text.replace('시간 전','').replace('네이버뉴스','')\n",
    "                date=calcDate(date_)\n",
    "                url=subarti.select('a.sub_tit')[0]['href']\n",
    "                key=makeKey(url)\n",
    "                opt=2\n",
    "                d=(opt,title,comp,date,url,key)\n",
    "                insMain(d)\n",
    "\n"
   ]
  },
  {
   "cell_type": "code",
   "execution_count": 20,
   "metadata": {},
   "outputs": [
    {
     "data": {
      "text/plain": [
       "[(1, '연합뉴스', 'http://yna.kr/AKR20210317071000030?did=1195m'),\n",
       " (2,\n",
       "  '이데일리',\n",
       "  'http://www.edaily.co.kr/news/newspath.asp?newsid=01430086628984304'),\n",
       " (3, '이투데이', 'https://www.etoday.co.kr/news/view/2005423'),\n",
       " (4, '파이낸셜뉴스', 'http://www.fnnews.com/news/202103180822274935'),\n",
       " (5, '뉴스1', 'https://www.news1.kr/articles/?4244392')]"
      ]
     },
     "execution_count": 20,
     "metadata": {},
     "output_type": "execute_result"
    }
   ],
   "source": [
    "allurl = getData()\n",
    "allurl[:5]"
   ]
  },
  {
   "cell_type": "code",
   "execution_count": 23,
   "metadata": {
    "scrolled": true
   },
   "outputs": [
    {
     "name": "stdout",
     "output_type": "stream",
     "text": [
      "--------------------------------------------------\n",
      "--------------------------------------------------\n"
     ]
    },
    {
     "ename": "NameError",
     "evalue": "name 'getEdaily' is not defined",
     "output_type": "error",
     "traceback": [
      "\u001b[1;31m---------------------------------------------------------------------------\u001b[0m",
      "\u001b[1;31mNameError\u001b[0m                                 Traceback (most recent call last)",
      "\u001b[1;32m<ipython-input-23-5743c47c7fd1>\u001b[0m in \u001b[0;36m<module>\u001b[1;34m\u001b[0m\n\u001b[0;32m      8\u001b[0m         \u001b[0mwdata\u001b[0m\u001b[1;33m.\u001b[0m\u001b[0mappend\u001b[0m\u001b[1;33m(\u001b[0m\u001b[0mnidx\u001b[0m\u001b[1;33m)\u001b[0m\u001b[1;33m\u001b[0m\u001b[1;33m\u001b[0m\u001b[0m\n\u001b[0;32m      9\u001b[0m     \u001b[1;32melif\u001b[0m \u001b[0mncomp\u001b[0m\u001b[1;33m==\u001b[0m\u001b[1;34m\"이데일리\"\u001b[0m\u001b[1;33m:\u001b[0m\u001b[1;33m\u001b[0m\u001b[1;33m\u001b[0m\u001b[0m\n\u001b[1;32m---> 10\u001b[1;33m         \u001b[0mwdata\u001b[0m\u001b[1;33m=\u001b[0m\u001b[0mgetEdaily\u001b[0m\u001b[1;33m(\u001b[0m\u001b[0mturl\u001b[0m\u001b[1;33m)\u001b[0m\u001b[1;33m\u001b[0m\u001b[1;33m\u001b[0m\u001b[0m\n\u001b[0m\u001b[0;32m     11\u001b[0m         \u001b[0mwdata\u001b[0m\u001b[1;33m.\u001b[0m\u001b[0mappend\u001b[0m\u001b[1;33m(\u001b[0m\u001b[0mturl\u001b[0m\u001b[1;33m)\u001b[0m\u001b[1;33m\u001b[0m\u001b[1;33m\u001b[0m\u001b[0m\n\u001b[0;32m     12\u001b[0m         \u001b[0mwdata\u001b[0m\u001b[1;33m.\u001b[0m\u001b[0mappend\u001b[0m\u001b[1;33m(\u001b[0m\u001b[0mncomp\u001b[0m\u001b[1;33m)\u001b[0m\u001b[1;33m\u001b[0m\u001b[1;33m\u001b[0m\u001b[0m\n",
      "\u001b[1;31mNameError\u001b[0m: name 'getEdaily' is not defined"
     ]
    }
   ],
   "source": [
    "for nidx,ncomp,turl in allurl[:3]:\n",
    "    print('-'*50)\n",
    "    #print(nidx,ncomp,turl)\n",
    "    if ncomp==\"동아일보\":\n",
    "        wdata=getDonga(turl)\n",
    "        wdata.append(turl)\n",
    "        wdata.append(ncomp)\n",
    "        wdata.append(nidx)\n",
    "    elif ncomp==\"아시아경제\":\n",
    "        wdata=getAsia(turl)\n",
    "        wdata.append(turl)\n",
    "        wdata.append(ncomp)\n",
    "        wdata.append(nidx)\n",
    "        print(wdata)"
   ]
  },
  {
   "cell_type": "code",
   "execution_count": null,
   "metadata": {},
   "outputs": [],
   "source": []
  },
  {
   "cell_type": "code",
   "execution_count": null,
   "metadata": {},
   "outputs": [],
   "source": []
  }
 ],
 "metadata": {
  "kernelspec": {
   "display_name": "Python 3",
   "language": "python",
   "name": "python3"
  },
  "language_info": {
   "codemirror_mode": {
    "name": "ipython",
    "version": 3
   },
   "file_extension": ".py",
   "mimetype": "text/x-python",
   "name": "python",
   "nbconvert_exporter": "python",
   "pygments_lexer": "ipython3",
   "version": "3.8.5"
  },
  "toc": {
   "base_numbering": 1,
   "nav_menu": {},
   "number_sections": true,
   "sideBar": true,
   "skip_h1_title": false,
   "title_cell": "Table of Contents",
   "title_sidebar": "Contents",
   "toc_cell": false,
   "toc_position": {},
   "toc_section_display": true,
   "toc_window_display": false
  },
  "varInspector": {
   "cols": {
    "lenName": 16,
    "lenType": 16,
    "lenVar": 40
   },
   "kernels_config": {
    "python": {
     "delete_cmd_postfix": "",
     "delete_cmd_prefix": "del ",
     "library": "var_list.py",
     "varRefreshCmd": "print(var_dic_list())"
    },
    "r": {
     "delete_cmd_postfix": ") ",
     "delete_cmd_prefix": "rm(",
     "library": "var_list.r",
     "varRefreshCmd": "cat(var_dic_list()) "
    }
   },
   "types_to_exclude": [
    "module",
    "function",
    "builtin_function_or_method",
    "instance",
    "_Feature"
   ],
   "window_display": false
  }
 },
 "nbformat": 4,
 "nbformat_minor": 4
}
