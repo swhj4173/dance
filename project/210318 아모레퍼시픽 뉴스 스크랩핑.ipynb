{
 "cells": [
  {
   "cell_type": "code",
   "execution_count": 11,
   "metadata": {},
   "outputs": [],
   "source": [
    "import numpy as np\n",
    "import pandas as pd\n",
    "import requests\n",
    "from bs4 import BeautifulSoup as bsp\n",
    "import matplotlib\n",
    "import matplotlib.pyplot as plt\n",
    "import sqlite3\n",
    "import re\n",
    "from datetime import datetime, timedelta,date\n",
    "import sys"
   ]
  },
  {
   "cell_type": "code",
   "execution_count": 12,
   "metadata": {},
   "outputs": [
    {
     "data": {
      "text/plain": [
       "'https://search.naver.com/search.naver?where=news&query=아모레퍼시픽&sm=tab_srt&sort=1&photo=0&field=0&reporter_article=&pd=0&ds=&de=&docid=&nso=so%3Add%2Cp%3Aall%2Ca%3Aall&mynews=1&refresh_start=0&related=0'"
      ]
     },
     "execution_count": 12,
     "metadata": {},
     "output_type": "execute_result"
    }
   ],
   "source": [
    "url='https://search.naver.com/search.naver?where=news&query=아모레퍼시픽&sm=tab_srt&sort=1&photo=0&field=0&reporter_article=&pd=0&ds=&de=&docid=&nso=so%3Add%2Cp%3Aall%2Ca%3Aall&mynews=1&refresh_start=0&related=0'\n",
    "url"
   ]
  },
  {
   "cell_type": "code",
   "execution_count": 13,
   "metadata": {},
   "outputs": [],
   "source": [
    "header={'''\n",
    "        \"authority\": \"search.naver.com\"\n",
    "        \"method\": \"GET\"\n",
    "        \"path\": \"/search.naver?&where=news&query=%EC%95%84%EB%AA%A8%EB%A0%88%ED%8D%BC%EC%8B%9C%ED%94%BD&sm=tab_pge&sort=1&photo=0&field=0&reporter_article=&pd=0&ds=&de=&docid=&nso=so:dd,p:all,a:all&mynews=1&start=1&refresh_start=0\"\n",
    "        \"scheme\": \"https\"\n",
    "        \"accept\": \"text/html,application/xhtml+xml,application/xml;q=0.9,image/avif,image/webp,image/apng,*/*;q=0.8,application/signed-exchange;v=b3;q=0.9\"\n",
    "        \"accept-encoding\": \"gzip, deflate, br\"\n",
    "        \"accept-language\": \"en-US,en;q=0.9,ko;q=0.8\"\n",
    "        \"cache-control\": \"max-age=0\"\n",
    "        \"cookie\":\" NNB=PCAHGC4CUI2WA; NRTK=ag#all_gr#1_ma#-2_si#0_en#0_sp#0; NDARK=Y; nx_ssl=2; ASID=3a4c821300000177fffbeb9300000066; nso_open=1; news_office_checked=1023; news_my_status=1; page_uid=haK4YlprvN8ssOxOvIhssssstpK-370930\"\n",
    "        \"referer\": \"https://search.naver.com/search.naver?&where=news&query=%EC%95%84%EB%AA%A8%EB%A0%88%ED%8D%BC%EC%8B%9C%ED%94%BD&sm=tab_pge&sort=1&photo=0&field=0&reporter_article=&pd=0&ds=&de=&docid=&nso=so:dd,p:all,a:all&mynews=1&start=21&refresh_start=0\"\n",
    "        # \"sec-ch-ua\": \"Google Chrome\";v=\"89\", \"Chromium\";v=\"89\", \";Not A Brand\";v=\"99\"\n",
    "        \"sec-ch-ua-mobile\": \"?0\"\n",
    "        \"sec-fetch-dest\": \"document\"\n",
    "        \"sec-fetch-mode\": \"navigate\"\n",
    "        \"sec-fetch-site\": \"same-origin\"\n",
    "        \"sec-fetch-user\": \"?1\"\n",
    "        \"upgrade-insecure-requests\": \"1\"\n",
    "        \"user-agent\": \"Mozilla/5.0 (Windows NT 10.0; Win64; x64) AppleWebKit/537.36 (KHTML, like Gecko) Chrome/89.0.4389.90 Safari/537.36\"\n",
    "\n",
    "'''}\n",
    "       "
   ]
  },
  {
   "cell_type": "code",
   "execution_count": 14,
   "metadata": {
    "scrolled": true
   },
   "outputs": [],
   "source": [
    "res = requests.get(url,'header=header') \n",
    "src=res.content.strip()\n",
    "htmls=bsp(src,'html.parser')\n",
    "#htmls\n",
    "tgts=htmls.select('ul.list_news > li')\n",
    "#tgts"
   ]
  },
  {
   "cell_type": "code",
   "execution_count": 15,
   "metadata": {},
   "outputs": [],
   "source": [
    "def calcDate(txt=''):\n",
    "    #print(txt)\n",
    "    rdate=''\n",
    "    nowd=datetime.now()\n",
    "    pattern='[^\\d]'\n",
    "    num=int(re.sub(pattern,'',txt))\n",
    "    if('일' in txt):\n",
    "        res=nowd + timedelta(days=num*-1)\n",
    "    elif('.' in txt):\n",
    "        ds=txt.replace('.','-')\n",
    "        #print(ds)\n",
    "        res=ds+' 00:00:00.000000'\n",
    "    else:\n",
    "        res=nowd + timedelta(hours=num*-1)\n",
    "    return res"
   ]
  },
  {
   "cell_type": "code",
   "execution_count": 16,
   "metadata": {},
   "outputs": [],
   "source": [
    "def makeKey(txt=''):\n",
    "    txt_=re.sub('http\\S*//',' ',txt)\n",
    "    key=re.sub('[^a-zA-Z0-9%]','',txt_)\n",
    "    return key"
   ]
  },
  {
   "cell_type": "code",
   "execution_count": 17,
   "metadata": {},
   "outputs": [],
   "source": [
    "def getData(whr=''):\n",
    "    dbname='amorenews.db'\n",
    "    with sqlite3.connect(dbname) as conn:\n",
    "        cursor=conn.cursor()\n",
    "        sql='select * from anews '+whr\n",
    "        res=cursor.execute(sql).fetchall()\n",
    "    return(res)"
   ]
  },
  {
   "cell_type": "code",
   "execution_count": 18,
   "metadata": {},
   "outputs": [],
   "source": [
    "def insMain(d):\n",
    "    dbname='amorenews.db'\n",
    "    with sqlite3.connect(dbname) as conn:\n",
    "        cursor=conn.cursor()\n",
    "        sql='select * from anews where akey=\"'+d[5]+'\"'\n",
    "        res=cursor.execute(sql).fetchall()\n",
    "        if(len(res)>0):\n",
    "            print(\"이미 존재 합니다.:\"+d[1])\n",
    "        else:\n",
    "            sql='insert into anews (acate,atitle,acomp,adate,aurl,akey) values(?,?,?,?,?,?)'\n",
    "            res=cursor.execute(sql,d)\n",
    "            print('.',end='')"
   ]
  },
  {
   "cell_type": "code",
   "execution_count": 19,
   "metadata": {},
   "outputs": [],
   "source": [
    "def getPage(url):\n",
    "    res=requests.get(url)\n",
    "    src=res.content.strip()\n",
    "    htmls=bsp(src,'html.parser')\n",
    "    print(url)\n",
    "    tgts=htmls.select('ul.list_news > li')\n",
    "    if(len(tgts)==0):\n",
    "        print('데이터가 없습니다.'+url)\n",
    "        sys.exit(1)\n",
    "    for tgt in tgts:\n",
    "        mainarti=tgt.select('div.news_wrap')\n",
    "        subartis=tgt.select('ul.list_cluster > li.sub_bx')\n",
    "        if(len(mainarti)>0):\n",
    "            title_= mainarti[0].select('a.news_tit')[0].text\n",
    "            title=re.sub('[^ㄱ-힣0-9 a-zA-Z]',' ',title_)\n",
    "            comp=mainarti[0].select('.info.press')[0].text.replace('언론사 선정','')\n",
    "            date_=mainarti[0].select('span.info')[0].text.replace('시간 전','')\n",
    "            date=calcDate(date_)\n",
    "            url=mainarti[0].select('a.news_tit')[0]['href']\n",
    "            key=makeKey(url)\n",
    "            opt=1\n",
    "            d=(opt,title,comp,date,url,key)\n",
    "            insMain(d)\n",
    "            for subarti in subartis:\n",
    "                title_= subarti.select('a.sub_tit')[0].text\n",
    "                title=re.sub('[^ㄱ-힣0-9 a-zA-Z]',' ',title_)\n",
    "                comp=subarti.select('.sub_txt.press')[0].text.replace('언론사 선정','')\n",
    "                date_=subarti.select('span.sub_txt')[0].text.replace('시간 전','').replace('네이버뉴스','')\n",
    "                date=calcDate(date_)\n",
    "                url=subarti.select('a.sub_tit')[0]['href']\n",
    "                key=makeKey(url)\n",
    "                opt=2\n",
    "                d=(opt,title,comp,date,url,key)\n",
    "                insMain(d)\n"
   ]
  },
  {
   "cell_type": "code",
   "execution_count": 20,
   "metadata": {},
   "outputs": [
    {
     "name": "stdout",
     "output_type": "stream",
     "text": [
      "https://search.naver.com/search.naver?&where=news&query=아모레퍼시픽&nso=조선일보&start=1\n",
      "https://search.naver.com/search.naver?&where=news&query=아모레퍼시픽&nso=조선일보&start=1\n",
      "......................https://search.naver.com/search.naver?&where=news&query=아모레퍼시픽&nso=조선일보&start=11\n",
      "https://search.naver.com/search.naver?&where=news&query=아모레퍼시픽&nso=조선일보&start=11\n",
      "..........https://search.naver.com/search.naver?&where=news&query=아모레퍼시픽&nso=조선일보&start=21\n",
      "https://search.naver.com/search.naver?&where=news&query=아모레퍼시픽&nso=조선일보&start=21\n",
      "..........https://search.naver.com/search.naver?&where=news&query=아모레퍼시픽&nso=조선일보&start=31\n",
      "https://search.naver.com/search.naver?&where=news&query=아모레퍼시픽&nso=조선일보&start=31\n",
      "..........https://search.naver.com/search.naver?&where=news&query=아모레퍼시픽&nso=조선일보&start=41\n",
      "https://search.naver.com/search.naver?&where=news&query=아모레퍼시픽&nso=조선일보&start=41\n",
      "..........https://search.naver.com/search.naver?&where=news&query=아모레퍼시픽&nso=조선일보&start=51\n",
      "https://search.naver.com/search.naver?&where=news&query=아모레퍼시픽&nso=조선일보&start=51\n",
      "..........https://search.naver.com/search.naver?&where=news&query=아모레퍼시픽&nso=조선일보&start=61\n",
      "https://search.naver.com/search.naver?&where=news&query=아모레퍼시픽&nso=조선일보&start=61\n",
      "..........https://search.naver.com/search.naver?&where=news&query=아모레퍼시픽&nso=조선일보&start=71\n",
      "https://search.naver.com/search.naver?&where=news&query=아모레퍼시픽&nso=조선일보&start=71\n",
      "..........https://search.naver.com/search.naver?&where=news&query=아모레퍼시픽&nso=조선일보&start=81\n",
      "https://search.naver.com/search.naver?&where=news&query=아모레퍼시픽&nso=조선일보&start=81\n",
      "..........https://search.naver.com/search.naver?&where=news&query=아모레퍼시픽&nso=조선일보&start=91\n",
      "https://search.naver.com/search.naver?&where=news&query=아모레퍼시픽&nso=조선일보&start=91\n",
      ".........."
     ]
    }
   ],
   "source": [
    "urlsrc='https://search.naver.com/search.naver?&where=news&query={0}&nso={1}&start={2}'\n",
    "for i in range(1,101,10):\n",
    "    url=urlsrc.format('아모레퍼시픽','조선일보',i)\n",
    "    print(url)\n",
    "    getPage(url)"
   ]
  },
  {
   "cell_type": "code",
   "execution_count": null,
   "metadata": {},
   "outputs": [],
   "source": []
  }
 ],
 "metadata": {
  "kernelspec": {
   "display_name": "Python 3",
   "language": "python",
   "name": "python3"
  },
  "language_info": {
   "codemirror_mode": {
    "name": "ipython",
    "version": 3
   },
   "file_extension": ".py",
   "mimetype": "text/x-python",
   "name": "python",
   "nbconvert_exporter": "python",
   "pygments_lexer": "ipython3",
   "version": "3.8.5"
  },
  "toc": {
   "base_numbering": 1,
   "nav_menu": {},
   "number_sections": true,
   "sideBar": true,
   "skip_h1_title": false,
   "title_cell": "Table of Contents",
   "title_sidebar": "Contents",
   "toc_cell": false,
   "toc_position": {},
   "toc_section_display": true,
   "toc_window_display": false
  },
  "varInspector": {
   "cols": {
    "lenName": 16,
    "lenType": 16,
    "lenVar": 40
   },
   "kernels_config": {
    "python": {
     "delete_cmd_postfix": "",
     "delete_cmd_prefix": "del ",
     "library": "var_list.py",
     "varRefreshCmd": "print(var_dic_list())"
    },
    "r": {
     "delete_cmd_postfix": ") ",
     "delete_cmd_prefix": "rm(",
     "library": "var_list.r",
     "varRefreshCmd": "cat(var_dic_list()) "
    }
   },
   "types_to_exclude": [
    "module",
    "function",
    "builtin_function_or_method",
    "instance",
    "_Feature"
   ],
   "window_display": false
  }
 },
 "nbformat": 4,
 "nbformat_minor": 4
}
