{
 "cells": [
  {
   "cell_type": "code",
   "execution_count": null,
   "metadata": {},
   "outputs": [],
   "source": [
    "처음에 셀레니움으로 스크롤 다 내려서 top 100 보이게 한 후\n",
    "top 100의 url 을 뷰티숩으로 하나씩 도출\n",
    "각 url에 들어가서 (셀레니움으로 들어가서) 그 안에 내용들을 긁는다.\n",
    "리뷰를 셀레니움으로 스크롤 다 내림\n",
    "뷰티풀숩으로 내용 긁기"
   ]
  },
  {
   "cell_type": "code",
   "execution_count": 17,
   "metadata": {},
   "outputs": [],
   "source": [
    "import numpy as np\n",
    "import pandas as pd\n",
    "import requests\n",
    "from bs4 import BeautifulSoup as bsp\n",
    "import matplotlib\n",
    "import matplotlib.pyplot as plt\n",
    "import sqlite3\n",
    "import re\n",
    "from datetime import datetime, timedelta,date\n",
    "import sys\n",
    "import time\n",
    "import click\n",
    "from selenium.webdriver.common.action_chains import ActionChains\n",
    "import sqlite3"
   ]
  },
  {
   "cell_type": "markdown",
   "metadata": {},
   "source": [
    "#### 스크롤 마지막까지 내리기"
   ]
  },
  {
   "cell_type": "code",
   "execution_count": 18,
   "metadata": {
    "code_folding": []
   },
   "outputs": [],
   "source": [
    "from selenium.webdriver.common.keys import Keys\n",
    "\n",
    "def scroll():\n",
    "    body = driver.find_element_by_css_selector('body')\n",
    "    for i in range(30):\n",
    "        body.send_keys(Keys.PAGE_DOWN)\n",
    "        time.sleep(0.5)"
   ]
  },
  {
   "cell_type": "markdown",
   "metadata": {},
   "source": [
    "#### 크롬드라이버 남성향수 url 접속"
   ]
  },
  {
   "cell_type": "code",
   "execution_count": 19,
   "metadata": {
    "scrolled": false
   },
   "outputs": [],
   "source": [
    "from selenium import webdriver\n",
    "from bs4 import BeautifulSoup as bsp\n",
    "\n",
    "driver = webdriver.Chrome('C:/asi/project/chromedriver_win32 (3)/chromedriver')\n",
    "url = ('https://www.glowpick.com/beauty/ranking?id=247&level=3')\n",
    "driver.get(url)\n",
    "driver.implicitly_wait(3)\n",
    "scroll()\n",
    "html = driver.page_source\n",
    "src = bsp(html,'html.parser')"
   ]
  },
  {
   "cell_type": "markdown",
   "metadata": {},
   "source": [
    "#### url 100개(top 100) 도출"
   ]
  },
  {
   "cell_type": "code",
   "execution_count": 20,
   "metadata": {
    "code_folding": []
   },
   "outputs": [],
   "source": [
    "perfumeranks = src.select('#gp-list > div > section.section-list > ul > li')\n",
    "def top100():\n",
    "    list_conts=[]\n",
    "    for perfumerank in perfumeranks:\n",
    "        urls = perfumerank.select('meta')[1]\n",
    "        conts = urls['content']\n",
    "        list_conts.append(conts)\n",
    "    return list_conts"
   ]
  },
  {
   "cell_type": "code",
   "execution_count": 21,
   "metadata": {
    "scrolled": true
   },
   "outputs": [],
   "source": [
    "men_top100s=top100()  #url 100개 다 집어넣음"
   ]
  },
  {
   "cell_type": "code",
   "execution_count": 22,
   "metadata": {},
   "outputs": [],
   "source": [
    "def scroll2():\n",
    "    body = driver.find_element_by_css_selector('body')\n",
    "    img = body.find_element_by_css_selector('div.image__background-image')\n",
    "    img.click()\n",
    "    for i in range(100):\n",
    "        body.send_keys(Keys.PAGE_DOWN)\n",
    "        time.sleep(0.5)"
   ]
  },
  {
   "cell_type": "markdown",
   "metadata": {},
   "source": [
    "#### top 100 url 접속"
   ]
  },
  {
   "cell_type": "code",
   "execution_count": 8,
   "metadata": {},
   "outputs": [],
   "source": [
    "options = webdriver.ChromeOptions()\n",
    "options.add_argument('headless')\n",
    "options.add_argument('window-size=1920x1080')\n",
    "options.add_argument(\"disable-gpu\")\n"
   ]
  },
  {
   "cell_type": "code",
   "execution_count": 23,
   "metadata": {},
   "outputs": [],
   "source": [
    "def product_name(brand, product_):\n",
    "    if '오 드 퍼퓸' in product_ :\n",
    "        if brand not in product_:\n",
    "            return brand + product_.replace('오 드 퍼퓸','EDP')\n",
    "        else:\n",
    "            return product_.replace('오 드 퍼퓸','EDP')\n",
    "    elif '오 드 뚜왈렛' in product_ :\n",
    "        if brand not in product_:\n",
    "            return brand + product_.replace('오 드 뚜왈렛','EDT')\n",
    "        else:\n",
    "            return product_.replace('오 드 뚜왈렛','EDT')\n",
    "    elif '오드뚜왈렛' in product_ :\n",
    "        if brand not in product_:\n",
    "            return brand + product_.replace('오드뚜왈렛','EDT')\n",
    "        else:\n",
    "            return product_.replace('오드뚜왈렛','EDT')\n",
    "    elif '오 드 빠르펭' in product_ :\n",
    "        if brand not in product_:\n",
    "            return brand + product_.replace('오 드 빠르펭','EDP')\n",
    "        else:\n",
    "            return product_.replace('오 드 빠르펭','EDP')\n",
    "    elif '오 드 퍼퓸' in product_ :\n",
    "        if brand not in product_:\n",
    "            return brand + product_.replace('오 드 퍼퓸','EDP')\n",
    "        else:\n",
    "            return product_.replace('오 드 퍼퓸','EDP')\n",
    "    elif '오드퍼퓸' in product_ :\n",
    "        if brand not in product_:\n",
    "            return brand + product_.replace('오드퍼퓸','EDP')\n",
    "        else:\n",
    "            return product_.replace('오드퍼퓸','EDP')\n",
    "    elif '오 드 뚜왈레뜨' in product_ :\n",
    "        if brand not in product_:\n",
    "            return brand + product_.replace('오 드 뚜왈레뜨','EDT')\n",
    "        else:\n",
    "            return product_.replace('오 드 뚜왈레뜨','EDT')\n",
    "    elif '오드트왈렛' in product_ :\n",
    "        if brand not in product_:\n",
    "            return brand + product_.replace('오드트왈렛','EDT')\n",
    "        else:\n",
    "            return product_.replace('오드트왈렛','EDT')\n",
    "    elif '오 드 빠르팽' in product_ :\n",
    "        if brand not in product_:\n",
    "            return brand + product_.replace('오 드 빠르팽','EDP')\n",
    "        else:\n",
    "            return product_.replace('오 드 빠르팽','EDP')\n",
    "    elif '퍼퓸' in product_ :\n",
    "        if brand not in product_:\n",
    "            return brand + product_.replace('퍼퓸','PE')\n",
    "        else:\n",
    "            return product_.replace('퍼퓸','PE')\n",
    "    elif '코롱' in product_ :\n",
    "        if brand not in product_:\n",
    "            return brand + product_.replace('코롱','EDC')\n",
    "        else:\n",
    "            return product_.replace('코롱','EDC')\n",
    "    elif '오드 콜롱' in product_ :\n",
    "        if brand not in product_:\n",
    "            return brand + product_.replace('오드 콜롱','EDC')\n",
    "        else:\n",
    "            return product_.replace('오드 콜롱','EDC')\n",
    "    elif '오 드 뚜왈레뜨' in product_ :\n",
    "        if brand not in product_:\n",
    "            return brand + product_.replace('오 드 뚜왈레뜨','EDT')\n",
    "        else:\n",
    "            return product_.replace('오 드 뚜왈레뜨','EDT')\n",
    "    elif '오드코롱' in product_ :\n",
    "        if brand not in product_:\n",
    "            return brand + product_.replace('오드코롱','EDC')\n",
    "        else:\n",
    "            return product_.replace('오드코롱','EDC')\n",
    "    else :\n",
    "        pass"
   ]
  },
  {
   "cell_type": "code",
   "execution_count": 24,
   "metadata": {},
   "outputs": [],
   "source": [
    "def type_name(product):\n",
    "    if 'EDP' in product:\n",
    "        return 'EDP'\n",
    "    elif 'EDT' in product:\n",
    "        return 'EDT'\n",
    "    elif 'EDC' in product :\n",
    "        return 'EDC'\n",
    "    elif 'PE' in product:\n",
    "        return 'PE'\n",
    "    else:\n",
    "        return 'other'"
   ]
  },
  {
   "cell_type": "code",
   "execution_count": 26,
   "metadata": {},
   "outputs": [
    {
     "name": "stdout",
     "output_type": "stream",
     "text": [
      "0\n",
      ".1\n",
      ".2\n",
      ".3\n",
      ".4\n",
      ".5\n",
      ".6\n",
      ".7\n",
      ".8\n",
      ".9\n",
      ".10\n",
      ".11\n",
      ".12\n",
      ".13\n",
      ".14\n",
      ".15\n",
      ".16\n",
      ".17\n",
      ".18\n",
      ".19\n",
      ".20\n",
      ".21\n",
      ".22\n",
      ".23\n",
      ".24\n",
      ".25\n",
      ".26\n",
      ".27\n",
      ".28\n",
      ".29\n",
      ".30\n",
      ".31\n",
      ".32\n",
      ".33\n",
      ".34\n",
      ".35\n",
      ".36\n",
      ".37\n",
      ".38\n",
      ".39\n",
      ".40\n",
      ".41\n",
      ".42\n",
      ".43\n",
      ".44\n",
      ".45\n",
      ".46\n",
      ".47\n",
      ".48\n",
      ".49\n",
      ".50\n",
      ".51\n",
      ".52\n",
      ".53\n",
      ".54\n",
      ".55\n",
      ".56\n",
      ".57\n",
      ".58\n",
      ".59\n",
      ".60\n",
      ".61\n",
      ".62\n",
      ".63\n",
      ".64\n",
      ".65\n",
      ".66\n",
      ".67\n",
      ".68\n",
      ".69\n",
      ".70\n",
      ".71\n",
      ".72\n",
      ".73\n",
      ".74\n",
      ".75\n",
      ".76\n",
      ".77\n",
      ".78\n",
      ".79\n",
      ".80\n",
      ".81\n",
      ".82\n",
      ".83\n",
      ".84\n",
      ".85\n",
      ".86\n",
      ".87\n",
      ".88\n",
      ".89\n",
      ".90\n",
      ".91\n",
      ".92\n",
      ".93\n",
      ".94\n",
      ".95\n",
      ".96\n",
      ".97\n",
      ".98\n",
      ".99\n",
      ".100\n",
      ".101\n",
      ".102\n",
      ".103\n",
      ".104\n",
      ".105\n",
      ".106\n",
      ".107\n",
      ".108\n",
      ".109\n",
      ".110\n",
      ".111\n",
      ".112\n",
      ".113\n",
      ".114\n",
      "."
     ]
    },
    {
     "ename": "NoSuchElementException",
     "evalue": "Message: no such element: Unable to locate element: {\"method\":\"css selector\",\"selector\":\"div.image__background-image\"}\n  (Session info: chrome=89.0.4389.114)\n",
     "output_type": "error",
     "traceback": [
      "\u001b[1;31m---------------------------------------------------------------------------\u001b[0m",
      "\u001b[1;31mNoSuchElementException\u001b[0m                    Traceback (most recent call last)",
      "\u001b[1;32m<ipython-input-26-7480df58e97f>\u001b[0m in \u001b[0;36m<module>\u001b[1;34m\u001b[0m\n\u001b[0;32m      4\u001b[0m     \u001b[0mdriver\u001b[0m\u001b[1;33m.\u001b[0m\u001b[0mget\u001b[0m\u001b[1;33m(\u001b[0m\u001b[0mmen_top100\u001b[0m\u001b[1;33m)\u001b[0m\u001b[1;33m\u001b[0m\u001b[1;33m\u001b[0m\u001b[0m\n\u001b[0;32m      5\u001b[0m     \u001b[0mtime\u001b[0m\u001b[1;33m.\u001b[0m\u001b[0msleep\u001b[0m\u001b[1;33m(\u001b[0m\u001b[1;36m3\u001b[0m\u001b[1;33m)\u001b[0m  \u001b[1;31m# implicity 창이 안떠도 20초 기다리겠다.   ///  time sleep 화면 정지(시간만큼)\u001b[0m\u001b[1;33m\u001b[0m\u001b[1;33m\u001b[0m\u001b[0m\n\u001b[1;32m----> 6\u001b[1;33m     \u001b[0mscroll2\u001b[0m\u001b[1;33m(\u001b[0m\u001b[1;33m)\u001b[0m\u001b[1;33m\u001b[0m\u001b[1;33m\u001b[0m\u001b[0m\n\u001b[0m\u001b[0;32m      7\u001b[0m     \u001b[1;31m#click()\u001b[0m\u001b[1;33m\u001b[0m\u001b[1;33m\u001b[0m\u001b[1;33m\u001b[0m\u001b[0m\n\u001b[0;32m      8\u001b[0m     \u001b[0mwhtml\u001b[0m \u001b[1;33m=\u001b[0m \u001b[0mdriver\u001b[0m\u001b[1;33m.\u001b[0m\u001b[0mpage_source\u001b[0m\u001b[1;33m\u001b[0m\u001b[1;33m\u001b[0m\u001b[0m\n",
      "\u001b[1;32m<ipython-input-22-6789a2fa71da>\u001b[0m in \u001b[0;36mscroll2\u001b[1;34m()\u001b[0m\n\u001b[0;32m      1\u001b[0m \u001b[1;32mdef\u001b[0m \u001b[0mscroll2\u001b[0m\u001b[1;33m(\u001b[0m\u001b[1;33m)\u001b[0m\u001b[1;33m:\u001b[0m\u001b[1;33m\u001b[0m\u001b[1;33m\u001b[0m\u001b[0m\n\u001b[0;32m      2\u001b[0m     \u001b[0mbody\u001b[0m \u001b[1;33m=\u001b[0m \u001b[0mdriver\u001b[0m\u001b[1;33m.\u001b[0m\u001b[0mfind_element_by_css_selector\u001b[0m\u001b[1;33m(\u001b[0m\u001b[1;34m'body'\u001b[0m\u001b[1;33m)\u001b[0m\u001b[1;33m\u001b[0m\u001b[1;33m\u001b[0m\u001b[0m\n\u001b[1;32m----> 3\u001b[1;33m     \u001b[0mimg\u001b[0m \u001b[1;33m=\u001b[0m \u001b[0mbody\u001b[0m\u001b[1;33m.\u001b[0m\u001b[0mfind_element_by_css_selector\u001b[0m\u001b[1;33m(\u001b[0m\u001b[1;34m'div.image__background-image'\u001b[0m\u001b[1;33m)\u001b[0m\u001b[1;33m\u001b[0m\u001b[1;33m\u001b[0m\u001b[0m\n\u001b[0m\u001b[0;32m      4\u001b[0m     \u001b[0mimg\u001b[0m\u001b[1;33m.\u001b[0m\u001b[0mclick\u001b[0m\u001b[1;33m(\u001b[0m\u001b[1;33m)\u001b[0m\u001b[1;33m\u001b[0m\u001b[1;33m\u001b[0m\u001b[0m\n\u001b[0;32m      5\u001b[0m     \u001b[1;32mfor\u001b[0m \u001b[0mi\u001b[0m \u001b[1;32min\u001b[0m \u001b[0mrange\u001b[0m\u001b[1;33m(\u001b[0m\u001b[1;36m100\u001b[0m\u001b[1;33m)\u001b[0m\u001b[1;33m:\u001b[0m\u001b[1;33m\u001b[0m\u001b[1;33m\u001b[0m\u001b[0m\n",
      "\u001b[1;32mC:\\ProgramData\\Anaconda3\\lib\\site-packages\\selenium\\webdriver\\remote\\webelement.py\u001b[0m in \u001b[0;36mfind_element_by_css_selector\u001b[1;34m(self, css_selector)\u001b[0m\n\u001b[0;32m    428\u001b[0m             \u001b[0melement\u001b[0m \u001b[1;33m=\u001b[0m \u001b[0melement\u001b[0m\u001b[1;33m.\u001b[0m\u001b[0mfind_element_by_css_selector\u001b[0m\u001b[1;33m(\u001b[0m\u001b[1;34m'#foo'\u001b[0m\u001b[1;33m)\u001b[0m\u001b[1;33m\u001b[0m\u001b[1;33m\u001b[0m\u001b[0m\n\u001b[0;32m    429\u001b[0m         \"\"\"\n\u001b[1;32m--> 430\u001b[1;33m         \u001b[1;32mreturn\u001b[0m \u001b[0mself\u001b[0m\u001b[1;33m.\u001b[0m\u001b[0mfind_element\u001b[0m\u001b[1;33m(\u001b[0m\u001b[0mby\u001b[0m\u001b[1;33m=\u001b[0m\u001b[0mBy\u001b[0m\u001b[1;33m.\u001b[0m\u001b[0mCSS_SELECTOR\u001b[0m\u001b[1;33m,\u001b[0m \u001b[0mvalue\u001b[0m\u001b[1;33m=\u001b[0m\u001b[0mcss_selector\u001b[0m\u001b[1;33m)\u001b[0m\u001b[1;33m\u001b[0m\u001b[1;33m\u001b[0m\u001b[0m\n\u001b[0m\u001b[0;32m    431\u001b[0m \u001b[1;33m\u001b[0m\u001b[0m\n\u001b[0;32m    432\u001b[0m     \u001b[1;32mdef\u001b[0m \u001b[0mfind_elements_by_css_selector\u001b[0m\u001b[1;33m(\u001b[0m\u001b[0mself\u001b[0m\u001b[1;33m,\u001b[0m \u001b[0mcss_selector\u001b[0m\u001b[1;33m)\u001b[0m\u001b[1;33m:\u001b[0m\u001b[1;33m\u001b[0m\u001b[1;33m\u001b[0m\u001b[0m\n",
      "\u001b[1;32mC:\\ProgramData\\Anaconda3\\lib\\site-packages\\selenium\\webdriver\\remote\\webelement.py\u001b[0m in \u001b[0;36mfind_element\u001b[1;34m(self, by, value)\u001b[0m\n\u001b[0;32m    656\u001b[0m                 \u001b[0mvalue\u001b[0m \u001b[1;33m=\u001b[0m \u001b[1;34m'[name=\"%s\"]'\u001b[0m \u001b[1;33m%\u001b[0m \u001b[0mvalue\u001b[0m\u001b[1;33m\u001b[0m\u001b[1;33m\u001b[0m\u001b[0m\n\u001b[0;32m    657\u001b[0m \u001b[1;33m\u001b[0m\u001b[0m\n\u001b[1;32m--> 658\u001b[1;33m         return self._execute(Command.FIND_CHILD_ELEMENT,\n\u001b[0m\u001b[0;32m    659\u001b[0m                              {\"using\": by, \"value\": value})['value']\n\u001b[0;32m    660\u001b[0m \u001b[1;33m\u001b[0m\u001b[0m\n",
      "\u001b[1;32mC:\\ProgramData\\Anaconda3\\lib\\site-packages\\selenium\\webdriver\\remote\\webelement.py\u001b[0m in \u001b[0;36m_execute\u001b[1;34m(self, command, params)\u001b[0m\n\u001b[0;32m    631\u001b[0m             \u001b[0mparams\u001b[0m \u001b[1;33m=\u001b[0m \u001b[1;33m{\u001b[0m\u001b[1;33m}\u001b[0m\u001b[1;33m\u001b[0m\u001b[1;33m\u001b[0m\u001b[0m\n\u001b[0;32m    632\u001b[0m         \u001b[0mparams\u001b[0m\u001b[1;33m[\u001b[0m\u001b[1;34m'id'\u001b[0m\u001b[1;33m]\u001b[0m \u001b[1;33m=\u001b[0m \u001b[0mself\u001b[0m\u001b[1;33m.\u001b[0m\u001b[0m_id\u001b[0m\u001b[1;33m\u001b[0m\u001b[1;33m\u001b[0m\u001b[0m\n\u001b[1;32m--> 633\u001b[1;33m         \u001b[1;32mreturn\u001b[0m \u001b[0mself\u001b[0m\u001b[1;33m.\u001b[0m\u001b[0m_parent\u001b[0m\u001b[1;33m.\u001b[0m\u001b[0mexecute\u001b[0m\u001b[1;33m(\u001b[0m\u001b[0mcommand\u001b[0m\u001b[1;33m,\u001b[0m \u001b[0mparams\u001b[0m\u001b[1;33m)\u001b[0m\u001b[1;33m\u001b[0m\u001b[1;33m\u001b[0m\u001b[0m\n\u001b[0m\u001b[0;32m    634\u001b[0m \u001b[1;33m\u001b[0m\u001b[0m\n\u001b[0;32m    635\u001b[0m     \u001b[1;32mdef\u001b[0m \u001b[0mfind_element\u001b[0m\u001b[1;33m(\u001b[0m\u001b[0mself\u001b[0m\u001b[1;33m,\u001b[0m \u001b[0mby\u001b[0m\u001b[1;33m=\u001b[0m\u001b[0mBy\u001b[0m\u001b[1;33m.\u001b[0m\u001b[0mID\u001b[0m\u001b[1;33m,\u001b[0m \u001b[0mvalue\u001b[0m\u001b[1;33m=\u001b[0m\u001b[1;32mNone\u001b[0m\u001b[1;33m)\u001b[0m\u001b[1;33m:\u001b[0m\u001b[1;33m\u001b[0m\u001b[1;33m\u001b[0m\u001b[0m\n",
      "\u001b[1;32mC:\\ProgramData\\Anaconda3\\lib\\site-packages\\selenium\\webdriver\\remote\\webdriver.py\u001b[0m in \u001b[0;36mexecute\u001b[1;34m(self, driver_command, params)\u001b[0m\n\u001b[0;32m    319\u001b[0m         \u001b[0mresponse\u001b[0m \u001b[1;33m=\u001b[0m \u001b[0mself\u001b[0m\u001b[1;33m.\u001b[0m\u001b[0mcommand_executor\u001b[0m\u001b[1;33m.\u001b[0m\u001b[0mexecute\u001b[0m\u001b[1;33m(\u001b[0m\u001b[0mdriver_command\u001b[0m\u001b[1;33m,\u001b[0m \u001b[0mparams\u001b[0m\u001b[1;33m)\u001b[0m\u001b[1;33m\u001b[0m\u001b[1;33m\u001b[0m\u001b[0m\n\u001b[0;32m    320\u001b[0m         \u001b[1;32mif\u001b[0m \u001b[0mresponse\u001b[0m\u001b[1;33m:\u001b[0m\u001b[1;33m\u001b[0m\u001b[1;33m\u001b[0m\u001b[0m\n\u001b[1;32m--> 321\u001b[1;33m             \u001b[0mself\u001b[0m\u001b[1;33m.\u001b[0m\u001b[0merror_handler\u001b[0m\u001b[1;33m.\u001b[0m\u001b[0mcheck_response\u001b[0m\u001b[1;33m(\u001b[0m\u001b[0mresponse\u001b[0m\u001b[1;33m)\u001b[0m\u001b[1;33m\u001b[0m\u001b[1;33m\u001b[0m\u001b[0m\n\u001b[0m\u001b[0;32m    322\u001b[0m             response['value'] = self._unwrap_value(\n\u001b[0;32m    323\u001b[0m                 response.get('value', None))\n",
      "\u001b[1;32mC:\\ProgramData\\Anaconda3\\lib\\site-packages\\selenium\\webdriver\\remote\\errorhandler.py\u001b[0m in \u001b[0;36mcheck_response\u001b[1;34m(self, response)\u001b[0m\n\u001b[0;32m    240\u001b[0m                 \u001b[0malert_text\u001b[0m \u001b[1;33m=\u001b[0m \u001b[0mvalue\u001b[0m\u001b[1;33m[\u001b[0m\u001b[1;34m'alert'\u001b[0m\u001b[1;33m]\u001b[0m\u001b[1;33m.\u001b[0m\u001b[0mget\u001b[0m\u001b[1;33m(\u001b[0m\u001b[1;34m'text'\u001b[0m\u001b[1;33m)\u001b[0m\u001b[1;33m\u001b[0m\u001b[1;33m\u001b[0m\u001b[0m\n\u001b[0;32m    241\u001b[0m             \u001b[1;32mraise\u001b[0m \u001b[0mexception_class\u001b[0m\u001b[1;33m(\u001b[0m\u001b[0mmessage\u001b[0m\u001b[1;33m,\u001b[0m \u001b[0mscreen\u001b[0m\u001b[1;33m,\u001b[0m \u001b[0mstacktrace\u001b[0m\u001b[1;33m,\u001b[0m \u001b[0malert_text\u001b[0m\u001b[1;33m)\u001b[0m\u001b[1;33m\u001b[0m\u001b[1;33m\u001b[0m\u001b[0m\n\u001b[1;32m--> 242\u001b[1;33m         \u001b[1;32mraise\u001b[0m \u001b[0mexception_class\u001b[0m\u001b[1;33m(\u001b[0m\u001b[0mmessage\u001b[0m\u001b[1;33m,\u001b[0m \u001b[0mscreen\u001b[0m\u001b[1;33m,\u001b[0m \u001b[0mstacktrace\u001b[0m\u001b[1;33m)\u001b[0m\u001b[1;33m\u001b[0m\u001b[1;33m\u001b[0m\u001b[0m\n\u001b[0m\u001b[0;32m    243\u001b[0m \u001b[1;33m\u001b[0m\u001b[0m\n\u001b[0;32m    244\u001b[0m     \u001b[1;32mdef\u001b[0m \u001b[0m_value_or_default\u001b[0m\u001b[1;33m(\u001b[0m\u001b[0mself\u001b[0m\u001b[1;33m,\u001b[0m \u001b[0mobj\u001b[0m\u001b[1;33m,\u001b[0m \u001b[0mkey\u001b[0m\u001b[1;33m,\u001b[0m \u001b[0mdefault\u001b[0m\u001b[1;33m)\u001b[0m\u001b[1;33m:\u001b[0m\u001b[1;33m\u001b[0m\u001b[1;33m\u001b[0m\u001b[0m\n",
      "\u001b[1;31mNoSuchElementException\u001b[0m: Message: no such element: Unable to locate element: {\"method\":\"css selector\",\"selector\":\"div.image__background-image\"}\n  (Session info: chrome=89.0.4389.114)\n"
     ]
    }
   ],
   "source": [
    "driver = webdriver.Chrome('C:/asi/project/chromedriver_win32 (3)/chromedriver')\n",
    "kkk = 0\n",
    "for men_top100 in men_top100s :\n",
    "    driver.get(men_top100)\n",
    "    time.sleep(3)  # implicity 창이 안떠도 20초 기다리겠다.   ///  time sleep 화면 정지(시간만큼)\n",
    "    scroll2()\n",
    "    #click()\n",
    "    whtml = driver.page_source\n",
    "    wsrc = bsp(whtml,'html.parser')\n",
    "    mains = wsrc.find(attrs={\"class\":'contents__product-info'})\n",
    "    brand_ = mains.select('p.product-main-info__brand_name')[0].text.strip()\n",
    "    brand = re.sub(r'\\([^)]*\\)', '', brand_)\n",
    "    product_ = mains.select('span.product-main-info__product_name__text')[0].text.strip()\n",
    "    product = product_name(brand, product_)\n",
    "    note_= mains.select('div.info__description')[0].text.strip()\n",
    "    note = re.sub('\\*.*\\.','',note_)\n",
    "    \n",
    "    reviews = wsrc.select('li.review-list-item')\n",
    "    for review2 in reviews :\n",
    "        #user = review.select('span.user-name')[0].text.strip()\n",
    "        #age_= review.select('span.txt')[0].text.strip()\n",
    "        #age = re.sub(' ·.*','',age_)\n",
    "        gender = review2.select('span.icon-sprite'+'{0}'.format('icon-gender-f'))\n",
    "        if gender == review2.select('span.icon-sprite'+'{0}'.format('icon-gender-f')):\n",
    "            gender = '남'\n",
    "        elif gender == review2.select('span.icon-sprite'+'{0}'.format('icon-gender-m')):\n",
    "            gender = '남'\n",
    "        else:\n",
    "            pass\n",
    "        rating = review2.select('span.icon-sprite'+'{0}'+'{1}'.format('rating-grade-icon','gpa-best-small'))   \n",
    "        if rating == review2.select('span.icon-sprite'+'{0}'+'{1}'.format('icon-gender-f','gpa-best-small')):\n",
    "            rating = '5'\n",
    "        elif rating == review2.select('span.icon-sprite'+'{0}'+'{1}'.format('icon-gender-f','gpa-good-small')): \n",
    "            rating = '4'\n",
    "        elif rating == review2.select('span.icon-sprite'+'{0}'+'{1}'.format('icon-gender-f','gpa-soso-small')): \n",
    "            rating = '3'\n",
    "        elif rating == review2.select('span.icon-sprite'+'{0}'+'{1}'.format('icon-gender-f','gpa-bad-small')): \n",
    "            rating = '2'\n",
    "        elif rating == review2.select('span.icon-sprite'+'{0}'+'{1}'.format('icon-gender-f','gpa-worst-small')) :\n",
    "            rating = '1'\n",
    "        else:\n",
    "            pass\n",
    "        review = review2.select('p.review')[0].text.strip()\n",
    "        only_BMP_pattern = re.compile(\"[\"u\"\\U00010000-\\U0010FFFF\" \"]+\", flags=re.UNICODE)\n",
    "        review = only_BMP_pattern.sub(r'', review)\n",
    "        type1 = type_name(product)\n",
    "        #print(user,age,gender,grade,coment)\n",
    "        #print('-'*100)\n",
    "        d = (brand,product,note,gender,rating,review,type1)\n",
    "        print(kkk)\n",
    "        #print(brand,product,note,gender,rating,review,type1)\n",
    "        getData(d)\n",
    "        kkk +=1\n",
    "    time.sleep(3)"
   ]
  },
  {
   "cell_type": "code",
   "execution_count": null,
   "metadata": {},
   "outputs": [],
   "source": []
  },
  {
   "cell_type": "code",
   "execution_count": 25,
   "metadata": {},
   "outputs": [],
   "source": [
    "def getData(d): # 데이터베이스에 데이터 집어넣기\n",
    "    dbname='glowpick_DB.db'\n",
    "    with sqlite3.connect(dbname) as conn:\n",
    "        cursor=conn.cursor()\n",
    "        sql='INSERT INTO glowpick_ (brand,product,note,gender,rating,review,type1) VALUES(?,?,?,?,?,?,? )' \n",
    "        res=cursor.execute(sql,d)\n",
    "        print('.',end='')"
   ]
  },
  {
   "cell_type": "code",
   "execution_count": null,
   "metadata": {},
   "outputs": [],
   "source": [
    "############################################################"
   ]
  },
  {
   "cell_type": "code",
   "execution_count": null,
   "metadata": {},
   "outputs": [],
   "source": []
  }
 ],
 "metadata": {
  "kernelspec": {
   "display_name": "Python 3",
   "language": "python",
   "name": "python3"
  },
  "language_info": {
   "codemirror_mode": {
    "name": "ipython",
    "version": 3
   },
   "file_extension": ".py",
   "mimetype": "text/x-python",
   "name": "python",
   "nbconvert_exporter": "python",
   "pygments_lexer": "ipython3",
   "version": "3.8.5"
  },
  "toc": {
   "base_numbering": 1,
   "nav_menu": {},
   "number_sections": true,
   "sideBar": true,
   "skip_h1_title": false,
   "title_cell": "Table of Contents",
   "title_sidebar": "Contents",
   "toc_cell": false,
   "toc_position": {},
   "toc_section_display": true,
   "toc_window_display": false
  },
  "varInspector": {
   "cols": {
    "lenName": 16,
    "lenType": 16,
    "lenVar": 40
   },
   "kernels_config": {
    "python": {
     "delete_cmd_postfix": "",
     "delete_cmd_prefix": "del ",
     "library": "var_list.py",
     "varRefreshCmd": "print(var_dic_list())"
    },
    "r": {
     "delete_cmd_postfix": ") ",
     "delete_cmd_prefix": "rm(",
     "library": "var_list.r",
     "varRefreshCmd": "cat(var_dic_list()) "
    }
   },
   "types_to_exclude": [
    "module",
    "function",
    "builtin_function_or_method",
    "instance",
    "_Feature"
   ],
   "window_display": false
  }
 },
 "nbformat": 4,
 "nbformat_minor": 4
}
