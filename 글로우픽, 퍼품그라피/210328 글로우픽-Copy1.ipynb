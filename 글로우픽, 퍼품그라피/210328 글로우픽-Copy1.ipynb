{
 "cells": [
  {
   "cell_type": "code",
   "execution_count": null,
   "metadata": {},
   "outputs": [],
   "source": [
    "처음에 셀레니움으로 스크롤 다 내려서 top 100 보이게 한 후\n",
    "top 100의 url 을 뷰티숩으로 하나씩 도출\n",
    "각 url에 들어가서 (셀레니움으로 들어가서) 그 안에 내용들을 긁는다.\n",
    "리뷰를 셀레니움으로 스크롤 다 내림\n",
    "뷰티풀숩으로 내용 긁기"
   ]
  },
  {
   "cell_type": "code",
   "execution_count": 1,
   "metadata": {},
   "outputs": [],
   "source": [
    "import numpy as np\n",
    "import pandas as pd\n",
    "import requests\n",
    "from bs4 import BeautifulSoup as bsp\n",
    "import matplotlib\n",
    "import matplotlib.pyplot as plt\n",
    "import sqlite3\n",
    "import re\n",
    "from datetime import datetime, timedelta,date\n",
    "import sys\n",
    "import time"
   ]
  },
  {
   "cell_type": "markdown",
   "metadata": {},
   "source": [
    "#### 스크롤 마지막까지 내리기"
   ]
  },
  {
   "cell_type": "code",
   "execution_count": 2,
   "metadata": {
    "code_folding": []
   },
   "outputs": [],
   "source": [
    "from selenium.webdriver.common.keys import Keys\n",
    "\n",
    "def scroll():\n",
    "    body = driver.find_element_by_css_selector('body')\n",
    "    for i in range(30):\n",
    "        body.send_keys(Keys.PAGE_DOWN)\n",
    "        time.sleep(0.5)"
   ]
  },
  {
   "cell_type": "markdown",
   "metadata": {},
   "source": [
    "#### 크롬드라이버 여성향수 url 접속"
   ]
  },
  {
   "cell_type": "code",
   "execution_count": 3,
   "metadata": {
    "scrolled": false
   },
   "outputs": [],
   "source": [
    "from selenium import webdriver\n",
    "from bs4 import BeautifulSoup as bsp\n",
    "\n",
    "driver = webdriver.Chrome('C:/asi/project/chromedriver_win32 (3)/chromedriver')\n",
    "url = ('https://www.glowpick.com/beauty/ranking?id=246&level=3')\n",
    "driver.get(url)\n",
    "driver.implicitly_wait(3)\n",
    "scroll()\n",
    "html = driver.page_source\n",
    "src = bsp(html,'html.parser')"
   ]
  },
  {
   "cell_type": "markdown",
   "metadata": {},
   "source": [
    "#### url 100개(top 100) 도출"
   ]
  },
  {
   "cell_type": "code",
   "execution_count": 12,
   "metadata": {
    "code_folding": []
   },
   "outputs": [],
   "source": [
    "perfumeranks = src.select('#gp-list > div > section.section-list > ul > li')\n",
    "def top100():\n",
    "    list_conts=[]\n",
    "    for perfumerank in perfumeranks:\n",
    "        urls = perfumerank.select('meta')[1]\n",
    "        conts = urls['content']\n",
    "        list_conts.append(conts)\n",
    "    return list_conts"
   ]
  },
  {
   "cell_type": "code",
   "execution_count": 13,
   "metadata": {
    "scrolled": true
   },
   "outputs": [],
   "source": [
    "women_top100s=top100()  #url 100개 다 집어넣음"
   ]
  },
  {
   "cell_type": "code",
   "execution_count": 10,
   "metadata": {},
   "outputs": [],
   "source": [
    "driver = webdriver.Chrome('C:/asi/project/chromedriver_win32 (3)/chromedriver')\n",
    "def scroll2():\n",
    "    body = driver.find_element_by_css_selector('body')\n",
    "    img = drvier.find_element_by_css_selector('#gp-default-main > section > div > ul.contents__product-info > li.contents__product-info__li.contents__product-info__image > div > section > figure > div > div.image.product-image__detail--mobile.image--loaded > div')\n",
    "    for i in range(100):\n",
    "        body.send_keys(Keys.PAGE_DOWN)\n",
    "        img.click()\n",
    "        time.sleep(0.5)"
   ]
  },
  {
   "cell_type": "markdown",
   "metadata": {},
   "source": [
    "#### top 100 url 접속"
   ]
  },
  {
   "cell_type": "code",
   "execution_count": 11,
   "metadata": {
    "scrolled": false
   },
   "outputs": [
    {
     "ename": "NameError",
     "evalue": "name 'drvier' is not defined",
     "output_type": "error",
     "traceback": [
      "\u001b[1;31m---------------------------------------------------------------------------\u001b[0m",
      "\u001b[1;31mNameError\u001b[0m                                 Traceback (most recent call last)",
      "\u001b[1;32m<ipython-input-11-546a43a60075>\u001b[0m in \u001b[0;36m<module>\u001b[1;34m\u001b[0m\n\u001b[0;32m      3\u001b[0m     \u001b[0mdriver\u001b[0m\u001b[1;33m.\u001b[0m\u001b[0mget\u001b[0m\u001b[1;33m(\u001b[0m\u001b[0mwomen_top100\u001b[0m\u001b[1;33m)\u001b[0m\u001b[1;33m\u001b[0m\u001b[1;33m\u001b[0m\u001b[0m\n\u001b[0;32m      4\u001b[0m     \u001b[0mtime\u001b[0m\u001b[1;33m.\u001b[0m\u001b[0msleep\u001b[0m\u001b[1;33m(\u001b[0m\u001b[1;36m5\u001b[0m\u001b[1;33m)\u001b[0m  \u001b[1;31m# implicity 창이 안떠도 20초 기다리겠다.   ///  time sleep 화면 정지(시간만큼)\u001b[0m\u001b[1;33m\u001b[0m\u001b[1;33m\u001b[0m\u001b[0m\n\u001b[1;32m----> 5\u001b[1;33m     \u001b[0mscroll2\u001b[0m\u001b[1;33m(\u001b[0m\u001b[1;33m)\u001b[0m\u001b[1;33m\u001b[0m\u001b[1;33m\u001b[0m\u001b[0m\n\u001b[0m\u001b[0;32m      6\u001b[0m     \u001b[1;31m#click()\u001b[0m\u001b[1;33m\u001b[0m\u001b[1;33m\u001b[0m\u001b[1;33m\u001b[0m\u001b[0m\n\u001b[0;32m      7\u001b[0m \u001b[1;31m#     conts = urls['content']\u001b[0m\u001b[1;33m\u001b[0m\u001b[1;33m\u001b[0m\u001b[1;33m\u001b[0m\u001b[0m\n",
      "\u001b[1;32m<ipython-input-10-ea8f04d26ad9>\u001b[0m in \u001b[0;36mscroll2\u001b[1;34m()\u001b[0m\n\u001b[0;32m      2\u001b[0m \u001b[1;32mdef\u001b[0m \u001b[0mscroll2\u001b[0m\u001b[1;33m(\u001b[0m\u001b[1;33m)\u001b[0m\u001b[1;33m:\u001b[0m\u001b[1;33m\u001b[0m\u001b[1;33m\u001b[0m\u001b[0m\n\u001b[0;32m      3\u001b[0m     \u001b[0mbody\u001b[0m \u001b[1;33m=\u001b[0m \u001b[0mdriver\u001b[0m\u001b[1;33m.\u001b[0m\u001b[0mfind_element_by_css_selector\u001b[0m\u001b[1;33m(\u001b[0m\u001b[1;34m'body'\u001b[0m\u001b[1;33m)\u001b[0m\u001b[1;33m\u001b[0m\u001b[1;33m\u001b[0m\u001b[0m\n\u001b[1;32m----> 4\u001b[1;33m     \u001b[0mimg\u001b[0m \u001b[1;33m=\u001b[0m \u001b[0mdrvier\u001b[0m\u001b[1;33m.\u001b[0m\u001b[0mfind_element_by_css_selector\u001b[0m\u001b[1;33m(\u001b[0m\u001b[1;34m'#gp-default-main > section > div > ul.contents__product-info > li.contents__product-info__li.contents__product-info__image > div > section > figure > div > div.image.product-image__detail--mobile.image--loaded > div'\u001b[0m\u001b[1;33m)\u001b[0m\u001b[1;33m\u001b[0m\u001b[1;33m\u001b[0m\u001b[0m\n\u001b[0m\u001b[0;32m      5\u001b[0m     \u001b[1;32mfor\u001b[0m \u001b[0mi\u001b[0m \u001b[1;32min\u001b[0m \u001b[0mrange\u001b[0m\u001b[1;33m(\u001b[0m\u001b[1;36m100\u001b[0m\u001b[1;33m)\u001b[0m\u001b[1;33m:\u001b[0m\u001b[1;33m\u001b[0m\u001b[1;33m\u001b[0m\u001b[0m\n\u001b[0;32m      6\u001b[0m         \u001b[0mbody\u001b[0m\u001b[1;33m.\u001b[0m\u001b[0msend_keys\u001b[0m\u001b[1;33m(\u001b[0m\u001b[0mKeys\u001b[0m\u001b[1;33m.\u001b[0m\u001b[0mPAGE_DOWN\u001b[0m\u001b[1;33m)\u001b[0m\u001b[1;33m\u001b[0m\u001b[1;33m\u001b[0m\u001b[0m\n",
      "\u001b[1;31mNameError\u001b[0m: name 'drvier' is not defined"
     ]
    }
   ],
   "source": [
    "driver = webdriver.Chrome('C:/asi/project/chromedriver_win32 (3)/chromedriver')\n",
    "for women_top100 in women_top100s :\n",
    "    driver.get(women_top100)\n",
    "    time.sleep(5)  # implicity 창이 안떠도 20초 기다리겠다.   ///  time sleep 화면 정지(시간만큼)\n",
    "    scroll2() \n",
    "    #click()\n",
    "#     conts = urls['content']\n",
    "    whtml = driver.page_source\n",
    "    wsrc = bsp(whtml,'html.parser')\n",
    "    mains = wsrc.find(attrs={\"class\":'contents__product-info'})\n",
    "    brand_name = mains.select('p.product-main-info__brand_name')[0].text.strip()\n",
    "    name = mains.select('span.product-main-info__product_name__text')[0].text.strip()\n",
    "    note = mains.select('div.info__description')[0].text.strip()\n",
    "    print(brand_name,name,note)\n",
    "    print('*'*100)\n",
    "    reviews = wsrc.select('li.review-list-item')\n",
    "    for review in reviews :\n",
    "        user = review.select('span.user-name')[0].text.strip()\n",
    "        age = review.select('span.txt')[0].text.strip()\n",
    "        coment = review.select('p.review')[0].text.strip()\n",
    "        print(user,age,coment)\n",
    "        print('-'*100)\n",
    "    time.sleep(3)"
   ]
  },
  {
   "cell_type": "code",
   "execution_count": 52,
   "metadata": {},
   "outputs": [
    {
     "name": "stdout",
     "output_type": "stream",
     "text": [
      "끌로에 (CHLOE)\n",
      "끌로에 오 드 퍼퓸\n",
      "* 본 제품은 리뉴얼된 제품입니다.여성스럽고 우아한 장미향의 대명사 끌로에 시그니처 퍼퓸- TOP : 핑크 피오니, 프리지아, 리치- MIDDLE : 목련, 은방울꽃, 장미꽃잎- BASE : 시더우드, 앰버, 꿀\n",
      "영구읎다 19세 · 지성 · 메리미 저렴이라는 말이 정말 맞는것같아요 메리미에서 상큼한 향이 조금 줄어든느낌? 약간 달달한 꽃향기가 나요 봄에 젤 잘 어울릴거같은 향입니당\n",
      "----------------------------------------------------------------------------------------------------\n",
      "교롱 26세 · 복합성 · 메리미랑 향 진짜 비슷해요이거 쓰다가 메리미 써봤는데메리미보다 이게 더 좋았어요향도 넘 찐하지 않고 적당히 은은해요\n",
      "----------------------------------------------------------------------------------------------------\n",
      "쟈뭉뭉_ 15세 · 중성 · 그냥 좋아요, 냄새도 좋고 향수 디자인도 제 스타일ㅠㅠ\n",
      "----------------------------------------------------------------------------------------------------\n",
      "딸붕 21세 · 복합성 · 이거 진짜 제 인생템입니다!! 가격도 저렴해서 너무 최고입니다! 꽃향기랑 과일향기가 같이 나면서 향이 독하지 않고 은은해서 자주 뿌려도 괜찮았습니다. 또 지속력도 오래갔어요~\n",
      "----------------------------------------------------------------------------------------------------\n",
      "닺엉이 23세 · 복합성 · 학교 다닐때 주변에 3명정도는 이 항수 씀ㅋㅌㅋㅌㅋㅋ 저에겐 향이 약간 무겁다고 생각이 드는데 학생들이 써도 괜찮은 향입니다 지나가는데 좋은향이 나면 거의 더페 향이었어요 굿\n",
      "----------------------------------------------------------------------------------------------------\n",
      "윶뀽 27세 · 중성 · 메리미 저렴이라고 소문난 아이인 줄 모르고 플로럴 덕후로서 항에 반해 샀던 아이입니당! 페미닌하다는 말 별로 안 좋아하는데 뭔가 딱 플로럴 향수에 정석이라 페미닌하다는 말이 절로 떠올라요!지속력은 조금 아쉽지만 향도 좋고 케이스도 귀엽고 가격도 착해서 만족하며 사용하고 있습니당 ㅎㅅㅎ\n",
      "----------------------------------------------------------------------------------------------------\n",
      "스시먹고싶음 21세 · 중성 · 딱 20대 여자가 쓸 만한 냄새가 남.지속력은 가격에 비해 오래가고 분사력이나 다른 부분도 다 무난함. 처음 뿌렸을 때 향도 좋지만 잔향을 더 좋아하는 편.\n",
      "----------------------------------------------------------------------------------------------------\n",
      "0min 28세 · 건성 · 룸메이트가 쓰던 랑방 메리미 향에 취해 저렴이 버전이래서 샀는데 메리미의 그 깊은 향까지는 못 따라가는 거 같아요. 처음 그 꽃향기 느낌은 비슷한데 잔향이 좀 더 가볍고 상쾌하게 느껴져서 비슷하지만 많이 다른 향이에요. 메리미가 좋아서 샀지만 이건 이거대로 매력이 있는 향이에요 ㅎㅎ 향수 잘 안 갖고 다니는데 이거는 병 모양이 납작해서 어디 외출할 때 자즈 갖고 나가게 되더라구요.지속력은 쏘쏘 그렇게 막 많이 남지도 않고 그엏다고 너무 확 날아가지도 않아요. 쏘쏘 중에서도 좀 좋은 축! 전체적으로 만족할만한 향이랑 지속력입니다~~\n",
      "----------------------------------------------------------------------------------------------------\n",
      "소박하게 24세 · 복합성 · 고등학교때부터 사용하던 향수입니다! 가격도 저렴해서 휘뚜르마뚜르 딱 좋습니다! 물론 향도 지속력도 좋아요!가성비 찾으시면 추천!\n",
      "----------------------------------------------------------------------------------------------------\n",
      "달콤한초코렛 26세 · 지성 · 장점; 향수를 잘 알지는 못하지만 냄새 자체가 강하지도 않았고 자주 뿌려도 은은하게 남아 좋았다.개인적으로는 소울 향수중에 제일 물에 덜 섞인? 냄새? 같았다. 가볍게 뿌릴때는 분사력이 나쁘지 않았다단점; 생각보다 냄새가 빨리 없어져서 안타까웠다. 그리고 물탄 느낌이 너무 심했다. 정말 그냥 향료만 대충 넣은 느낌? 분사를 하고 나면 흡수력이 너무 빨라 다른 손목에 액체가 전달이 안됬다. 그냥 뿌린 부분 냄새만 강함ㅠ  그냥 초보자용 향수로 쓰기는 좋고 싼값에 사는 것 같다.\n",
      "----------------------------------------------------------------------------------------------------\n",
      "9987 24세 · 건성 · 이거 제 인생템입니다.이거만큼 가성비 좋은 제품 못봤어요👍향도 너무 좋고 가격도 저렴해서 3년째 쓰는 중입니다.저는 계속 이것만 써요 더페이스샵에서 이거 말고 다른종류의 향수 많이 파는데 여기 향수가 다 괜찮지만 그중에 제일 여자여자한건 이것같아요 대학생 된 뒤로 이거 뿌리는데 새내기에는 원피스자주 입는데 치마나 원피스 또는 블라우스 입고 이거 뿌리면 여자여자한게 새내기 추천템으로 강추해요❣️다들 써보세요 꽃향기랑 과일향이 골고루 섞여 달달한 냄새가 하루종일 나서 기분 좋아져요ㅎㅎ\n",
      "----------------------------------------------------------------------------------------------------\n",
      "안드로메디언 22세 · 복합성 · 반값할인할때 시향해보고 너무 좋아서 바로 샀어요ㅎㅎㅎㅎㅎㅎㅎㅎ데일리로 쓰기 가벼운거 같아요!!\n",
      "----------------------------------------------------------------------------------------------------\n",
      "28큐 24세 · 민감성 · 상큼복숭아달달새내기향근데 랑방메리미와 닮은지는 잘 모르겠다..\n",
      "----------------------------------------------------------------------------------------------------\n",
      "HSJ다홍 24세 · 복합성 · 무겁지 않으면서 적당히 달달한 꽃향!봄에 뿌리고 다니기 정말 좋아요봄에 샤랄랄한 원피스나 상큼한 느낌의 코디하고벚꽃놀이하러갔는데 벚꽃길 사이로 햇빛이 비춰지는 그런 느낌의 향이에요.달달한 느낌의 유명한 향수들은 왠지 모르게 무거운 느낌이 들어서 싫었는데 가볍게 달달해서 머리도 안 아프고 좋아요.\n",
      "----------------------------------------------------------------------------------------------------\n",
      "먹물이와비비 23세 · 지성 · 랑방 메리미향이랑 넘똑!...  처음엔 향이 좋아서 구매했었는데 대학생되서 여러향 시향하고 나니까 메리미랑 똑같더라구요! 완전 정확하다곤 할 순 없지만 그래도 비슷합니다!!! 저는 학생때 구매했었어요! 친구가 썼는데 잔향이 좋아서 구매했는데 만족했어요~학생분들은 랑방 저렴이로 사용하셔도 좋을 것 같아요! #대한민국브랜드만세\n",
      "----------------------------------------------------------------------------------------------------\n",
      "13호봄라이트수부지 25세 · 건성 · 메리미 기대하시고 사면 안돼요..ㅠㅠ 살짝 비슷한 정도지 ,,,  갠적으로 메리미는 좀 더 첫향이 상큼한 느낌에다가, 자스민 향이 나고, 오줌 지린내? 비슷한 향이 나거든요. 저는 그 지린내가 싫어서, 프로미스링이 좀 더 달달하다고 들어서 구매해봤는데 확실히 메리미 특유의 지린내(?)는 안나요. 그냥 메리미의 여러가지 노트들을 다 제외하고,  메리미의 달달한 한 부분을 추출한듯한 아주 단순한 향이에요. 살짝 복숭아 향도 나구요저도 달달한 향을 좋아하긴 하지만, 이건 문방구에서 파는듯한 귀여운 장난감 향수 느낌이에용..ㅎㅎ 아 너무 유치한 향딱 더페이스샵이나 에뛰드에서  만원 이하에 팔만한 느낌이에요. 그냥 10대 소녀들이 뿌릴만한 향수네요 큰 기대는 하지마세요 ..ㅎㅎ향은 가볍고 만만한 향이라서 멀미나거나 그러진 않아요\n",
      "----------------------------------------------------------------------------------------------------\n",
      "YOUZI 16세 · 복합성 · 진짜 제 취향이고 벌써 2개째 쓰고있네요 향은 꽃향..? 되게 좋아요\n",
      "----------------------------------------------------------------------------------------------------\n",
      "빵꾸똥끼 22세 · 지성 · 이거만 뿌리면 봄 생각나요봄에 뿌리면 너무 좋은 향수저렴한 향수치고 지속력도 좋아요!\n",
      "----------------------------------------------------------------------------------------------------\n",
      "햐레 25세 · 민감성 · 향 너무 좋아요! 소울 시크릿 블라썸보다 더 성숙한 느낌의 향이에요 ㅋㅋㅋㅋ 달달해요! 잔향도 고급스럽고 달달~ 봄의 향기네요 가격도 저렴해서 완전 추천!😭 하지만 유니크한 향을 원한다면 조금 고민해보시는게..! 암튼 팍팍쓰기 좋아요 자기전 침대에도 뿌리고~\n",
      "----------------------------------------------------------------------------------------------------\n",
      "7.7 30세 · 건성 · 메리미 향수 저렴이버전이라고 알고 계신 그 제품!!!나 완전 여자여자한 향수야 하는 느낌이 팍팍들어요되게 봄에 꽃피고 원피스 구두에 사진찍는듯한 그런 느낌? 샤랄라한 느낌이 많아서 전 한번 구매햇지만 다들 어디서 맡아본듯한 향이라고 하시더라구요\n",
      "----------------------------------------------------------------------------------------------------\n"
     ]
    }
   ],
   "source": [
    "\n",
    "drivers = webdriver.Chrome('C:/asi/project/chromedriver_win32 (3)/chromedriver')\n",
    "url2 = 'https://www.glowpick.com/product/87685'\n",
    "drivers.get(url2)\n",
    "time.sleep(5)\n",
    "drivers.implicitly_wait(3)\n",
    "html = drivers.page_source\n",
    "src1 = bsp(html,'html.parser')\n",
    "mains = src1.find(attrs={\"class\":'contents__product-info'})\n",
    "brand_name = mains.select('p.product-main-info__brand_name')[0].text.strip()\n",
    "print(brand_name)\n",
    "product = mains.select('span.product-main-info__product_name__text')[0].text.strip()\n",
    "print(product)\n",
    "note = mains.select('div.info__description')[0].text.strip()\n",
    "print(note)\n",
    "reviews = wsrc.select('li.review-list-item')\n",
    "for review in reviews :\n",
    "    user = review.select('span.user-name')[0].text.strip()\n",
    "    age = review.select('span.txt')[0].text.strip()\n",
    "    coment = review.select('p.review')[0].text.strip()\n",
    "    print(user,age,coment)\n",
    "    print('-'*100)\n",
    "#brand_name = mains.select('p.product-main-info__brand_name')\n",
    "#print(brand_name)\n",
    "# for main in mains:\n",
    "#     print(main)"
   ]
  },
  {
   "cell_type": "code",
   "execution_count": null,
   "metadata": {},
   "outputs": [],
   "source": [
    "############################################################"
   ]
  },
  {
   "cell_type": "code",
   "execution_count": 27,
   "metadata": {},
   "outputs": [],
   "source": [
    "# 여성 향수 1위 크롤링\n",
    "def Reivew():\n",
    "    driver = webdriver.Chrome('C:/asi/project/chromedriver_win32 (3)/chromedriver')\n",
    "    for perfumerank in perfumeranks:\n",
    "        urls = perfumerank.select('meta')[1]\n",
    "        conts = urls['content']\n",
    "        return conts\n",
    "    url = conts\n",
    "    driver.get(url)\n",
    "    driver.implicitly_wait(3)\n",
    "    scroll2()\n",
    "    html = driver.page_source\n",
    "    src = bsp(html,'html.parser')\n",
    "\n",
    "    brand_name = src.select('p.product-main-info__brand_name')[0].text.strip()\n",
    "    name = src.select('span.product-main-info__product_name__text')[0].text.strip()\n",
    "    note = src.select('div.info__description')[0].text.strip()\n",
    "    print(brand_name,name,note)\n",
    "    print('*'*100)\n",
    "    reviews = src.select('li.review-list-item')\n",
    "    for review in reviews :\n",
    "        user = review.select('span.user-name')[0].text.strip()\n",
    "        age = review.select('span.txt')[0].text.strip()\n",
    "        coment = review.select('p.review')[0].text.strip()\n",
    "        print(user,age,coment)\n",
    "        print('-'*100)"
   ]
  },
  {
   "cell_type": "code",
   "execution_count": 58,
   "metadata": {},
   "outputs": [
    {
     "ename": "IndexError",
     "evalue": "list index out of range",
     "output_type": "error",
     "traceback": [
      "\u001b[1;31m---------------------------------------------------------------------------\u001b[0m",
      "\u001b[1;31mIndexError\u001b[0m                                Traceback (most recent call last)",
      "\u001b[1;32m<ipython-input-58-95de782394f7>\u001b[0m in \u001b[0;36m<module>\u001b[1;34m\u001b[0m\n\u001b[0;32m      5\u001b[0m \u001b[0mreviews\u001b[0m \u001b[1;33m=\u001b[0m \u001b[0msrc\u001b[0m\u001b[1;33m.\u001b[0m\u001b[0mselect\u001b[0m\u001b[1;33m(\u001b[0m\u001b[1;34m'#gp-list > div > section.section-list > ul > li > div'\u001b[0m\u001b[1;33m)\u001b[0m\u001b[1;33m\u001b[0m\u001b[1;33m\u001b[0m\u001b[0m\n\u001b[0;32m      6\u001b[0m \u001b[1;32mfor\u001b[0m \u001b[0mreview\u001b[0m \u001b[1;32min\u001b[0m \u001b[0mreviews\u001b[0m \u001b[1;33m:\u001b[0m\u001b[1;33m\u001b[0m\u001b[1;33m\u001b[0m\u001b[0m\n\u001b[1;32m----> 7\u001b[1;33m     \u001b[0muser\u001b[0m \u001b[1;33m=\u001b[0m \u001b[0mreview\u001b[0m\u001b[1;33m.\u001b[0m\u001b[0mselect\u001b[0m\u001b[1;33m(\u001b[0m\u001b[1;34m'span.user-name'\u001b[0m\u001b[1;33m)\u001b[0m\u001b[1;33m[\u001b[0m\u001b[1;36m0\u001b[0m\u001b[1;33m]\u001b[0m\u001b[1;33m.\u001b[0m\u001b[0mtext\u001b[0m\u001b[1;33m.\u001b[0m\u001b[0mstrip\u001b[0m\u001b[1;33m(\u001b[0m\u001b[1;33m)\u001b[0m\u001b[1;33m\u001b[0m\u001b[1;33m\u001b[0m\u001b[0m\n\u001b[0m\u001b[0;32m      8\u001b[0m     \u001b[0mage\u001b[0m \u001b[1;33m=\u001b[0m \u001b[0mreview\u001b[0m\u001b[1;33m.\u001b[0m\u001b[0mselect\u001b[0m\u001b[1;33m(\u001b[0m\u001b[1;34m'span.txt'\u001b[0m\u001b[1;33m)\u001b[0m\u001b[1;33m[\u001b[0m\u001b[1;36m0\u001b[0m\u001b[1;33m]\u001b[0m\u001b[1;33m.\u001b[0m\u001b[0mtext\u001b[0m\u001b[1;33m.\u001b[0m\u001b[0mstrip\u001b[0m\u001b[1;33m(\u001b[0m\u001b[1;33m)\u001b[0m\u001b[1;33m\u001b[0m\u001b[1;33m\u001b[0m\u001b[0m\n\u001b[0;32m      9\u001b[0m     \u001b[0mcoment\u001b[0m \u001b[1;33m=\u001b[0m \u001b[0mreview\u001b[0m\u001b[1;33m.\u001b[0m\u001b[0mselect\u001b[0m\u001b[1;33m(\u001b[0m\u001b[1;34m'p.review'\u001b[0m\u001b[1;33m)\u001b[0m\u001b[1;33m[\u001b[0m\u001b[1;36m0\u001b[0m\u001b[1;33m]\u001b[0m\u001b[1;33m.\u001b[0m\u001b[0mtext\u001b[0m\u001b[1;33m.\u001b[0m\u001b[0mstrip\u001b[0m\u001b[1;33m(\u001b[0m\u001b[1;33m)\u001b[0m\u001b[1;33m\u001b[0m\u001b[1;33m\u001b[0m\u001b[0m\n",
      "\u001b[1;31mIndexError\u001b[0m: list index out of range"
     ]
    }
   ],
   "source": [
    "driver = webdriver.Chrome('C:/asi/project/chromedriver_win32 (3)/chromedriver')\n",
    "url = 'https://www.glowpick.com/product/87685'\n",
    "driver.get(url)\n",
    "driver.implicitly_wait(3)\n",
    "reviews = src.select('#gp-list > div > section.section-list > ul > li > div')\n",
    "for review in reviews :\n",
    "    user = review.select('span.user-name')[0].text.strip()\n",
    "    age = review.select('span.txt')[0].text.strip()\n",
    "    coment = review.select('p.review')[0].text.strip()\n",
    "    print(user,age,coment)\n",
    "    print('-'*100)"
   ]
  },
  {
   "cell_type": "code",
   "execution_count": null,
   "metadata": {},
   "outputs": [],
   "source": []
  },
  {
   "cell_type": "code",
   "execution_count": null,
   "metadata": {},
   "outputs": [],
   "source": []
  },
  {
   "cell_type": "code",
   "execution_count": null,
   "metadata": {},
   "outputs": [],
   "source": []
  },
  {
   "cell_type": "code",
   "execution_count": null,
   "metadata": {},
   "outputs": [],
   "source": []
  },
  {
   "cell_type": "code",
   "execution_count": null,
   "metadata": {},
   "outputs": [],
   "source": []
  },
  {
   "cell_type": "code",
   "execution_count": null,
   "metadata": {},
   "outputs": [],
   "source": []
  },
  {
   "cell_type": "markdown",
   "metadata": {},
   "source": [
    "#### ul > li 로 나타내기"
   ]
  },
  {
   "cell_type": "code",
   "execution_count": null,
   "metadata": {},
   "outputs": [],
   "source": [
    "perfumeranks = src.select('#gp-list > div > section.section-list > ul > li')\n",
    "print(perfumeranks)"
   ]
  },
  {
   "cell_type": "markdown",
   "metadata": {},
   "source": [
    "##### meta 인덱스로 url 뽑아냄(meta > content)"
   ]
  },
  {
   "cell_type": "code",
   "execution_count": null,
   "metadata": {
    "code_folding": [],
    "scrolled": false
   },
   "outputs": [],
   "source": [
    "for perfumerank in perfumeranks:\n",
    "    urls = perfumerank.select('meta')[1]\n",
    "    conts = urls['content']\n",
    "    print(conts)\n",
    "    print('#'*100)\n",
    "    for cont in conts:\n",
    "        driver.get(cont)\n",
    "        driver.implicitly_wait(3)\n",
    "        html = driver.page_source\n",
    "        src = bsp(html,'html.parser')\n",
    "        for i in range(len(cont)):\n",
    "            brand_name = src.select('p.product-main-info__brand_name')[i]\n",
    "            print(brand_name)\n",
    "            #name = src.select('span.product-main-info__product_name__text')[0]"
   ]
  },
  {
   "cell_type": "code",
   "execution_count": null,
   "metadata": {},
   "outputs": [],
   "source": [
    "for perfumerank in perfumeranks:\n",
    "    urls = perfumerank.select('meta')[1]\n",
    "    conts = urls['content']\n",
    "    print(conts)\n",
    "    print('#'*100)\n",
    "    #driver.get(conts)\n",
    "    #driver.implicitly_wait(3)\n",
    "    #headers = {'user-agent': 'Mozilla/5.0 (Windows NT 10.0; Win64; x64) AppleWebKit/537.36 (KHTML, like Gecko) Chrome/89.0.4389.90 Safari/537.36'}  \n",
    "    #response = requests.get(conts,headers=headers)\n",
    "    html = driver.page_source #(셀레니움 할 때, 페이지 소스 긁는것)\n",
    "    src = bsp(html,'html.parser')\n",
    "    print(src)\n",
    "    brand_name = src.find(attrs={'class':'product-main-info__brand_name'})#.text\n",
    "    print(brand_name)\n",
    "    \n",
    "driver = webdriver.Chrome('C:/asi/project/chromedriver_win32 (3)/chromedriver')\n",
    "url = ('https://www.glowpick.com/product/87685')\n",
    "driver.get(url)\n",
    "driver.implicitly_wait(3)\n",
    "# headers = {'user-agent': 'Mozilla/5.0 (Windows NT 10.0; Win64; x64) AppleWebKit/537.36 (KHTML, like Gecko) Chrome/89.0.4389.90 Safari/537.36'}  \n",
    "# response = requests.get(url,headers=headers)\n",
    "html = driver.page_source\n",
    "src = bsp(html,'html.parser')\n",
    "src"
   ]
  },
  {
   "cell_type": "code",
   "execution_count": null,
   "metadata": {},
   "outputs": [],
   "source": [
    "for url in urls :   \n",
    "    driver.get(url)\n",
    "    #driver.implicitly_wait(3)\n",
    "    html = driver.page_source\n",
    "    src = bsp(html,'html.parser')\n",
    "    for i in range(len(url)):\n",
    "        brand_name = src.select('p.product-main-info__brand_name')[i]\n",
    "        print(brand_name)\n",
    "        name = src.select('span.product-main-info__product_name__text')[0]"
   ]
  },
  {
   "cell_type": "code",
   "execution_count": null,
   "metadata": {},
   "outputs": [],
   "source": [
    "##############################################################################################"
   ]
  },
  {
   "cell_type": "code",
   "execution_count": null,
   "metadata": {
    "code_folding": [],
    "scrolled": true
   },
   "outputs": [],
   "source": [
    "for perfumerank in perfumeranks :\n",
    "    if(len(perfumerank)>0):\n",
    "        for i in range(len(perfumerank)) :\n",
    "            brand_name = perfumerank.select('p.details__labels__brand')[i].text.strip()\n",
    "            name = perfumerank.select('p.details__labels__name')[i].text.strip()\n",
    "            score = perfumerank.select('span.details__score__rating')[i].text.strip()\n",
    "            print(brand_name,name,score,url)"
   ]
  },
  {
   "cell_type": "code",
   "execution_count": null,
   "metadata": {},
   "outputs": [],
   "source": [
    "처음에 셀레니움으로 스크롤 다 내려서 top 100 보이게 한 후\n",
    "top 100의 url 을 뷰티숩으로 하나씩 도출\n",
    "각 url에 들어가서 (셀레니움으로 들어가서) 그 안에 내용들을 긁는다.\n",
    "리뷰를 셀레니움으로 스크롤 다 내림\n",
    "뷰티풀숩으로 내용 긁기"
   ]
  },
  {
   "cell_type": "code",
   "execution_count": null,
   "metadata": {},
   "outputs": [],
   "source": []
  }
 ],
 "metadata": {
  "kernelspec": {
   "display_name": "Python 3",
   "language": "python",
   "name": "python3"
  },
  "language_info": {
   "codemirror_mode": {
    "name": "ipython",
    "version": 3
   },
   "file_extension": ".py",
   "mimetype": "text/x-python",
   "name": "python",
   "nbconvert_exporter": "python",
   "pygments_lexer": "ipython3",
   "version": "3.8.5"
  },
  "toc": {
   "base_numbering": 1,
   "nav_menu": {},
   "number_sections": true,
   "sideBar": true,
   "skip_h1_title": false,
   "title_cell": "Table of Contents",
   "title_sidebar": "Contents",
   "toc_cell": false,
   "toc_position": {},
   "toc_section_display": true,
   "toc_window_display": false
  },
  "varInspector": {
   "cols": {
    "lenName": 16,
    "lenType": 16,
    "lenVar": 40
   },
   "kernels_config": {
    "python": {
     "delete_cmd_postfix": "",
     "delete_cmd_prefix": "del ",
     "library": "var_list.py",
     "varRefreshCmd": "print(var_dic_list())"
    },
    "r": {
     "delete_cmd_postfix": ") ",
     "delete_cmd_prefix": "rm(",
     "library": "var_list.r",
     "varRefreshCmd": "cat(var_dic_list()) "
    }
   },
   "types_to_exclude": [
    "module",
    "function",
    "builtin_function_or_method",
    "instance",
    "_Feature"
   ],
   "window_display": false
  }
 },
 "nbformat": 4,
 "nbformat_minor": 4
}
