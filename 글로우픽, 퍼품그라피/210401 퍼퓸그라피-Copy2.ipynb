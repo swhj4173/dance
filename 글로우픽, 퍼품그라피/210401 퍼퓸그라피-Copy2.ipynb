{
 "cells": [
  {
   "cell_type": "raw",
   "metadata": {},
   "source": [
    "처음에 셀레니움으로 브랜드 페이지 열고 \n",
    "url 을 뷰티숩으로 하나씩 도출\n",
    "각 url에 들어가서 (셀레니움으로 들어가서) 그 안에 내용들을 긁는다.\n",
    "셀레니움으로 리뷰 버튼 클릭\n",
    "뷰티풀숩으로 내용 긁기"
   ]
  },
  {
   "cell_type": "code",
   "execution_count": null,
   "metadata": {},
   "outputs": [],
   "source": [
    "import numpy as np\n",
    "import pandas as pd\n",
    "import requests\n",
    "from bs4 import BeautifulSoup as bsp\n",
    "import matplotlib\n",
    "import matplotlib.pyplot as plt\n",
    "import sqlite3\n",
    "import re\n",
    "from datetime import datetime, timedelta,date\n",
    "import sys\n",
    "import time\n",
    "import click\n",
    "from selenium.webdriver.common.action_chains import ActionChains\n",
    "import sqlite3"
   ]
  },
  {
   "cell_type": "markdown",
   "metadata": {},
   "source": [
    "### 향수 구찌 페이지 접속"
   ]
  },
  {
   "cell_type": "code",
   "execution_count": null,
   "metadata": {},
   "outputs": [],
   "source": [
    "from selenium import webdriver\n",
    "from bs4 import BeautifulSoup as bsp\n",
    "from selenium.webdriver.chrome.options import Options\n",
    "\n",
    "CHROMEDRIVER_PATH = 'C:/asi/project/chromedriver_win32 (3)/chromedriver' # Windows는 chromedriver_78.exe\n",
    "WINDOW_SIZE = \"1920,1080\"\n",
    "chrome_options = Options()\n",
    "chrome_options.add_argument(f\"--window-size={ WINDOW_SIZE }\")\n",
    "chrome_options.add_argument('Content-Type=application/json; charset=utf-8')\n",
    "driver = webdriver.Chrome( executable_path=CHROMEDRIVER_PATH, chrome_options=chrome_options )\n",
    "url = ('https://perfumegraphy.com/product/list.html?cate_no=201')\n",
    "driver.get(url)\n",
    "\n",
    "#driver = webdriver.Chrome('C:/asi/project/chromedriver_win32 (3)/chromedriver')\n",
    "#url = ('https://perfumegraphy.com/product/list.html?cate_no=201')\n",
    "#driver.get(url)\n",
    "driver.implicitly_wait(3)\n",
    "html = driver.page_source\n",
    "src = bsp(html,'html.parser')"
   ]
  },
  {
   "cell_type": "markdown",
   "metadata": {},
   "source": [
    "### 향수 url 하나씩 추출"
   ]
  },
  {
   "cell_type": "code",
   "execution_count": null,
   "metadata": {},
   "outputs": [],
   "source": [
    "perurls = src.select('li.xans-record- > div')\n",
    "for perurl in perurls :\n",
    "    urls2 = perurl.select('div.prdImg > a')\n",
    "    print(urls2)"
   ]
  },
  {
   "cell_type": "code",
   "execution_count": null,
   "metadata": {
    "scrolled": true
   },
   "outputs": [],
   "source": [
    "perurls = src.select('li.xans-record- > div')\n",
    "#print(perurls)\n",
    "for perurl in perurls:\n",
    "    urls2 = perurl.select('div.prdImg > a')[0]\n",
    "    homepage = urls2['href']\n",
    "    print(homepage)\n",
    "    print('#'*100)"
   ]
  },
  {
   "cell_type": "markdown",
   "metadata": {},
   "source": [
    "### 각 homepage 내용 긁기"
   ]
  },
  {
   "cell_type": "code",
   "execution_count": null,
   "metadata": {
    "scrolled": true
   },
   "outputs": [],
   "source": [
    "driver = webdriver.Chrome('C:/asi/project/chromedriver_win32 (3)/chromedriver')\n",
    "##brand_name = 글자 찾기!!!!! 나중에 name_에 replace부분에 brand_name으로 넣기\n",
    "for perurl in perurls:\n",
    "    urls = perurl.select('div.prdImg > a')[0]\n",
    "    homepage ='https://perfumegraphy.com'+ urls['href']+'#review'\n",
    "    #print(homepage)\n",
    "    driver.get(homepage)\n",
    "    time.sleep(3)\n",
    "    html = driver.page_source\n",
    "    src = bsp(html,'html.parser')\n",
    "    name_ = src.select('div.headingArea > h2')[0].text.replace('구찌','').replace('/','').strip()\n",
    "    name = re.sub('[a-zA-Z0-9]','',name_)\n",
    "    realname = re.sub('\\+.*','',name).strip()\n",
    "    time.sleep(3)\n",
    "    print(src)\n",
    "    print('#'*100)\n",
    "    print('#'*100)\n",
    "    print('#'*100)\n",
    "#     ul_list = src.select('ul.reviews > li.review')\n",
    "    \n",
    "#     for ul in ul_list :\n",
    "#         reviewa = ul.select('a.js-link-expand')\n",
    "#         print(reviewa)\n",
    "        #reviewa.click()\n",
    "    \n",
    "#     review =\n",
    "#     age = \n",
    "#     gender = \n",
    "    \n",
    "    #print(realname)\n",
    "#     brand_name = mains.select('p.product-main-info__brand_name')[0].text.strip()\n",
    "    "
   ]
  },
  {
   "cell_type": "code",
   "execution_count": null,
   "metadata": {},
   "outputs": [],
   "source": [
    "for perurl in perurls:\n",
    "    urls = perurl.select('div.prdImg > a')[0]\n",
    "    homepage ='https://perfumegraphy.com'+ urls['href']+'#review'\n",
    "print(homepage)"
   ]
  },
  {
   "cell_type": "code",
   "execution_count": null,
   "metadata": {},
   "outputs": [],
   "source": [
    "driver = webdriver.Chrome('C:/asi/project/chromedriver_win32 (3)/chromedriver')\n",
    "##brand_name = 글자 찾기!!!!! 나중에 name_에 replace부분에 brand_name으로 넣기\n",
    "homepage ='http://review4.cre.ma/perfumegraphy.com/products/reviews?product_code=1469&iframe_id=crema-product-reviews-1&widget_id=32&widget_style=&app=0&parent_url=http%3A%2F%2Fperfumegraphy.com%2Fproduct%2F%25EA%25B5%25AC%25EC%25B0%258C-%25EB%25B8%2594%25EB%25A3%25B8-%25EC%2598%25A4-%25EB%2593%259C-%25ED%258D%25BC%25ED%2593%25B8-3050100ml-%25ED%2585%258C%25EC%258A%25A4%25ED%2584%25B0%2F1469%2F&nonmember_token=&secure_device_token=V27fe46a9beacd9408382a8c33619aac056623c68ae3238745492068dceac51019&iframe=1'\n",
    "#print(homepage)\n",
    "driver.get(homepage)\n",
    "time.sleep(3)\n",
    "html = driver.page_source\n",
    "src = bsp(html,'html.parser')\n",
    "# name_ = src.select('div.headingArea > h2')[0].text.replace('구찌','').replace('/','').strip()\n",
    "# name = re.sub('[a-zA-Z0-9]','',name_)\n",
    "# realname = re.sub('\\+.*','',name).strip()\n",
    "# time.sleep(3)\n",
    "print(src)\n",
    "print('#'*100)\n",
    "print('#'*100)\n",
    "print('#'*100)\n",
    "#     ul_list = src.select('ul.reviews > li.review')\n",
    "    \n",
    "#     for ul in ul_list :\n",
    "#         reviewa = ul.select('a.js-link-expand')\n",
    "#         print(reviewa)\n",
    "        #reviewa.click()\n",
    "    \n",
    "#     review =\n",
    "#     age = \n",
    "#     gender = \n",
    "    \n",
    "    #print(realname)\n",
    "#     brand_name = mains.select('p.product-main-info__brand_name')[0].text.strip()\n",
    "    "
   ]
  },
  {
   "cell_type": "code",
   "execution_count": null,
   "metadata": {},
   "outputs": [],
   "source": [
    "driver = webdriver.Chrome('C:/asi/project/chromedriver_win32 (3)/chromedriver')\n",
    "driver.get(url)"
   ]
  },
  {
   "cell_type": "code",
   "execution_count": null,
   "metadata": {},
   "outputs": [],
   "source": [
    "ur = 'https://perfumegraphy.com/product/list.html?cate_no=201/#review'\n",
    "driver.get(ur)\n",
    "#res = requests.get(ur, params=params)\n",
    "time.sleep(3)\n",
    "html2 = driver.page_source\n",
    "src = bsp(html2,'html.parser')\n",
    "ul_list = src.select('ul.reviews  li.review')\n",
    "for ul in ul_list:\n",
    "    review = ul.select('a.js-link-expand').text\n",
    "    print(review)\n",
    "    https://perfumegraphy.com/product/%EA%B5%AC%EC%B0%8C-%EB%B8%94%EB%A3%B8-%EC%98%A4-%EB%93%9C-%ED%8D%BC%ED%93%B8-3050100ml-%ED%85%8C%EC%8A%A4%ED%84%B0/1469/category/201/display/1/?      "
   ]
  },
  {
   "cell_type": "code",
   "execution_count": null,
   "metadata": {},
   "outputs": [],
   "source": [
    "http://review4.cre.ma/perfumegraphy.com/products/reviews?product_code=1469&iframe_id=crema-product-reviews-&widget_id=32&widget_style=&app=0&parent_url=http%3A%2F%2Fperfumegraphy.com%2Fproduct%2F%25EA%25B5%25AC%25EC%25B0%258C-%25EB%25B8%2594%25EB%25A3%25B8-%25EC%2598%25A4-%25EB%2593%259C-%25ED%258D%25BC%25ED%2593%25B8-3050100ml-%25ED%2585%258C%25EC%258A%25A4%25ED%2584%25B0%2F1469%2F&nonmember_token=&secure_device_token=V27fe46a9beacd9408382a8c33619aac056623c68ae3238745492068dceac51019&iframe=1"
   ]
  },
  {
   "cell_type": "code",
   "execution_count": null,
   "metadata": {},
   "outputs": [],
   "source": [
    "i = 1\n",
    "while True:\n",
    "    url='http://review4.cre.ma/perfumegraphy.com/products/reviews?app=0&iframe=1&iframe_id=crema-product-reviews-1&page={}&parent_url=https%3A%2F%2Fperfumegraphy.com%2Fproduct%2F%25EA%25B5%25AC%25EC%25B0%258C-%25EB%25B8%2594%25EB%25A3%25B8-%25EC%2598%25A4-%25EB%2593%259C-%25ED%258D%25BC%25ED%2593%25B8-3050100ml-%25ED%2585%258C%25EC%258A%25A4%25ED%2584%25B0%2F1469%2Fcategory%2F201%2Fdisplay%2F1%2F&product_code=1469&secure_device_token=V281c8ef9fe71647c61b7e5908c3e2cd131479b904aa9876805c46f46e9cb0b841&widget_env=100&widget_id=32&widget_style='.format(i)   \n",
    "    headers={'User-Agent': 'Mozilla/5.0 (Windows NT 10.0; Win64; x64) AppleWebKit/537.36 (KHTML, like Gecko) Chrome/89.0.4389.114 Safari/537.36'}\n",
    "    res = requests.get(url,headers=headers)\n",
    "    src = res.content.strip()\n",
    "    htmls = bsp(src, 'html.parser')\n",
    "    time.sleep(1)\n",
    "    review_list=htmls.find_all(attrs={'class':'products_reviews_board_review__message'})\n",
    "    #print(review_list)\n",
    "    for review in review_list:\n",
    "        review_ = review.select('div.products_reviews_board_review__message_expanded')[0].text.strip()\n",
    "        review1 = re.sub('\\([^)]*\\)','',review_)\n",
    "        if len(review.select('div.review_options > div.review_option')) == 3:\n",
    "            if review.select('div.review_options > div.review_option > div.review_option__title')[0].text == '연령대':\n",
    "                age = review.select('div.review_options > div.review_option > div.review_option__content')[0].text\n",
    "                gender = review.select('div.review_options > div.review_option > div.review_option__content')[1].text\n",
    "        elif len(review.select('div.review_options > div.review_option')) == 2:\n",
    "            if review.select('div.review_options > div.review_option > div.review_option__title')[0].text == '연령대':\n",
    "                age = review.select('div.review_options > div.review_option > div.review_option__content')[0].text\n",
    "                if review.select('div.review_options > div.review_option > div.review_option__title')[1].text == '성별':\n",
    "                    gender = review.select('div.review_options > div.review_option > div.review_option__content')[1].text\n",
    "                else:\n",
    "                    gender = ''\n",
    "            elif review.select('div.review_options > div.review_option > div.review_option__title')[0].text == '성별':\n",
    "                gender = review.select('div.review_options > div.review_option > div.review_option__content')[0].text\n",
    "                age = ''    \n",
    "        elif len(review.select('div.review_options > div.review_option')) == 1:\n",
    "            if review.select('div.review_options > div.review_option > div.review_option__title')[0].text == '연령대':\n",
    "                age = review.select('div.review_options > div.review_option > div.review_option__content')[0].text\n",
    "                gender = ''\n",
    "            elif review.select('div.review_options > div.review_option > div.review_option__title')[0].text == '성별':\n",
    "                gender = review.select('div.review_options > div.review_option > div.review_option__content')[0].text\n",
    "                age = ''\n",
    "            else :\n",
    "                age = ''\n",
    "                gender = ''       \n",
    "        else:\n",
    "            age = ''\n",
    "            gender = ''  \n",
    "        print('구찌')\n",
    "        print(age)\n",
    "        print(gender)\n",
    "        print(review1)\n",
    "        time.sleep(1)\n",
    "    if htmls.select('a.pagination__button'):\n",
    "        print(i)\n",
    "        i+=1\n",
    "    else :\n",
    "        break"
   ]
  },
  {
   "cell_type": "code",
   "execution_count": null,
   "metadata": {},
   "outputs": [],
   "source": [
    "i = 1\n",
    "while True:\n",
    "    perurls = src.select('li.xans-record- > div')\n",
    "    for perurl in perurls:\n",
    "        urls = perurl.select('div.prdImg > a')[0]\n",
    "        homepage = urls['href']\n",
    "        print('https://perfumegraphy.com'+homepage)\n",
    "        print('#'*100)\n",
    "        for url in \n",
    "    url='http://review4.cre.ma/perfumegraphy.com/products/reviews?app=0&iframe=1&iframe_id=crema-product-reviews-1&page={}&parent_url=https%3A%2F%2Fperfumegraphy.com%2Fproduct%2F%25EA%25B5%25AC%25EC%25B0%258C-%25EB%25B8%2594%25EB%25A3%25B8-%25EC%2598%25A4-%25EB%2593%259C-%25ED%258D%25BC%25ED%2593%25B8-3050100ml-%25ED%2585%258C%25EC%258A%25A4%25ED%2584%25B0%2F1469%2Fcategory%2F201%2Fdisplay%2F1%2F&product_code=1469&secure_device_token=V281c8ef9fe71647c61b7e5908c3e2cd131479b904aa9876805c46f46e9cb0b841&widget_env=100&widget_id=32&widget_style='.format(i)   \n",
    "    headers={'User-Agent': 'Mozilla/5.0 (Windows NT 10.0; Win64; x64) AppleWebKit/537.36 (KHTML, like Gecko) Chrome/89.0.4389.114 Safari/537.36'}\n",
    "    res = requests.get(url,headers=headers)\n",
    "    src = res.content.strip()\n",
    "    htmls = bsp(src, 'html.parser')\n",
    "    time.sleep(1)\n",
    "    review_all = htmls.find_all(attrs={'class':'review products_reviews_board__tr'})\n",
    "    #print(review_all)\n",
    "    #print('-'*100)\n",
    "    for review2 in review_all:\n",
    "        scores = review2.select('span.star')\n",
    "        #print(len(scores))\n",
    "        review_ = review2.select('div.products_reviews_board_review__message_expanded')[0].text.strip()\n",
    "        #print(review_)\n",
    "        review1 = re.sub('\\([^)]*\\)','',review_)\n",
    "        #print(review1)\n",
    "        if len(review2.select('div.review_options > div.review_option')) == 3:\n",
    "            #print(review2.select('div.review_options > div.review_option'))\n",
    "            #print(review2.select('div.review_option__title'))\n",
    "            if review2.select('div.review_options > div.review_option > div.review_option__title')[0].text == '연령대':\n",
    "                age = review2.select('div.review_options > div.review_option > div.review_option__content')[0].text\n",
    "                #print(age)\n",
    "                gender = review2.select('div.review_options > div.review_option > div.review_option__content')[1].text\n",
    "                #print(age,gender)\n",
    "        elif len(review2.select('div.review_options > div.review_option')) == 2:\n",
    "            if review2.select('div.review_options > div.review_option > div.review_option__title')[0].text == '연령대':  \n",
    "                age = review2.select('div.review_options > div.review_option > div.review_option__content')[0].text\n",
    "                #print(age)\n",
    "                if review2.select('div.review_options > div.review_option > div.review_option__title')[1].text == '성별':\n",
    "                    gender = review2.select('div.review_options > div.review_option > div.review_option__content')[1].text\n",
    "                else:\n",
    "                    gender = ''\n",
    "            elif review2.select('div.review_options > div.review_option > div.review_option__title')[0].text == '성별':\n",
    "                gender = review2.select('div.review_options > div.review_option > div.review_option__content')[1].text\n",
    "                age = ''    \n",
    "        elif len(review2.select('div.review_options > div.review_option')) == 1:\n",
    "            if review2.select('div.review_options > div.review_option > div.review_option__title')[0].text == '연령대':\n",
    "                age = review2.select('div.review_options > div.review_option > div.review_option__content')[0].text\n",
    "                gender = ''\n",
    "            elif review2.select('div.review_options > div.review_option > div.review_option__title')[0].text == '성별':\n",
    "                gender = review2.select('div.review_options > div.review_option > div.review_option__content')[0].text\n",
    "                age = ''\n",
    "            else :\n",
    "                age = ''\n",
    "                gender = ''       \n",
    "        else:\n",
    "            age = ''\n",
    "            gender = ''  \n",
    "        print('구찌')\n",
    "        print(age)\n",
    "        print(gender)\n",
    "        print(review1)\n",
    "        print(len(scores))\n",
    "        print('*'*50)\n",
    "        time.sleep(1)\n",
    "    if htmls.select('a.pagination__button'):\n",
    "        print(i)\n",
    "        i+=1\n",
    "    else :\n",
    "        break"
   ]
  },
  {
   "cell_type": "code",
   "execution_count": null,
   "metadata": {},
   "outputs": [],
   "source": [
    "def getData(d): # 데이터베이스에 데이터 집어넣기\n",
    "    dbname='perfume.db'\n",
    "    with sqlite3.connect(dbname) as conn:\n",
    "        cursor=conn.cursor()\n",
    "        sql='INSERT INTO perfumegra (pbrand_name,pname,page,pgender,pgrade,pcoment) VALUES(?,?,?,?,?,?,? )' \n",
    "        res=cursor.execute(sql,d)\n",
    "        print('.',end='')"
   ]
  }
 ],
 "metadata": {
  "kernelspec": {
   "display_name": "Python 3",
   "language": "python",
   "name": "python3"
  },
  "language_info": {
   "codemirror_mode": {
    "name": "ipython",
    "version": 3
   },
   "file_extension": ".py",
   "mimetype": "text/x-python",
   "name": "python",
   "nbconvert_exporter": "python",
   "pygments_lexer": "ipython3",
   "version": "3.8.5"
  },
  "toc": {
   "base_numbering": 1,
   "nav_menu": {},
   "number_sections": true,
   "sideBar": true,
   "skip_h1_title": false,
   "title_cell": "Table of Contents",
   "title_sidebar": "Contents",
   "toc_cell": false,
   "toc_position": {},
   "toc_section_display": true,
   "toc_window_display": false
  },
  "varInspector": {
   "cols": {
    "lenName": 16,
    "lenType": 16,
    "lenVar": 40
   },
   "kernels_config": {
    "python": {
     "delete_cmd_postfix": "",
     "delete_cmd_prefix": "del ",
     "library": "var_list.py",
     "varRefreshCmd": "print(var_dic_list())"
    },
    "r": {
     "delete_cmd_postfix": ") ",
     "delete_cmd_prefix": "rm(",
     "library": "var_list.r",
     "varRefreshCmd": "cat(var_dic_list()) "
    }
   },
   "types_to_exclude": [
    "module",
    "function",
    "builtin_function_or_method",
    "instance",
    "_Feature"
   ],
   "window_display": false
  }
 },
 "nbformat": 4,
 "nbformat_minor": 4
}
