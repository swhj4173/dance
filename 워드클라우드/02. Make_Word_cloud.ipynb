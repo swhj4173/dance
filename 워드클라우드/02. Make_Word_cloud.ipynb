{
 "cells": [
  {
   "cell_type": "code",
   "execution_count": 2,
   "metadata": {},
   "outputs": [
    {
     "name": "stdout",
     "output_type": "stream",
     "text": [
      "Collecting eunjeon\n",
      "  Using cached eunjeon-0.4.0.tar.gz (34.7 MB)\n",
      "Building wheels for collected packages: eunjeon\n",
      "  Building wheel for eunjeon (setup.py): started\n",
      "  Building wheel for eunjeon (setup.py): finished with status 'error'\n",
      "  Running setup.py clean for eunjeon\n",
      "Failed to build eunjeon\n",
      "Installing collected packages: eunjeon\n",
      "    Running setup.py install for eunjeon: started\n",
      "    Running setup.py install for eunjeon: finished with status 'error'\n"
     ]
    },
    {
     "name": "stderr",
     "output_type": "stream",
     "text": [
      "  ERROR: Command errored out with exit status 1:\n",
      "   command: 'C:\\ProgramData\\Anaconda3\\python.exe' -u -c 'import sys, setuptools, tokenize; sys.argv[0] = '\"'\"'C:\\\\Users\\\\717\\\\AppData\\\\Local\\\\Temp\\\\pip-install-imhfff2o\\\\eunjeon\\\\setup.py'\"'\"'; __file__='\"'\"'C:\\\\Users\\\\717\\\\AppData\\\\Local\\\\Temp\\\\pip-install-imhfff2o\\\\eunjeon\\\\setup.py'\"'\"';f=getattr(tokenize, '\"'\"'open'\"'\"', open)(__file__);code=f.read().replace('\"'\"'\\r\\n'\"'\"', '\"'\"'\\n'\"'\"');f.close();exec(compile(code, __file__, '\"'\"'exec'\"'\"'))' bdist_wheel -d 'C:\\Users\\717\\AppData\\Local\\Temp\\pip-wheel-jpw449pj'\n",
      "       cwd: C:\\Users\\717\\AppData\\Local\\Temp\\pip-install-imhfff2o\\eunjeon\\\n",
      "  Complete output (50 lines):\n",
      "  running bdist_wheel\n",
      "  running build\n",
      "  running build_py\n",
      "  creating build\n",
      "  creating build\\lib.win-amd64-3.8\n",
      "  creating build\\lib.win-amd64-3.8\\eunjeon\n",
      "  copying eunjeon\\constants.py -> build\\lib.win-amd64-3.8\\eunjeon\n",
      "  copying eunjeon\\mecab.py -> build\\lib.win-amd64-3.8\\eunjeon\n",
      "  copying eunjeon\\_mecab.py -> build\\lib.win-amd64-3.8\\eunjeon\n",
      "  copying eunjeon\\__init__.py -> build\\lib.win-amd64-3.8\\eunjeon\n",
      "  creating build\\lib.win-amd64-3.8\\eunjeon\\data\n",
      "  copying eunjeon\\data\\char.bin -> build\\lib.win-amd64-3.8\\eunjeon\\data\n",
      "  copying eunjeon\\data\\matrix.bin -> build\\lib.win-amd64-3.8\\eunjeon\\data\n",
      "  copying eunjeon\\data\\model.bin -> build\\lib.win-amd64-3.8\\eunjeon\\data\n",
      "  copying eunjeon\\data\\char.def -> build\\lib.win-amd64-3.8\\eunjeon\\data\n",
      "  copying eunjeon\\data\\feature.def -> build\\lib.win-amd64-3.8\\eunjeon\\data\n",
      "  copying eunjeon\\data\\left-id.def -> build\\lib.win-amd64-3.8\\eunjeon\\data\n",
      "  copying eunjeon\\data\\pos-id.def -> build\\lib.win-amd64-3.8\\eunjeon\\data\n",
      "  copying eunjeon\\data\\rewrite.def -> build\\lib.win-amd64-3.8\\eunjeon\\data\n",
      "  copying eunjeon\\data\\right-id.def -> build\\lib.win-amd64-3.8\\eunjeon\\data\n",
      "  copying eunjeon\\data\\unk.def -> build\\lib.win-amd64-3.8\\eunjeon\\data\n",
      "  copying eunjeon\\data\\sys.dic -> build\\lib.win-amd64-3.8\\eunjeon\\data\n",
      "  copying eunjeon\\data\\unk.dic -> build\\lib.win-amd64-3.8\\eunjeon\\data\n",
      "  copying eunjeon\\data\\dicrc -> build\\lib.win-amd64-3.8\\eunjeon\\data\n",
      "  copying eunjeon\\data\\mecabrc -> build\\lib.win-amd64-3.8\\eunjeon\\data\n",
      "  copying eunjeon\\data\\libmecab.dll -> build\\lib.win-amd64-3.8\\eunjeon\\data\n",
      "  copying eunjeon\\data\\mecab-cost-train.exe -> build\\lib.win-amd64-3.8\\eunjeon\\data\n",
      "  copying eunjeon\\data\\mecab-dict-gen.exe -> build\\lib.win-amd64-3.8\\eunjeon\\data\n",
      "  copying eunjeon\\data\\mecab-dict-index.exe -> build\\lib.win-amd64-3.8\\eunjeon\\data\n",
      "  copying eunjeon\\data\\mecab-system-eval.exe -> build\\lib.win-amd64-3.8\\eunjeon\\data\n",
      "  copying eunjeon\\data\\mecab-test-gen.exe -> build\\lib.win-amd64-3.8\\eunjeon\\data\n",
      "  copying eunjeon\\data\\mecab.exe -> build\\lib.win-amd64-3.8\\eunjeon\\data\n",
      "  creating build\\lib.win-amd64-3.8\\eunjeon\\data\\sdk\n",
      "  copying eunjeon\\data\\sdk\\libmecab.lib -> build\\lib.win-amd64-3.8\\eunjeon\\data\\sdk\n",
      "  copying eunjeon\\data\\sdk\\mecab-cost-train.lib -> build\\lib.win-amd64-3.8\\eunjeon\\data\\sdk\n",
      "  copying eunjeon\\data\\sdk\\mecab-dict-gen.lib -> build\\lib.win-amd64-3.8\\eunjeon\\data\\sdk\n",
      "  copying eunjeon\\data\\sdk\\mecab-dict-index.lib -> build\\lib.win-amd64-3.8\\eunjeon\\data\\sdk\n",
      "  copying eunjeon\\data\\sdk\\mecab-system-eval.lib -> build\\lib.win-amd64-3.8\\eunjeon\\data\\sdk\n",
      "  copying eunjeon\\data\\sdk\\mecab-test-gen.lib -> build\\lib.win-amd64-3.8\\eunjeon\\data\\sdk\n",
      "  copying eunjeon\\data\\sdk\\mecab.h -> build\\lib.win-amd64-3.8\\eunjeon\\data\\sdk\n",
      "  copying eunjeon\\data\\sdk\\mecab.lib -> build\\lib.win-amd64-3.8\\eunjeon\\data\\sdk\n",
      "  running build_ext\n",
      "  building '_MeCab' extension\n",
      "  creating build\\temp.win-amd64-3.8\n",
      "  creating build\\temp.win-amd64-3.8\\Release\n",
      "  creating build\\temp.win-amd64-3.8\\Release\\eunjeon\n",
      "  C:\\Program Files (x86)\\Microsoft Visual Studio\\2019\\Community\\VC\\Tools\\MSVC\\14.28.29910\\bin\\HostX86\\x64\\cl.exe /c /nologo /Ox /W3 /GL /DNDEBUG /MD -Ieunjeon/data/sdk -IC:\\ProgramData\\Anaconda3\\include -IC:\\ProgramData\\Anaconda3\\include \"-IC:\\Program Files (x86)\\Microsoft Visual Studio\\2019\\Community\\VC\\Tools\\MSVC\\14.28.29910\\ATLMFC\\include\" \"-IC:\\Program Files (x86)\\Microsoft Visual Studio\\2019\\Community\\VC\\Tools\\MSVC\\14.28.29910\\include\" /EHsc /Tpeunjeon/MeCab_wrap.cxx /Fobuild\\temp.win-amd64-3.8\\Release\\eunjeon/MeCab_wrap.obj\n",
      "  MeCab_wrap.cxx\n",
      "  C:\\ProgramData\\Anaconda3\\include\\pyconfig.h(59): fatal error C1083: 포함 파일을 열 수 없습니다. 'io.h': No such file or directory\n",
      "  error: command 'C:\\\\Program Files (x86)\\\\Microsoft Visual Studio\\\\2019\\\\Community\\\\VC\\\\Tools\\\\MSVC\\\\14.28.29910\\\\bin\\\\HostX86\\\\x64\\\\cl.exe' failed with exit status 2\n",
      "  ----------------------------------------\n",
      "  ERROR: Failed building wheel for eunjeon\n",
      "    ERROR: Command errored out with exit status 1:\n",
      "     command: 'C:\\ProgramData\\Anaconda3\\python.exe' -u -c 'import sys, setuptools, tokenize; sys.argv[0] = '\"'\"'C:\\\\Users\\\\717\\\\AppData\\\\Local\\\\Temp\\\\pip-install-imhfff2o\\\\eunjeon\\\\setup.py'\"'\"'; __file__='\"'\"'C:\\\\Users\\\\717\\\\AppData\\\\Local\\\\Temp\\\\pip-install-imhfff2o\\\\eunjeon\\\\setup.py'\"'\"';f=getattr(tokenize, '\"'\"'open'\"'\"', open)(__file__);code=f.read().replace('\"'\"'\\r\\n'\"'\"', '\"'\"'\\n'\"'\"');f.close();exec(compile(code, __file__, '\"'\"'exec'\"'\"'))' install --record 'C:\\Users\\717\\AppData\\Local\\Temp\\pip-record-oab0zbjv\\install-record.txt' --single-version-externally-managed --compile --install-headers 'C:\\ProgramData\\Anaconda3\\Include\\eunjeon'\n",
      "         cwd: C:\\Users\\717\\AppData\\Local\\Temp\\pip-install-imhfff2o\\eunjeon\\\n",
      "    Complete output (50 lines):\n",
      "    running install\n",
      "    running build\n",
      "    running build_py\n",
      "    creating build\n",
      "    creating build\\lib.win-amd64-3.8\n",
      "    creating build\\lib.win-amd64-3.8\\eunjeon\n",
      "    copying eunjeon\\constants.py -> build\\lib.win-amd64-3.8\\eunjeon\n",
      "    copying eunjeon\\mecab.py -> build\\lib.win-amd64-3.8\\eunjeon\n",
      "    copying eunjeon\\_mecab.py -> build\\lib.win-amd64-3.8\\eunjeon\n",
      "    copying eunjeon\\__init__.py -> build\\lib.win-amd64-3.8\\eunjeon\n",
      "    creating build\\lib.win-amd64-3.8\\eunjeon\\data\n",
      "    copying eunjeon\\data\\char.bin -> build\\lib.win-amd64-3.8\\eunjeon\\data\n",
      "    copying eunjeon\\data\\matrix.bin -> build\\lib.win-amd64-3.8\\eunjeon\\data\n",
      "    copying eunjeon\\data\\model.bin -> build\\lib.win-amd64-3.8\\eunjeon\\data\n",
      "    copying eunjeon\\data\\char.def -> build\\lib.win-amd64-3.8\\eunjeon\\data\n",
      "    copying eunjeon\\data\\feature.def -> build\\lib.win-amd64-3.8\\eunjeon\\data\n",
      "    copying eunjeon\\data\\left-id.def -> build\\lib.win-amd64-3.8\\eunjeon\\data\n",
      "    copying eunjeon\\data\\pos-id.def -> build\\lib.win-amd64-3.8\\eunjeon\\data\n",
      "    copying eunjeon\\data\\rewrite.def -> build\\lib.win-amd64-3.8\\eunjeon\\data\n",
      "    copying eunjeon\\data\\right-id.def -> build\\lib.win-amd64-3.8\\eunjeon\\data\n",
      "    copying eunjeon\\data\\unk.def -> build\\lib.win-amd64-3.8\\eunjeon\\data\n",
      "    copying eunjeon\\data\\sys.dic -> build\\lib.win-amd64-3.8\\eunjeon\\data\n",
      "    copying eunjeon\\data\\unk.dic -> build\\lib.win-amd64-3.8\\eunjeon\\data\n",
      "    copying eunjeon\\data\\dicrc -> build\\lib.win-amd64-3.8\\eunjeon\\data\n",
      "    copying eunjeon\\data\\mecabrc -> build\\lib.win-amd64-3.8\\eunjeon\\data\n",
      "    copying eunjeon\\data\\libmecab.dll -> build\\lib.win-amd64-3.8\\eunjeon\\data\n",
      "    copying eunjeon\\data\\mecab-cost-train.exe -> build\\lib.win-amd64-3.8\\eunjeon\\data\n",
      "    copying eunjeon\\data\\mecab-dict-gen.exe -> build\\lib.win-amd64-3.8\\eunjeon\\data\n",
      "    copying eunjeon\\data\\mecab-dict-index.exe -> build\\lib.win-amd64-3.8\\eunjeon\\data\n",
      "    copying eunjeon\\data\\mecab-system-eval.exe -> build\\lib.win-amd64-3.8\\eunjeon\\data\n",
      "    copying eunjeon\\data\\mecab-test-gen.exe -> build\\lib.win-amd64-3.8\\eunjeon\\data\n",
      "    copying eunjeon\\data\\mecab.exe -> build\\lib.win-amd64-3.8\\eunjeon\\data\n",
      "    creating build\\lib.win-amd64-3.8\\eunjeon\\data\\sdk\n",
      "    copying eunjeon\\data\\sdk\\libmecab.lib -> build\\lib.win-amd64-3.8\\eunjeon\\data\\sdk\n",
      "    copying eunjeon\\data\\sdk\\mecab-cost-train.lib -> build\\lib.win-amd64-3.8\\eunjeon\\data\\sdk\n",
      "    copying eunjeon\\data\\sdk\\mecab-dict-gen.lib -> build\\lib.win-amd64-3.8\\eunjeon\\data\\sdk\n",
      "    copying eunjeon\\data\\sdk\\mecab-dict-index.lib -> build\\lib.win-amd64-3.8\\eunjeon\\data\\sdk\n",
      "    copying eunjeon\\data\\sdk\\mecab-system-eval.lib -> build\\lib.win-amd64-3.8\\eunjeon\\data\\sdk\n",
      "    copying eunjeon\\data\\sdk\\mecab-test-gen.lib -> build\\lib.win-amd64-3.8\\eunjeon\\data\\sdk\n",
      "    copying eunjeon\\data\\sdk\\mecab.h -> build\\lib.win-amd64-3.8\\eunjeon\\data\\sdk\n",
      "    copying eunjeon\\data\\sdk\\mecab.lib -> build\\lib.win-amd64-3.8\\eunjeon\\data\\sdk\n",
      "    running build_ext\n",
      "    building '_MeCab' extension\n",
      "    creating build\\temp.win-amd64-3.8\n",
      "    creating build\\temp.win-amd64-3.8\\Release\n",
      "    creating build\\temp.win-amd64-3.8\\Release\\eunjeon\n",
      "    C:\\Program Files (x86)\\Microsoft Visual Studio\\2019\\Community\\VC\\Tools\\MSVC\\14.28.29910\\bin\\HostX86\\x64\\cl.exe /c /nologo /Ox /W3 /GL /DNDEBUG /MD -Ieunjeon/data/sdk -IC:\\ProgramData\\Anaconda3\\include -IC:\\ProgramData\\Anaconda3\\include \"-IC:\\Program Files (x86)\\Microsoft Visual Studio\\2019\\Community\\VC\\Tools\\MSVC\\14.28.29910\\ATLMFC\\include\" \"-IC:\\Program Files (x86)\\Microsoft Visual Studio\\2019\\Community\\VC\\Tools\\MSVC\\14.28.29910\\include\" /EHsc /Tpeunjeon/MeCab_wrap.cxx /Fobuild\\temp.win-amd64-3.8\\Release\\eunjeon/MeCab_wrap.obj\n",
      "    MeCab_wrap.cxx\n",
      "    C:\\ProgramData\\Anaconda3\\include\\pyconfig.h(59): fatal error C1083: 포함 파일을 열 수 없습니다. 'io.h': No such file or directory\n",
      "    error: command 'C:\\\\Program Files (x86)\\\\Microsoft Visual Studio\\\\2019\\\\Community\\\\VC\\\\Tools\\\\MSVC\\\\14.28.29910\\\\bin\\\\HostX86\\\\x64\\\\cl.exe' failed with exit status 2\n",
      "    ----------------------------------------\n",
      "ERROR: Command errored out with exit status 1: 'C:\\ProgramData\\Anaconda3\\python.exe' -u -c 'import sys, setuptools, tokenize; sys.argv[0] = '\"'\"'C:\\\\Users\\\\717\\\\AppData\\\\Local\\\\Temp\\\\pip-install-imhfff2o\\\\eunjeon\\\\setup.py'\"'\"'; __file__='\"'\"'C:\\\\Users\\\\717\\\\AppData\\\\Local\\\\Temp\\\\pip-install-imhfff2o\\\\eunjeon\\\\setup.py'\"'\"';f=getattr(tokenize, '\"'\"'open'\"'\"', open)(__file__);code=f.read().replace('\"'\"'\\r\\n'\"'\"', '\"'\"'\\n'\"'\"');f.close();exec(compile(code, __file__, '\"'\"'exec'\"'\"'))' install --record 'C:\\Users\\717\\AppData\\Local\\Temp\\pip-record-oab0zbjv\\install-record.txt' --single-version-externally-managed --compile --install-headers 'C:\\ProgramData\\Anaconda3\\Include\\eunjeon' Check the logs for full command output.\n"
     ]
    }
   ],
   "source": [
    "!pip install eunjeon"
   ]
  },
  {
   "cell_type": "code",
   "execution_count": 1,
   "metadata": {},
   "outputs": [
    {
     "ename": "ModuleNotFoundError",
     "evalue": "No module named 'eunjeon'",
     "output_type": "error",
     "traceback": [
      "\u001b[1;31m---------------------------------------------------------------------------\u001b[0m",
      "\u001b[1;31mModuleNotFoundError\u001b[0m                       Traceback (most recent call last)",
      "\u001b[1;32m<ipython-input-1-3107eb17e0d7>\u001b[0m in \u001b[0;36m<module>\u001b[1;34m\u001b[0m\n\u001b[0;32m      7\u001b[0m \u001b[1;32mimport\u001b[0m \u001b[0mcsv\u001b[0m\u001b[1;33m\u001b[0m\u001b[1;33m\u001b[0m\u001b[0m\n\u001b[0;32m      8\u001b[0m \u001b[1;32mfrom\u001b[0m \u001b[0mkonlpy\u001b[0m\u001b[1;33m.\u001b[0m\u001b[0mtag\u001b[0m \u001b[1;32mimport\u001b[0m \u001b[0mKkma\u001b[0m\u001b[1;33m,\u001b[0m \u001b[0mHannanum\u001b[0m\u001b[1;33m\u001b[0m\u001b[1;33m\u001b[0m\u001b[0m\n\u001b[1;32m----> 9\u001b[1;33m \u001b[1;32mfrom\u001b[0m \u001b[0meunjeon\u001b[0m \u001b[1;32mimport\u001b[0m \u001b[0mMecab\u001b[0m\u001b[1;33m\u001b[0m\u001b[1;33m\u001b[0m\u001b[0m\n\u001b[0m\u001b[0;32m     10\u001b[0m \u001b[1;31m#import Mecab\u001b[0m\u001b[1;33m\u001b[0m\u001b[1;33m\u001b[0m\u001b[1;33m\u001b[0m\u001b[0m\n\u001b[0;32m     11\u001b[0m \u001b[1;32mimport\u001b[0m \u001b[0mwordcloud\u001b[0m\u001b[1;33m\u001b[0m\u001b[1;33m\u001b[0m\u001b[0m\n",
      "\u001b[1;31mModuleNotFoundError\u001b[0m: No module named 'eunjeon'"
     ]
    }
   ],
   "source": [
    "import numpy as np\n",
    "import pandas as pd\n",
    "import matplotlib\n",
    "import matplotlib.pyplot as plt\n",
    "import re\n",
    "import sys\n",
    "import csv\n",
    "from konlpy.tag import Kkma, Hannanum \n",
    "from eunjeon import Mecab\n",
    "#import Mecab\n",
    "import wordcloud\n",
    "from wordcloud import WordCloud, STOPWORDS, ImageColorGenerator\n",
    "import matplotlib.pyplot as plt\n",
    "from os import path\n",
    "#import os\n",
    "from collections import Counter\n",
    "from PIL import Image"
   ]
  },
  {
   "cell_type": "code",
   "execution_count": null,
   "metadata": {},
   "outputs": [],
   "source": [
    "def total_word_cloud(csv):\n",
    "    tf = pd.read_csv(f\"{csv}\",index_col=0)\n",
    "    text = tf['key']\n",
    "#     text.split()\n",
    "    sejong_map = np.array(Image.open('./Data/sejong_map.jpg'))\n",
    "    #sejong_logo = np.array(Image.open('./Data/sejong_logo.jpg'))\n",
    "    noun_text = ''\n",
    "    FONT_PATH = 'C:/Windows/Fonts/malgun.ttf'\n",
    "    for word in text:\n",
    "        noun_text = noun_text + word\n",
    "    # print(noun_text)\n",
    "    wordcloud = WordCloud(max_font_size=40,max_words=2000,\n",
    "                          font_path=FONT_PATH,mask=sejong_logo,background_color='white',\n",
    "                          width=1200,height=800).generate(\"\".join(noun_text))\n",
    "    plt.figure(figsize=(10,10))\n",
    "    plt.imshow(wordcloud,interpolation='bilinear')\n",
    "    plt.tight_layout(pad=0)\n",
    "    plt.axis(\"off\")\n",
    "    plt.show()"
   ]
  },
  {
   "cell_type": "markdown",
   "metadata": {},
   "source": [
    "* 불필요한 단어를 삭제하는 단어삭제 함수 생성"
   ]
  },
  {
   "cell_type": "code",
   "execution_count": null,
   "metadata": {},
   "outputs": [],
   "source": [
    "def delkey(text):\n",
    "    del(dictpos[text])\n",
    "    sres = sorted(dictpos.items(), key=lambda x:x[1], reverse=True)\n",
    "    return sres"
   ]
  },
  {
   "cell_type": "code",
   "execution_count": null,
   "metadata": {},
   "outputs": [],
   "source": [
    "# a2015 = pd.read_csv('./Data/sejong_text_2015.csv')\n",
    "# a2016 = pd.read_csv('./Data/sejong_text_2016.csv')\n",
    "# a2017 = pd.read_csv('./Data/sejong_text_2017.csv')\n",
    "# a2018 = pd.read_csv('./Data/sejong_text_2018.csv')\n",
    "# a2019 = pd.read_csv('./Data/sejong_text_2019.csv')\n",
    "a2020 = pd.read_csv('./Data/sejong_text_2020.csv')\n",
    "a2021 = pd.read_csv('./Data/sejong_text_2021.csv')\n",
    "\n",
    "df = pd.concat([a2020,a2021],axis=0)\n",
    "df = df.reset_index(drop='index')"
   ]
  },
  {
   "cell_type": "code",
   "execution_count": null,
   "metadata": {},
   "outputs": [],
   "source": [
    "%%time\n",
    "\n",
    "mecab = Mecab()\n",
    "p_list = []\n",
    "for i in range(len(df)):\n",
    "    p = mecab.pos(str(df.iloc[i]))\n",
    "    p_list.append(p)\n",
    "    \n",
    "p_list1 = sum(p_list,[])\n",
    "# p_list1"
   ]
  },
  {
   "cell_type": "code",
   "execution_count": null,
   "metadata": {
    "jupyter": {
     "outputs_hidden": true
    }
   },
   "outputs": [],
   "source": [
    "dictpos={}\n",
    "# check = ['NNG', 'NNP', 'NNB', 'NNM', 'VV', 'VA', 'VXV', 'VXA'] # kkma\n",
    "check = ['NNG','NNP']\n",
    "\n",
    "for w, pos in p_list1:\n",
    "    if pos in check:\n",
    "        if (w in dictpos.keys()):\n",
    "            dictpos[w] += 1\n",
    "        else:\n",
    "            dictpos[w] = 1\n",
    "dictpos"
   ]
  },
  {
   "cell_type": "code",
   "execution_count": null,
   "metadata": {
    "jupyter": {
     "outputs_hidden": true
    }
   },
   "outputs": [],
   "source": [
    "sres = sorted(dictpos.items(), key=lambda x:x[1], reverse=True)\n",
    "sres"
   ]
  },
  {
   "cell_type": "code",
   "execution_count": null,
   "metadata": {
    "jupyter": {
     "outputs_hidden": true
    }
   },
   "outputs": [],
   "source": [
    "delkey('매경')"
   ]
  },
  {
   "cell_type": "code",
   "execution_count": null,
   "metadata": {},
   "outputs": [],
   "source": [
    "data = pd.DataFrame.from_dict(dictpos,orient='index').rename(columns={0:'counts'})\n",
    "data = data.reset_index()\n",
    "data.columns=['key','counts']\n",
    "data['y'] = 'none'\n",
    "# data"
   ]
  },
  {
   "cell_type": "code",
   "execution_count": null,
   "metadata": {},
   "outputs": [],
   "source": [
    "data1 = data.groupby(by='y',as_index=True).agg(lambda x : ','.join(x))\n",
    "# data1"
   ]
  },
  {
   "cell_type": "code",
   "execution_count": null,
   "metadata": {},
   "outputs": [],
   "source": [
    "data1.to_csv('./Data/sejong_mecab.csv')"
   ]
  },
  {
   "cell_type": "code",
   "execution_count": null,
   "metadata": {},
   "outputs": [],
   "source": [
    "total_word_cloud('./Data/sejong_mecab.csv')"
   ]
  },
  {
   "cell_type": "code",
   "execution_count": null,
   "metadata": {},
   "outputs": [],
   "source": []
  }
 ],
 "metadata": {
  "kernelspec": {
   "display_name": "Python 3",
   "language": "python",
   "name": "python3"
  },
  "language_info": {
   "codemirror_mode": {
    "name": "ipython",
    "version": 3
   },
   "file_extension": ".py",
   "mimetype": "text/x-python",
   "name": "python",
   "nbconvert_exporter": "python",
   "pygments_lexer": "ipython3",
   "version": "3.8.5"
  },
  "toc": {
   "base_numbering": 1,
   "nav_menu": {},
   "number_sections": true,
   "sideBar": true,
   "skip_h1_title": false,
   "title_cell": "Table of Contents",
   "title_sidebar": "Contents",
   "toc_cell": false,
   "toc_position": {},
   "toc_section_display": true,
   "toc_window_display": false
  },
  "varInspector": {
   "cols": {
    "lenName": 16,
    "lenType": 16,
    "lenVar": 40
   },
   "kernels_config": {
    "python": {
     "delete_cmd_postfix": "",
     "delete_cmd_prefix": "del ",
     "library": "var_list.py",
     "varRefreshCmd": "print(var_dic_list())"
    },
    "r": {
     "delete_cmd_postfix": ") ",
     "delete_cmd_prefix": "rm(",
     "library": "var_list.r",
     "varRefreshCmd": "cat(var_dic_list()) "
    }
   },
   "types_to_exclude": [
    "module",
    "function",
    "builtin_function_or_method",
    "instance",
    "_Feature"
   ],
   "window_display": false
  }
 },
 "nbformat": 4,
 "nbformat_minor": 4
}
