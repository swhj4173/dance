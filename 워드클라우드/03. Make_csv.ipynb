{
 "cells": [
  {
   "cell_type": "code",
   "execution_count": 1,
   "metadata": {},
   "outputs": [],
   "source": [
    "import pandas as pd\n",
    "import numpy as np\n",
    "import matplotlib.pyplot as plt\n",
    "from datetime import datetime\n",
    "import seaborn as sns\n",
    "from matplotlib import pyplot\n",
    "import folium\n",
    "import json\n",
    "import os\n",
    "from mapboxgl.viz import *\n",
    "from mapboxgl.utils import create_color_stops\n",
    "import platform\n",
    "from matplotlib import font_manager, rc\n",
    "\n",
    "import warnings\n",
    "warnings.filterwarnings('ignore')"
   ]
  },
  {
   "cell_type": "code",
   "execution_count": 2,
   "metadata": {},
   "outputs": [],
   "source": [
    "plt.rcParams['axes.unicode_minus'] = False\n",
    "if platform.system() == 'Darwin':\n",
    "    rc('font', family = 'AppleGothic')\n",
    "elif platform.system() == 'Windows':\n",
    "    path ='C:/Windows/Fonts/malgun.ttf'\n",
    "    font_name = font_manager.FontProperties(fname=path).get_name()\n",
    "    rc('font', family=font_name)\n",
    "else:\n",
    "    print(\"Can't find your system.\")"
   ]
  },
  {
   "cell_type": "code",
   "execution_count": 3,
   "metadata": {},
   "outputs": [],
   "source": [
    "with open('./Data/32.세종시_행정경계(읍면동).geojson',mode='rt',encoding='utf-8') as f:\n",
    "    geo = json.loads(f.read())\n",
    "    f.close()"
   ]
  },
  {
   "cell_type": "code",
   "execution_count": 4,
   "metadata": {},
   "outputs": [],
   "source": [
    "df = pd.read_csv('./Data/22.세종시_연령별_인구현황.csv', index_col='읍면동') \n",
    "# df.head()"
   ]
  },
  {
   "cell_type": "code",
   "execution_count": 5,
   "metadata": {},
   "outputs": [],
   "source": [
    "df = df.transpose()"
   ]
  },
  {
   "cell_type": "markdown",
   "metadata": {},
   "source": [
    "### 데이터 전처리 \n",
    "* 데이터를 연도별로 분리 작업 후 성별, 연령대별로 나누어 줌"
   ]
  },
  {
   "cell_type": "code",
   "execution_count": 6,
   "metadata": {},
   "outputs": [],
   "source": [
    "df_2017 = df[0:312]\n",
    "df_2018 = df[312:624]\n",
    "df_2019 = df[624:936]\n",
    "df_2020 = df[936:1248]\n",
    "# 성별별 총 거주자수로 분리"
   ]
  },
  {
   "cell_type": "code",
   "execution_count": 7,
   "metadata": {},
   "outputs": [],
   "source": [
    "df_2017.reset_index(inplace=True)\n",
    "df_2018.reset_index(inplace=True)\n",
    "df_2019.reset_index(inplace=True)\n",
    "df_2020.reset_index(inplace=True)"
   ]
  },
  {
   "cell_type": "code",
   "execution_count": 8,
   "metadata": {},
   "outputs": [],
   "source": [
    "df_2017.columns = ['month', '세종특별자치시', '조치원읍', '연기면', '연동면', '부강면', '금남면', '장군면', '연서면', '전의면',\n",
    "       '전동면', '소정면', '한솔동', '새롬동', '도담동', '아름동', '종촌동', '고운동', '소담동', '보람동',\n",
    "       '대평동', '다정동']\n",
    "df_2018.columns = ['month', '세종특별자치시', '조치원읍', '연기면', '연동면', '부강면', '금남면', '장군면', '연서면', '전의면',\n",
    "       '전동면', '소정면', '한솔동', '새롬동', '도담동', '아름동', '종촌동', '고운동', '소담동', '보람동',\n",
    "       '대평동', '다정동']\n",
    "df_2019.columns = ['month', '세종특별자치시', '조치원읍', '연기면', '연동면', '부강면', '금남면', '장군면', '연서면', '전의면',\n",
    "       '전동면', '소정면', '한솔동', '새롬동', '도담동', '아름동', '종촌동', '고운동', '소담동', '보람동',\n",
    "       '대평동', '다정동']\n",
    "df_2020.columns = ['month', '세종특별자치시', '조치원읍', '연기면', '연동면', '부강면', '금남면', '장군면', '연서면', '전의면',\n",
    "       '전동면', '소정면', '한솔동', '새롬동', '도담동', '아름동', '종촌동', '고운동', '소담동', '보람동',\n",
    "       '대평동', '다정동']"
   ]
  },
  {
   "cell_type": "code",
   "execution_count": 9,
   "metadata": {},
   "outputs": [],
   "source": [
    "df_2017_m = pd.DataFrame()\n",
    "df_2017_w = pd.DataFrame()\n",
    "\n",
    "for i in range(0,12):\n",
    "    df_2017_m = pd.concat([df_2017_m, df_2017.loc[i*26 : i*26+12]],axis=0)\n",
    "    df_2017_w = pd.concat([df_2017_w, df_2017.loc[i*26+13 : i*26+25]],axis=0)\n",
    "    df_2017_m = df_2017_m.drop(df_2017_m.index[i*11 : i*11+2]).reset_index(drop=True)\n",
    "    df_2017_w = df_2017_w.drop(df_2017_w.index[i*11 : i*11+2]).reset_index(drop=True)"
   ]
  },
  {
   "cell_type": "code",
   "execution_count": 10,
   "metadata": {},
   "outputs": [],
   "source": [
    "df_2017_m_y = pd.DataFrame()\n",
    "df_2017_w_y = pd.DataFrame()\n",
    "temp1 = pd.DataFrame()\n",
    "temp2 = pd.DataFrame()\n",
    "\n",
    "for i in range(0,11):\n",
    "    for j in range(0,12):\n",
    "        temp1 = pd.concat([temp1,df_2017_m.loc[[j*11+i]]],axis=0)\n",
    "        temp2 = pd.concat([temp2,df_2017_w.loc[[j*11+i]]],axis=0)\n",
    "        \n",
    "    df_2017_m_y = pd.concat([df_2017_m_y,pd.DataFrame(temp1[i*12:i*12+12].mean()).transpose()],axis=0)    \n",
    "    df_2017_w_y = pd.concat([df_2017_w_y,pd.DataFrame(temp2[i*12:i*12+12].mean()).transpose()],axis=0)    \n",
    "    \n",
    "df_2017_m_y.index = list(range(0,110,10))\n",
    "df_2017_w_y.index = list(range(0,110,10))"
   ]
  },
  {
   "cell_type": "code",
   "execution_count": 11,
   "metadata": {},
   "outputs": [],
   "source": [
    "df_2018_m = pd.DataFrame()\n",
    "df_2018_w = pd.DataFrame()\n",
    "\n",
    "for i in range(0,12):\n",
    "    df_2018_m = pd.concat([df_2018_m, df_2018.loc[i*26 : i*26+12]],axis=0)\n",
    "    df_2018_w = pd.concat([df_2018_w, df_2018.loc[i*26+13 : i*26+25]],axis=0)\n",
    "    df_2018_m = df_2018_m.drop(df_2018_m.index[i*11 : i*11+2]).reset_index(drop=True)\n",
    "    df_2018_w = df_2018_w.drop(df_2018_w.index[i*11 : i*11+2]).reset_index(drop=True)"
   ]
  },
  {
   "cell_type": "code",
   "execution_count": 12,
   "metadata": {},
   "outputs": [],
   "source": [
    "df_2018_m_y = pd.DataFrame()\n",
    "df_2018_w_y = pd.DataFrame()\n",
    "temp1 = pd.DataFrame()\n",
    "temp2 = pd.DataFrame()\n",
    "\n",
    "for i in range(0,11):\n",
    "    for j in range(0,12):\n",
    "        temp1 = pd.concat([temp1,df_2018_m.loc[[j*11+i]]],axis=0)\n",
    "        temp2 = pd.concat([temp2,df_2018_w.loc[[j*11+i]]],axis=0)\n",
    "        \n",
    "    df_2018_m_y = pd.concat([df_2018_m_y,pd.DataFrame(temp1[i*12:i*12+12].mean()).transpose()],axis=0)    \n",
    "    df_2018_w_y = pd.concat([df_2018_w_y,pd.DataFrame(temp2[i*12:i*12+12].mean()).transpose()],axis=0)    \n",
    "    \n",
    "df_2018_m_y.index = list(range(0,110,10))\n",
    "df_2018_w_y.index = list(range(0,110,10))"
   ]
  },
  {
   "cell_type": "code",
   "execution_count": 13,
   "metadata": {},
   "outputs": [],
   "source": [
    "df_2019_m = pd.DataFrame()\n",
    "df_2019_w = pd.DataFrame()\n",
    "\n",
    "for i in range(0,12):\n",
    "    df_2019_m = pd.concat([df_2019_m, df_2019.loc[i*26 : i*26+12]],axis=0)\n",
    "    df_2019_w = pd.concat([df_2019_w, df_2019.loc[i*26+13 : i*26+25]],axis=0)\n",
    "    df_2019_m = df_2019_m.drop(df_2019_m.index[i*11 : i*11+2]).reset_index(drop=True)\n",
    "    df_2019_w = df_2019_w.drop(df_2019_w.index[i*11 : i*11+2]).reset_index(drop=True)"
   ]
  },
  {
   "cell_type": "code",
   "execution_count": 14,
   "metadata": {},
   "outputs": [],
   "source": [
    "df_2019_m_y = pd.DataFrame()\n",
    "df_2019_w_y = pd.DataFrame()\n",
    "temp1 = pd.DataFrame()\n",
    "temp2 = pd.DataFrame()\n",
    "\n",
    "for i in range(0,11):\n",
    "    for j in range(0,12):\n",
    "        temp1 = pd.concat([temp1,df_2019_m.loc[[j*11+i]]],axis=0)\n",
    "        temp2 = pd.concat([temp2,df_2019_w.loc[[j*11+i]]],axis=0)\n",
    "        \n",
    "    df_2019_m_y = pd.concat([df_2019_m_y,pd.DataFrame(temp1[i*12:i*12+12].mean()).transpose()],axis=0)    \n",
    "    df_2019_w_y = pd.concat([df_2019_w_y,pd.DataFrame(temp2[i*12:i*12+12].mean()).transpose()],axis=0)    \n",
    "    \n",
    "df_2019_m_y.index = list(range(0,110,10))\n",
    "df_2019_w_y.index = list(range(0,110,10))"
   ]
  },
  {
   "cell_type": "code",
   "execution_count": 15,
   "metadata": {},
   "outputs": [],
   "source": [
    "df_2020_m = pd.DataFrame()\n",
    "df_2020_w = pd.DataFrame()\n",
    "\n",
    "for i in range(0,12):\n",
    "    df_2020_m = pd.concat([df_2020_m, df_2020.loc[i*26 : i*26+12]],axis=0)\n",
    "    df_2020_w = pd.concat([df_2020_w, df_2020.loc[i*26+13 : i*26+25]],axis=0)\n",
    "    df_2020_m = df_2020_m.drop(df_2020_m.index[i*11 : i*11+2]).reset_index(drop=True)\n",
    "    df_2020_w = df_2020_w.drop(df_2020_w.index[i*11 : i*11+2]).reset_index(drop=True)"
   ]
  },
  {
   "cell_type": "code",
   "execution_count": 16,
   "metadata": {},
   "outputs": [],
   "source": [
    "df_2020_m_y = pd.DataFrame()\n",
    "df_2020_w_y = pd.DataFrame()\n",
    "temp1 = pd.DataFrame()\n",
    "temp2 = pd.DataFrame()\n",
    "\n",
    "for i in range(0,11):\n",
    "    for j in range(0,12):\n",
    "        temp1 = pd.concat([temp1,df_2020_m.loc[[j*11+i]]],axis=0)\n",
    "        temp2 = pd.concat([temp2,df_2020_w.loc[[j*11+i]]],axis=0)\n",
    "        \n",
    "    df_2020_m_y = pd.concat([df_2020_m_y,pd.DataFrame(temp1[i*12:i*12+12].mean()).transpose()],axis=0)    \n",
    "    df_2020_w_y = pd.concat([df_2020_w_y,pd.DataFrame(temp2[i*12:i*12+12].mean()).transpose()],axis=0)    \n",
    "    \n",
    "df_2020_m_y.index = list(range(0,110,10))\n",
    "df_2020_w_y.index = list(range(0,110,10))"
   ]
  },
  {
   "cell_type": "markdown",
   "metadata": {},
   "source": [
    "* 분리후 정제한 데이터를 행정동별, 연도별로 합치는 처리를 통해 데이터프레임 생성"
   ]
  },
  {
   "cell_type": "code",
   "execution_count": 17,
   "metadata": {},
   "outputs": [],
   "source": [
    "df_m = pd.DataFrame()\n",
    "df_w = pd.DataFrame()\n",
    "m_list = [df_2017_m_y,df_2018_m_y,df_2019_m_y,df_2020_m_y]\n",
    "w_list = [df_2017_w_y,df_2018_w_y,df_2019_w_y,df_2020_w_y]\n",
    "\n",
    "for i in range(0,4):\n",
    "    df_m = pd.concat([df_m,pd.DataFrame(m_list[i].sum()).transpose()],axis=0)\n",
    "    df_w = pd.concat([df_w,pd.DataFrame(w_list[i].sum()).transpose()],axis=0)\n",
    "    \n",
    "df_m = df_m.reset_index()\n",
    "df_w = df_w.reset_index()\n",
    "\n",
    "df_m['index'] = range(2017,2021)\n",
    "df_w['index'] = range(2017,2021)"
   ]
  },
  {
   "cell_type": "code",
   "execution_count": 18,
   "metadata": {},
   "outputs": [],
   "source": [
    "df_m = df_m.transpose()\n",
    "df_m.columns = ['2017년','2018년','2019년','2020년']\n",
    "df_m = df_m.drop(['index','세종특별자치시'])\n",
    "df_m = df_m.reset_index()"
   ]
  },
  {
   "cell_type": "code",
   "execution_count": 19,
   "metadata": {},
   "outputs": [],
   "source": [
    "df_w = df_w.transpose()\n",
    "df_w.columns = ['2017년','2018년','2019년','2020년']\n",
    "df_w = df_w.drop(['index','세종특별자치시'])\n",
    "df_w = df_w.reset_index()"
   ]
  },
  {
   "cell_type": "code",
   "execution_count": 34,
   "metadata": {},
   "outputs": [],
   "source": [
    "df_1 = df_m + df_w\n",
    "df_1['index'] = ['조치원읍','연기면','연동면','부강면','금남면','장군면','연서면','전의면','전동면','소정면','한솔동',\n",
    "                '새롬동','도담동','아름동','종촌동','고운동','소담동','보람동','대평동','다정동']"
   ]
  },
  {
   "cell_type": "code",
   "execution_count": 36,
   "metadata": {},
   "outputs": [
    {
     "data": {
      "text/html": [
       "<div>\n",
       "<style scoped>\n",
       "    .dataframe tbody tr th:only-of-type {\n",
       "        vertical-align: middle;\n",
       "    }\n",
       "\n",
       "    .dataframe tbody tr th {\n",
       "        vertical-align: top;\n",
       "    }\n",
       "\n",
       "    .dataframe thead th {\n",
       "        text-align: right;\n",
       "    }\n",
       "</style>\n",
       "<table border=\"1\" class=\"dataframe\">\n",
       "  <thead>\n",
       "    <tr style=\"text-align: right;\">\n",
       "      <th></th>\n",
       "      <th>index</th>\n",
       "      <th>2017년</th>\n",
       "      <th>2018년</th>\n",
       "      <th>2019년</th>\n",
       "      <th>2020년</th>\n",
       "    </tr>\n",
       "  </thead>\n",
       "  <tbody>\n",
       "    <tr>\n",
       "      <th>0</th>\n",
       "      <td>조치원읍</td>\n",
       "      <td>45579.666667</td>\n",
       "      <td>44508.750000</td>\n",
       "      <td>43405.500000</td>\n",
       "      <td>42747.666667</td>\n",
       "    </tr>\n",
       "    <tr>\n",
       "      <th>1</th>\n",
       "      <td>연기면</td>\n",
       "      <td>2689.833333</td>\n",
       "      <td>2670.000000</td>\n",
       "      <td>2591.833333</td>\n",
       "      <td>2574.750000</td>\n",
       "    </tr>\n",
       "    <tr>\n",
       "      <th>2</th>\n",
       "      <td>연동면</td>\n",
       "      <td>3498.500000</td>\n",
       "      <td>3319.916667</td>\n",
       "      <td>3200.583333</td>\n",
       "      <td>3137.416667</td>\n",
       "    </tr>\n",
       "    <tr>\n",
       "      <th>3</th>\n",
       "      <td>부강면</td>\n",
       "      <td>6562.583333</td>\n",
       "      <td>6354.083333</td>\n",
       "      <td>6311.500000</td>\n",
       "      <td>6154.500000</td>\n",
       "    </tr>\n",
       "    <tr>\n",
       "      <th>4</th>\n",
       "      <td>금남면</td>\n",
       "      <td>9476.416667</td>\n",
       "      <td>9171.250000</td>\n",
       "      <td>8838.750000</td>\n",
       "      <td>8685.333333</td>\n",
       "    </tr>\n",
       "    <tr>\n",
       "      <th>5</th>\n",
       "      <td>장군면</td>\n",
       "      <td>6318.583333</td>\n",
       "      <td>6184.583333</td>\n",
       "      <td>6147.916667</td>\n",
       "      <td>6385.250000</td>\n",
       "    </tr>\n",
       "    <tr>\n",
       "      <th>6</th>\n",
       "      <td>연서면</td>\n",
       "      <td>7913.583333</td>\n",
       "      <td>7780.333333</td>\n",
       "      <td>7625.166667</td>\n",
       "      <td>7426.333333</td>\n",
       "    </tr>\n",
       "    <tr>\n",
       "      <th>7</th>\n",
       "      <td>전의면</td>\n",
       "      <td>6332.500000</td>\n",
       "      <td>6115.583333</td>\n",
       "      <td>5851.500000</td>\n",
       "      <td>5643.916667</td>\n",
       "    </tr>\n",
       "    <tr>\n",
       "      <th>8</th>\n",
       "      <td>전동면</td>\n",
       "      <td>3886.166667</td>\n",
       "      <td>3772.083333</td>\n",
       "      <td>3715.750000</td>\n",
       "      <td>3591.916667</td>\n",
       "    </tr>\n",
       "    <tr>\n",
       "      <th>9</th>\n",
       "      <td>소정면</td>\n",
       "      <td>2805.583333</td>\n",
       "      <td>2711.166667</td>\n",
       "      <td>2582.250000</td>\n",
       "      <td>2449.250000</td>\n",
       "    </tr>\n",
       "    <tr>\n",
       "      <th>10</th>\n",
       "      <td>한솔동</td>\n",
       "      <td>28550.250000</td>\n",
       "      <td>19556.833333</td>\n",
       "      <td>19323.666667</td>\n",
       "      <td>19404.583333</td>\n",
       "    </tr>\n",
       "    <tr>\n",
       "      <th>11</th>\n",
       "      <td>새롬동</td>\n",
       "      <td>5575.833333</td>\n",
       "      <td>38313.083333</td>\n",
       "      <td>49364.166667</td>\n",
       "      <td>44020.750000</td>\n",
       "    </tr>\n",
       "    <tr>\n",
       "      <th>12</th>\n",
       "      <td>도담동</td>\n",
       "      <td>32109.166667</td>\n",
       "      <td>32323.250000</td>\n",
       "      <td>32216.916667</td>\n",
       "      <td>33828.083333</td>\n",
       "    </tr>\n",
       "    <tr>\n",
       "      <th>13</th>\n",
       "      <td>아름동</td>\n",
       "      <td>26623.416667</td>\n",
       "      <td>24118.833333</td>\n",
       "      <td>23815.083333</td>\n",
       "      <td>23744.416667</td>\n",
       "    </tr>\n",
       "    <tr>\n",
       "      <th>14</th>\n",
       "      <td>종촌동</td>\n",
       "      <td>30448.833333</td>\n",
       "      <td>30172.333333</td>\n",
       "      <td>29752.500000</td>\n",
       "      <td>29846.250000</td>\n",
       "    </tr>\n",
       "    <tr>\n",
       "      <th>15</th>\n",
       "      <td>고운동</td>\n",
       "      <td>24058.500000</td>\n",
       "      <td>27260.916667</td>\n",
       "      <td>32476.583333</td>\n",
       "      <td>34221.083333</td>\n",
       "    </tr>\n",
       "    <tr>\n",
       "      <th>16</th>\n",
       "      <td>소담동</td>\n",
       "      <td>0.000000</td>\n",
       "      <td>8511.500000</td>\n",
       "      <td>23137.833333</td>\n",
       "      <td>31109.666667</td>\n",
       "    </tr>\n",
       "    <tr>\n",
       "      <th>17</th>\n",
       "      <td>보람동</td>\n",
       "      <td>19685.583333</td>\n",
       "      <td>23849.916667</td>\n",
       "      <td>17589.750000</td>\n",
       "      <td>19498.166667</td>\n",
       "    </tr>\n",
       "    <tr>\n",
       "      <th>18</th>\n",
       "      <td>대평동</td>\n",
       "      <td>0.000000</td>\n",
       "      <td>2942.333333</td>\n",
       "      <td>10059.250000</td>\n",
       "      <td>10786.500000</td>\n",
       "    </tr>\n",
       "    <tr>\n",
       "      <th>19</th>\n",
       "      <td>다정동</td>\n",
       "      <td>0.000000</td>\n",
       "      <td>0.000000</td>\n",
       "      <td>0.000000</td>\n",
       "      <td>10993.833333</td>\n",
       "    </tr>\n",
       "  </tbody>\n",
       "</table>\n",
       "</div>"
      ],
      "text/plain": [
       "   index         2017년         2018년         2019년         2020년\n",
       "0   조치원읍  45579.666667  44508.750000  43405.500000  42747.666667\n",
       "1    연기면   2689.833333   2670.000000   2591.833333   2574.750000\n",
       "2    연동면   3498.500000   3319.916667   3200.583333   3137.416667\n",
       "3    부강면   6562.583333   6354.083333   6311.500000   6154.500000\n",
       "4    금남면   9476.416667   9171.250000   8838.750000   8685.333333\n",
       "5    장군면   6318.583333   6184.583333   6147.916667   6385.250000\n",
       "6    연서면   7913.583333   7780.333333   7625.166667   7426.333333\n",
       "7    전의면   6332.500000   6115.583333   5851.500000   5643.916667\n",
       "8    전동면   3886.166667   3772.083333   3715.750000   3591.916667\n",
       "9    소정면   2805.583333   2711.166667   2582.250000   2449.250000\n",
       "10   한솔동  28550.250000  19556.833333  19323.666667  19404.583333\n",
       "11   새롬동   5575.833333  38313.083333  49364.166667  44020.750000\n",
       "12   도담동  32109.166667  32323.250000  32216.916667  33828.083333\n",
       "13   아름동  26623.416667  24118.833333  23815.083333  23744.416667\n",
       "14   종촌동  30448.833333  30172.333333  29752.500000  29846.250000\n",
       "15   고운동  24058.500000  27260.916667  32476.583333  34221.083333\n",
       "16   소담동      0.000000   8511.500000  23137.833333  31109.666667\n",
       "17   보람동  19685.583333  23849.916667  17589.750000  19498.166667\n",
       "18   대평동      0.000000   2942.333333  10059.250000  10786.500000\n",
       "19   다정동      0.000000      0.000000      0.000000  10993.833333"
      ]
     },
     "execution_count": 36,
     "metadata": {},
     "output_type": "execute_result"
    }
   ],
   "source": [
    "df_1"
   ]
  },
  {
   "cell_type": "markdown",
   "metadata": {},
   "source": [
    "* 생성한 데이터를 csv로 저장"
   ]
  },
  {
   "cell_type": "code",
   "execution_count": 35,
   "metadata": {},
   "outputs": [],
   "source": [
    "df_1.to_csv('./Data/people_amt_years.csv',index=False,encoding='utf-8')"
   ]
  },
  {
   "cell_type": "code",
   "execution_count": null,
   "metadata": {},
   "outputs": [],
   "source": []
  }
 ],
 "metadata": {
  "kernelspec": {
   "display_name": "Python 3",
   "language": "python",
   "name": "python3"
  },
  "language_info": {
   "codemirror_mode": {
    "name": "ipython",
    "version": 3
   },
   "file_extension": ".py",
   "mimetype": "text/x-python",
   "name": "python",
   "nbconvert_exporter": "python",
   "pygments_lexer": "ipython3",
   "version": "3.8.5"
  }
 },
 "nbformat": 4,
 "nbformat_minor": 4
}
